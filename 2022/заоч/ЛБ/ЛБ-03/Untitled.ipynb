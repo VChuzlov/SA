{
 "cells": [
  {
   "cell_type": "code",
   "execution_count": 29,
   "id": "870ae916",
   "metadata": {},
   "outputs": [],
   "source": [
    "import pandas as pd\n",
    "import numpy as np"
   ]
  },
  {
   "cell_type": "code",
   "execution_count": 30,
   "id": "e4b6a162",
   "metadata": {},
   "outputs": [],
   "source": [
    "df = pd.read_excel('data.xlsx')"
   ]
  },
  {
   "cell_type": "code",
   "execution_count": 31,
   "id": "d4199244",
   "metadata": {},
   "outputs": [
    {
     "data": {
      "text/html": [
       "<div>\n",
       "<style scoped>\n",
       "    .dataframe tbody tr th:only-of-type {\n",
       "        vertical-align: middle;\n",
       "    }\n",
       "\n",
       "    .dataframe tbody tr th {\n",
       "        vertical-align: top;\n",
       "    }\n",
       "\n",
       "    .dataframe thead th {\n",
       "        text-align: right;\n",
       "    }\n",
       "</style>\n",
       "<table border=\"1\" class=\"dataframe\">\n",
       "  <thead>\n",
       "    <tr style=\"text-align: right;\">\n",
       "      <th></th>\n",
       "      <th>v</th>\n",
       "      <th>c0</th>\n",
       "      <th>c1</th>\n",
       "      <th>c2</th>\n",
       "      <th>c3</th>\n",
       "    </tr>\n",
       "  </thead>\n",
       "  <tbody>\n",
       "    <tr>\n",
       "      <th>0</th>\n",
       "      <td>1</td>\n",
       "      <td>0.882497</td>\n",
       "      <td>0.112549</td>\n",
       "      <td>0.004954</td>\n",
       "      <td>0.122458</td>\n",
       "    </tr>\n",
       "    <tr>\n",
       "      <th>1</th>\n",
       "      <td>1</td>\n",
       "      <td>0.778800</td>\n",
       "      <td>0.202702</td>\n",
       "      <td>0.018498</td>\n",
       "      <td>0.239698</td>\n",
       "    </tr>\n",
       "    <tr>\n",
       "      <th>2</th>\n",
       "      <td>1</td>\n",
       "      <td>0.687290</td>\n",
       "      <td>0.273834</td>\n",
       "      <td>0.038876</td>\n",
       "      <td>0.351587</td>\n",
       "    </tr>\n",
       "    <tr>\n",
       "      <th>3</th>\n",
       "      <td>1</td>\n",
       "      <td>0.606523</td>\n",
       "      <td>0.328894</td>\n",
       "      <td>0.064583</td>\n",
       "      <td>0.458060</td>\n",
       "    </tr>\n",
       "    <tr>\n",
       "      <th>4</th>\n",
       "      <td>1</td>\n",
       "      <td>0.535250</td>\n",
       "      <td>0.370369</td>\n",
       "      <td>0.094381</td>\n",
       "      <td>0.559131</td>\n",
       "    </tr>\n",
       "    <tr>\n",
       "      <th>...</th>\n",
       "      <td>...</td>\n",
       "      <td>...</td>\n",
       "      <td>...</td>\n",
       "      <td>...</td>\n",
       "      <td>...</td>\n",
       "    </tr>\n",
       "    <tr>\n",
       "      <th>225</th>\n",
       "      <td>23</td>\n",
       "      <td>0.377622</td>\n",
       "      <td>0.169341</td>\n",
       "      <td>0.414096</td>\n",
       "      <td>0.208281</td>\n",
       "    </tr>\n",
       "    <tr>\n",
       "      <th>226</th>\n",
       "      <td>23</td>\n",
       "      <td>0.357377</td>\n",
       "      <td>0.131807</td>\n",
       "      <td>0.417054</td>\n",
       "      <td>0.225570</td>\n",
       "    </tr>\n",
       "    <tr>\n",
       "      <th>227</th>\n",
       "      <td>23</td>\n",
       "      <td>0.342363</td>\n",
       "      <td>0.103226</td>\n",
       "      <td>0.418500</td>\n",
       "      <td>0.239137</td>\n",
       "    </tr>\n",
       "    <tr>\n",
       "      <th>228</th>\n",
       "      <td>23</td>\n",
       "      <td>0.331123</td>\n",
       "      <td>0.081315</td>\n",
       "      <td>0.419070</td>\n",
       "      <td>0.249808</td>\n",
       "    </tr>\n",
       "    <tr>\n",
       "      <th>229</th>\n",
       "      <td>23</td>\n",
       "      <td>0.322459</td>\n",
       "      <td>0.064227</td>\n",
       "      <td>0.419310</td>\n",
       "      <td>0.258232</td>\n",
       "    </tr>\n",
       "  </tbody>\n",
       "</table>\n",
       "<p>230 rows × 5 columns</p>\n",
       "</div>"
      ],
      "text/plain": [
       "      v        c0        c1        c2        c3\n",
       "0     1  0.882497  0.112549  0.004954  0.122458\n",
       "1     1  0.778800  0.202702  0.018498  0.239698\n",
       "2     1  0.687290  0.273834  0.038876  0.351587\n",
       "3     1  0.606523  0.328894  0.064583  0.458060\n",
       "4     1  0.535250  0.370369  0.094381  0.559131\n",
       "..   ..       ...       ...       ...       ...\n",
       "225  23  0.377622  0.169341  0.414096  0.208281\n",
       "226  23  0.357377  0.131807  0.417054  0.225570\n",
       "227  23  0.342363  0.103226  0.418500  0.239137\n",
       "228  23  0.331123  0.081315  0.419070  0.249808\n",
       "229  23  0.322459  0.064227  0.419310  0.258232\n",
       "\n",
       "[230 rows x 5 columns]"
      ]
     },
     "execution_count": 31,
     "metadata": {},
     "output_type": "execute_result"
    }
   ],
   "source": [
    "df"
   ]
  },
  {
   "cell_type": "code",
   "execution_count": 32,
   "id": "b0cd5102",
   "metadata": {},
   "outputs": [],
   "source": [
    "v = [i for i in range(1, 24)]"
   ]
  },
  {
   "cell_type": "code",
   "execution_count": 33,
   "id": "f38c3733",
   "metadata": {},
   "outputs": [],
   "source": [
    "data_by_var = [df[df['v'] == var] for var in v]"
   ]
  },
  {
   "cell_type": "code",
   "execution_count": 34,
   "id": "9bb2dd72",
   "metadata": {},
   "outputs": [],
   "source": [
    "flat_data_by_var = [var.values[:, 1:].flatten() for var in data_by_var]"
   ]
  },
  {
   "cell_type": "code",
   "execution_count": 35,
   "id": "3ec20370",
   "metadata": {},
   "outputs": [],
   "source": [
    "fnames = ['var' + str(i) + '.txt' for i in range(1, 24)]"
   ]
  },
  {
   "cell_type": "code",
   "execution_count": 36,
   "id": "c6a8113b",
   "metadata": {},
   "outputs": [],
   "source": [
    "_ = [np.savetxt(name, data) for name, data in zip(fnames, flat_data_by_var)]"
   ]
  },
  {
   "cell_type": "code",
   "execution_count": null,
   "id": "021bc085",
   "metadata": {},
   "outputs": [],
   "source": []
  }
 ],
 "metadata": {
  "kernelspec": {
   "display_name": "Python 3 (ipykernel)",
   "language": "python",
   "name": "python3"
  },
  "language_info": {
   "codemirror_mode": {
    "name": "ipython",
    "version": 3
   },
   "file_extension": ".py",
   "mimetype": "text/x-python",
   "name": "python",
   "nbconvert_exporter": "python",
   "pygments_lexer": "ipython3",
   "version": "3.9.7"
  }
 },
 "nbformat": 4,
 "nbformat_minor": 5
}
