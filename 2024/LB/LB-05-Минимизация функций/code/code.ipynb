{
 "cells": [
  {
   "cell_type": "code",
   "execution_count": 1,
   "metadata": {},
   "outputs": [],
   "source": [
    "import numpy as np\n",
    "from scipy.optimize import minimize"
   ]
  },
  {
   "cell_type": "markdown",
   "metadata": {},
   "source": [
    "### Задание 1\n",
    "\n",
    "Найдите минимум следующих функций, используя методы минимизации, доступные в функции `scipy.optimize.minimize()`. Начальное приближение: $x_0 = \\left[0, 0\\right]$.\n",
    "\n",
    "1. Функция Экли:\n",
    "$$\n",
    "\tf(x,y) = -20\\exp\\left[-0.2\\sqrt{0.5\\left(x^2 + y^2\\right)}\\right] - \\exp\\left[0.5\\left(\\cos\\left(2\\pi x\\right) + \\cos\\left(2\\pi y\\right)\\right)\\right] + e + 20\n",
    "$$\n",
    "\n",
    "2. Функция Била:\n",
    "$$\n",
    "\t\tf(x,y) = \\left(1.5 - x + xy\\right)^2 + \\left(2.25 - x + xy^2\\right)^2 + \\left(2.625 - x + xy^3\\right)^2\n",
    "$$\n",
    "\n",
    "3. Функция Гольдшейна-Прайса:\n",
    "$$\n",
    "\\begin{split}\n",
    "\t\tf(x,y) = \\left[1 + \\left(x + y + 1\\right)^2\\left(19 - 14x + 3x^2 - 14y + 6xy + 3y^2\\right)\\right] \\cdot \\\\ \\cdot \\left[30 + \\left(2x - 3y\\right)^2 \\left(18 - 32x + 12x^2 + 48y - 36xy + 27y^2\\right)\\right]\n",
    "\t\\end{split}\n",
    "$$\n",
    "\n",
    "4. Функция Матьяса:\n",
    "$$\n",
    "\t\tf(x,y) = 0.26\\left(x^2 + y^2\\right) - 0.48xy\n",
    "$$"
   ]
  },
  {
   "cell_type": "code",
   "execution_count": 2,
   "metadata": {},
   "outputs": [],
   "source": [
    "def f1(vars: np.ndarray) -> float:\n",
    "    x, y = vars\n",
    "    res = (\n",
    "        -20 * np.exp(-.2 * (.5 * (x ** 2 + y ** 2)) ** .5)\n",
    "        - np.exp(.5 * (np.cos(2 * np.pi * x)) + np.cos(2 * np.pi * y))\n",
    "        + np.e + 20\n",
    "    )\n",
    "    return res"
   ]
  },
  {
   "cell_type": "code",
   "execution_count": 3,
   "metadata": {},
   "outputs": [],
   "source": [
    "def f2(vars: np.ndarray) -> float:\n",
    "    x, y = vars\n",
    "    res = (\n",
    "        (1.5 - x + x * y) ** 2 \n",
    "        + (2.25 - x + x * y ** 2) ** 2 \n",
    "        + (2.625 - x + x * y ** 3) ** 2)\n",
    "    return res"
   ]
  },
  {
   "cell_type": "code",
   "execution_count": 4,
   "metadata": {},
   "outputs": [],
   "source": [
    "def f3(vars: np.ndarray) -> float:\n",
    "    x, y = vars\n",
    "    res = (\n",
    "        (1 + (x + y + 1) ** 2 \n",
    "         * (19 - 14 * x + 3 * x ** 2 - 14 * y + 6 * x * y + 3 * y ** 2))\n",
    "         * (30 + (2 * x - 3 * y) ** 2 \n",
    "            * (18 - 32 * x + 12 * x ** 2 \n",
    "               + 48 * y - 36 * x * y + 27 * y ** 2))\n",
    "    )\n",
    "    return res"
   ]
  },
  {
   "cell_type": "code",
   "execution_count": 5,
   "metadata": {},
   "outputs": [],
   "source": [
    "def f4(vars: np.ndarray) -> float:\n",
    "    x, y = vars\n",
    "    res = .26 * (x ** 2 + y ** 2) - .48 * x * y\n",
    "    return res\n"
   ]
  },
  {
   "cell_type": "code",
   "execution_count": 6,
   "metadata": {},
   "outputs": [],
   "source": [
    "functions_list = [f1, f2, f3, f4]"
   ]
  },
  {
   "cell_type": "code",
   "execution_count": 16,
   "metadata": {},
   "outputs": [
    {
     "name": "stdout",
     "output_type": "stream",
     "text": [
      "-1.7633954784177526 [-3.01558360e-06 -2.86362133e-06] True\n",
      "3.9119308661697416e-07 [2.99893098 0.49982984] True\n",
      "30.000000012793894 [-0.60000137 -0.39999581] True\n",
      "0.0 [0. 0.] True\n"
     ]
    }
   ],
   "source": [
    "for function in functions_list:\n",
    "    res = minimize(\n",
    "        fun=function,\n",
    "        x0=[0, 0],\n",
    "        method=''\n",
    "    )\n",
    "    print(res.fun, res.x, res.success)"
   ]
  },
  {
   "cell_type": "markdown",
   "metadata": {},
   "source": [
    "### Задание 2\n",
    "\n",
    "Пусть дана схема химических превращений:\n",
    "\n",
    "$$\n",
    "\tA\\xrightarrow{k_1}2B \\xleftrightarrow[k_3]{k_2}C\n",
    "$$\n",
    "\n",
    "Необходимо определить с помощью генетического алгоритма и метода Нелдера-Мида (можно воспользоваться функцией `scipy.optimize.mnimize()`, указав соответствующее значение опционального аргумента `method`) константы скоростей реакций: $k_1$, $k_2$ и $k_3$, если известно, что к моменту времени $t=1 (\\text{c})$ концентрации компонентов равны: $C_A = 0.1423$; $C_B = 1.5243$; $C_C = 0.5956\\  \\mathrm{моль/л}$.\n",
    "\n",
    "Начальные условия: $C_A(0)=1.0$; $C_B=0.0$; $C_C=0.5\\ \\mathrm{моль/л}$.\n",
    "Область поиска для всех констант ограничьте интервалом $[0;\\ 2]$."
   ]
  },
  {
   "cell_type": "code",
   "execution_count": 19,
   "metadata": {},
   "outputs": [],
   "source": [
    "from scipy.integrate import solve_ivp\n",
    "from genetic_algorithm import genetic_algorithm as ga"
   ]
  },
  {
   "cell_type": "code",
   "execution_count": 17,
   "metadata": {},
   "outputs": [],
   "source": [
    "def kinetic(\n",
    "        t: float,\n",
    "        conc: np.ndarray,\n",
    "        k: np.ndarray\n",
    ") -> tuple[float, float, float]:\n",
    "    a, b, c = conc\n",
    "    k1, k2, k3 = k\n",
    "    dca = -k1 * a\n",
    "    dcb = 2 * (k1 * a - k2 * b ** 2 + k3 * c)\n",
    "    dcc = k2 * b ** 2 - k3 * c\n",
    "    return dca, dcb, dcc"
   ]
  },
  {
   "cell_type": "code",
   "execution_count": 20,
   "metadata": {},
   "outputs": [],
   "source": [
    "def objective_function(\n",
    "        k: np.ndarray,\n",
    "        c_exist: np.ndarray,\n",
    "        c0: np.ndarray,\n",
    "        t: tuple[float, float]\n",
    ") -> float:\n",
    "    sol = solve_ivp(\n",
    "        fun=kinetic,\n",
    "        t_span=t,\n",
    "        y0=c0,\n",
    "        args=(k, )\n",
    "    )\n",
    "    c_calc = sol.y[:, -1]\n",
    "    return ((c_exist - c_calc) ** 2).sum()"
   ]
  },
  {
   "cell_type": "code",
   "execution_count": 24,
   "metadata": {},
   "outputs": [],
   "source": [
    "c_exist = np.array(\n",
    "    [\n",
    "        .1423, 1.5243, .5956\n",
    "    ]\n",
    ")\n",
    "c_init = np.array(\n",
    "    [\n",
    "        1., .0, .5\n",
    "    ]\n",
    ")\n",
    "t = .0, 1."
   ]
  },
  {
   "cell_type": "code",
   "execution_count": 30,
   "metadata": {},
   "outputs": [],
   "source": [
    "bounds = [[0, 2] for _ in range(3)]\n",
    "res_ga = ga(\n",
    "    bounds=bounds,\n",
    "    func=objective_function,\n",
    "    args=(\n",
    "        c_exist,\n",
    "        c_init,\n",
    "        t    \n",
    "    )\n",
    ")"
   ]
  },
  {
   "cell_type": "code",
   "execution_count": 32,
   "metadata": {},
   "outputs": [
    {
     "data": {
      "text/plain": [
       "[1.951862254377227, 0.6028170777233074, 1.9227586245187753]"
      ]
     },
     "execution_count": 32,
     "metadata": {},
     "output_type": "execute_result"
    }
   ],
   "source": [
    "res_ga[0]"
   ]
  },
  {
   "cell_type": "code",
   "execution_count": 28,
   "metadata": {},
   "outputs": [],
   "source": [
    "res = minimize(\n",
    "    fun=objective_function,\n",
    "    x0=[1., 1., 1.],\n",
    "    method='Nelder-Mead',\n",
    "    args=(\n",
    "        c_exist,\n",
    "        c_init,\n",
    "        t\n",
    "    )\n",
    ")"
   ]
  },
  {
   "cell_type": "code",
   "execution_count": 29,
   "metadata": {},
   "outputs": [
    {
     "data": {
      "text/plain": [
       "       message: Optimization terminated successfully.\n",
       "       success: True\n",
       "        status: 0\n",
       "           fun: 1.1149325141431506e-09\n",
       "             x: [ 1.950e+00  3.318e-01  8.320e-01]\n",
       "           nit: 66\n",
       "          nfev: 116\n",
       " final_simplex: (array([[ 1.950e+00,  3.318e-01,  8.320e-01],\n",
       "                       [ 1.950e+00,  3.318e-01,  8.320e-01],\n",
       "                       [ 1.950e+00,  3.318e-01,  8.320e-01],\n",
       "                       [ 1.950e+00,  3.319e-01,  8.321e-01]]), array([ 1.115e-09,  1.132e-09,  1.133e-09,  1.134e-09]))"
      ]
     },
     "execution_count": 29,
     "metadata": {},
     "output_type": "execute_result"
    }
   ],
   "source": [
    "res"
   ]
  },
  {
   "cell_type": "code",
   "execution_count": null,
   "metadata": {},
   "outputs": [],
   "source": []
  }
 ],
 "metadata": {
  "kernelspec": {
   "display_name": "base",
   "language": "python",
   "name": "python3"
  },
  "language_info": {
   "codemirror_mode": {
    "name": "ipython",
    "version": 3
   },
   "file_extension": ".py",
   "mimetype": "text/x-python",
   "name": "python",
   "nbconvert_exporter": "python",
   "pygments_lexer": "ipython3",
   "version": "3.11.5"
  }
 },
 "nbformat": 4,
 "nbformat_minor": 2
}
