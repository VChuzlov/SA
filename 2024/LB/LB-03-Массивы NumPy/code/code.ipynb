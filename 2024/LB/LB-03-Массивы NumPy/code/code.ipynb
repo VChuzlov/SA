{
 "cells": [
  {
   "cell_type": "code",
   "execution_count": 1,
   "metadata": {},
   "outputs": [],
   "source": [
    "import numpy as np"
   ]
  },
  {
   "cell_type": "markdown",
   "metadata": {},
   "source": [
    "### Задание 1\n",
    "\n",
    "Заполните матрицу $a\\left(5,\\ 10\\right)$ случайными целыми числами $\\in \\left[-10;\\ 10\\right]$. Выведите значения ее элементов на экран. \n",
    "1. Найдите произведение минимального элемента матрицы на сумму ее четных элементов. Выведите результат.\n",
    "2. Найдите столбец матрицы с минимальной суммой положительных элементов и выведите индекс этого столбца."
   ]
  },
  {
   "cell_type": "code",
   "execution_count": 2,
   "metadata": {},
   "outputs": [
    {
     "data": {
      "text/plain": [
       "array([[  7,  -9,  -6,  -2,   7,  -2,   1,   4,  -2,   9],\n",
       "       [ 10,   6,   6,   7, -10,  -6,  -5,   0,   0,   2],\n",
       "       [  6,  10,   9,   0,   0,   2,   9, -10,   2, -10],\n",
       "       [  9,   3,   5,   8,   6,  -6,   9,  10,   1,   8],\n",
       "       [ -6,  -5,   7,   8,   5,  -9,   5,   4,   7,   7]])"
      ]
     },
     "execution_count": 2,
     "metadata": {},
     "output_type": "execute_result"
    }
   ],
   "source": [
    "a = np.random.randint(-10, 11, (5, 10))\n",
    "a"
   ]
  },
  {
   "cell_type": "code",
   "execution_count": 6,
   "metadata": {},
   "outputs": [
    {
     "name": "stdout",
     "output_type": "stream",
     "text": [
      "Минимальный элемент: -10\n",
      "Сумма четных элементов: 32\n",
      "Произведение: -320\n"
     ]
    }
   ],
   "source": [
    "# 1 Найдите произведение минимального элемента матрицы на сумму ее четных элементов:\n",
    "\n",
    "min_a = a.min()\n",
    "sum_of_even = a.sum(where = a % 2 == 0)\n",
    "prod = min_a * sum_of_even\n",
    "print(\n",
    "    (\n",
    "        f'Минимальный элемент: {min_a}\\n'\n",
    "        f'Сумма четных элементов: {sum_of_even}\\n'\n",
    "        f'Произведение: {prod}'\n",
    "    )\n",
    ")"
   ]
  },
  {
   "cell_type": "code",
   "execution_count": 9,
   "metadata": {},
   "outputs": [
    {
     "name": "stdout",
     "output_type": "stream",
     "text": [
      "Столбец номер 5 имеет минимальную сумму положительный элементов = 2\n"
     ]
    }
   ],
   "source": [
    "# 2 Найдите столбец матрицы с минимальной суммой положительных элементов и выведите индекс этого столбца:\n",
    "\n",
    "sum_of_cols = a.sum(axis=0, where = a > 0)\n",
    "icol = np.argmin(sum_of_cols)\n",
    "print(f'Столбец номер {icol} имеет минимальную сумму положительный элементов = {sum_of_cols[icol]}')"
   ]
  },
  {
   "cell_type": "code",
   "execution_count": null,
   "metadata": {},
   "outputs": [],
   "source": []
  }
 ],
 "metadata": {
  "kernelspec": {
   "display_name": "base",
   "language": "python",
   "name": "python3"
  },
  "language_info": {
   "codemirror_mode": {
    "name": "ipython",
    "version": 3
   },
   "file_extension": ".py",
   "mimetype": "text/x-python",
   "name": "python",
   "nbconvert_exporter": "python",
   "pygments_lexer": "ipython3",
   "version": "3.10.9"
  }
 },
 "nbformat": 4,
 "nbformat_minor": 2
}
