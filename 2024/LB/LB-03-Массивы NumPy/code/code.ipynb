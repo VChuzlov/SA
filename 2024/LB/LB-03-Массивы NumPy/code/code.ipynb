{
 "cells": [
  {
   "cell_type": "code",
   "execution_count": 1,
   "metadata": {},
   "outputs": [],
   "source": [
    "import numpy as np"
   ]
  },
  {
   "cell_type": "markdown",
   "metadata": {},
   "source": [
    "### Задание 1\n",
    "\n",
    "Заполните матрицу $a\\left(5,\\ 10\\right)$ случайными целыми числами $\\in \\left[-10;\\ 10\\right]$. Выведите значения ее элементов на экран. \n",
    "1. Найдите произведение минимального элемента матрицы на сумму ее четных элементов. Выведите результат.\n",
    "2. Найдите столбец матрицы с минимальной суммой положительных элементов и выведите индекс этого столбца."
   ]
  },
  {
   "cell_type": "code",
   "execution_count": 2,
   "metadata": {},
   "outputs": [
    {
     "data": {
      "text/plain": [
       "array([[  7,  -9,  -6,  -2,   7,  -2,   1,   4,  -2,   9],\n",
       "       [ 10,   6,   6,   7, -10,  -6,  -5,   0,   0,   2],\n",
       "       [  6,  10,   9,   0,   0,   2,   9, -10,   2, -10],\n",
       "       [  9,   3,   5,   8,   6,  -6,   9,  10,   1,   8],\n",
       "       [ -6,  -5,   7,   8,   5,  -9,   5,   4,   7,   7]])"
      ]
     },
     "execution_count": 2,
     "metadata": {},
     "output_type": "execute_result"
    }
   ],
   "source": [
    "a = np.random.randint(-10, 11, (5, 10))\n",
    "a"
   ]
  },
  {
   "cell_type": "code",
   "execution_count": 6,
   "metadata": {},
   "outputs": [
    {
     "name": "stdout",
     "output_type": "stream",
     "text": [
      "Минимальный элемент: -10\n",
      "Сумма четных элементов: 32\n",
      "Произведение: -320\n"
     ]
    }
   ],
   "source": [
    "# 1 Найдите произведение минимального элемента матрицы на сумму ее четных элементов:\n",
    "\n",
    "min_a = a.min()\n",
    "sum_of_even = a.sum(where = a % 2 == 0)\n",
    "prod = min_a * sum_of_even\n",
    "print(\n",
    "    (\n",
    "        f'Минимальный элемент: {min_a}\\n'\n",
    "        f'Сумма четных элементов: {sum_of_even}\\n'\n",
    "        f'Произведение: {prod}'\n",
    "    )\n",
    ")"
   ]
  },
  {
   "cell_type": "code",
   "execution_count": 9,
   "metadata": {},
   "outputs": [
    {
     "name": "stdout",
     "output_type": "stream",
     "text": [
      "Столбец номер 5 имеет минимальную сумму положительный элементов = 2\n"
     ]
    }
   ],
   "source": [
    "# 2 Найдите столбец матрицы с минимальной суммой положительных элементов и выведите индекс этого столбца:\n",
    "\n",
    "sum_of_cols = a.sum(axis=0, where = a > 0)\n",
    "icol = np.argmin(sum_of_cols)\n",
    "print(f'Столбец номер {icol} имеет минимальную сумму положительный элементов = {sum_of_cols[icol]}')"
   ]
  },
  {
   "cell_type": "markdown",
   "metadata": {},
   "source": [
    "### Задание 2\n",
    "\n",
    "По имеющимся исходным данным, используя массивы NumPy, определите:\n",
    "\n",
    "1. Состав потока в мольных долях:\n",
    "\n",
    "$$\n",
    "    \\chi _i = \\dfrac{\\dfrac{\\omega _i}{M_i}}{\\sum \\limits_{i=1}^{n}\\dfrac{\\omega _i}{M_i}}\n",
    "$$\n",
    "\n",
    "где $\\chi _i$ - мольная доля $i$-го компонента; $\\omega _i$ - массовая доля $i$-го компонента; $M_i$ - молярная масса $i$-го компонента; $n$ - число компонентов в системе; $i$ - индекс компонента в системе.\n",
    "\n",
    "2. Плотность потока:\n",
    "\n",
    "$$\n",
    "    \\rho = \\dfrac{1}{\\sum \\limits_{i=1}^{n}\\dfrac{\\omega_i}{\\rho_i}}\n",
    "$$\n",
    "\n",
    "где $\\rho$ - плотность потока; $\\omega _i$ - массовая доля $i$-го компонента; $\\rho _i$ - плотность $i$-го компонента; $n$ - число компонентов в системе; $i$ - индекс компонента в системе.\n",
    "\n",
    "3. Среднюю молекулярную массу потока:\n",
    "\n",
    "$$\n",
    "    m = \\dfrac{1}{\\sum \\limits_{i=1}^{n}\\dfrac{\\omega_i}{M_i}}\n",
    "$$\n",
    "\n",
    "где $m$ - средняя молекулярная масса потока; $\\omega _i$ - массовая доля $i$-го компонента; $M_i$ - молярная масса $i$-го компонента; $n$ - число компонентов в системе; $i$ - индекс компонента в системе.\n",
    "\n",
    "##### Исходные данные\n",
    "\n",
    "|Параметр|$C_1$|$C_2$|$C_3$|$iC_4$|$nC_4$|$iC_5$|$nC_5$|$nC_6$|\n",
    "|:-|:-:|:-:|:-:|:-:|:-:|:-:|:-:|:-:|\n",
    "|$\\omega _i$|0.1|0.1|0.1|0.4|0.2|0.05|0.03|0.02|\n",
    "|$\\rho _i$, г/см$^3$|0.416 |0.546|0.585|0.5510|0.6|0.616|0.6262|0.6594|\n",
    "|$M _i$, г/моль|16 |30|44|58|58|72|72|86|\n",
    "\n",
    "> Вычисления необходимо реализовать в **виде функций**."
   ]
  },
  {
   "cell_type": "code",
   "execution_count": 14,
   "metadata": {},
   "outputs": [],
   "source": [
    "def mass_to_mole_fractions(\n",
    "        mf: np.ndarray,\n",
    "        mr: np.ndarray\n",
    ") -> np.ndarray:\n",
    "    mf_by_mr = mf / mr\n",
    "    s = mf_by_mr.sum()\n",
    "    return mf_by_mr / s\n",
    "\n",
    "def get_flow_property(\n",
    "        mf: np.ndarray,\n",
    "        prop: np.ndarray\n",
    ") -> float:\n",
    "    return (mf / prop).sum() ** -1"
   ]
  },
  {
   "cell_type": "code",
   "execution_count": 12,
   "metadata": {},
   "outputs": [],
   "source": [
    "mf = np.array(\n",
    "    [.1, .1, .1, .4, .2, .05, .03, .02]\n",
    ")\n",
    "rho = np.array(\n",
    "    [.416, .546, .585, .551, .6, .616, .6262, .6594]\n",
    ")\n",
    "mr = np.array(\n",
    "    [16, 30, 44, 58, 58, 72, 72, 86]\n",
    ")"
   ]
  },
  {
   "cell_type": "code",
   "execution_count": 16,
   "metadata": {},
   "outputs": [
    {
     "data": {
      "text/plain": [
       "(array([0.26545413, 0.14157554, 0.09652877, 0.2929149 , 0.14645745,\n",
       "        0.0294949 , 0.01769694, 0.00987736]),\n",
       " 1.0)"
      ]
     },
     "execution_count": 16,
     "metadata": {},
     "output_type": "execute_result"
    }
   ],
   "source": [
    "mole_fractions = mass_to_mole_fractions(mf, mr)\n",
    "mole_fractions, mole_fractions.sum()"
   ]
  },
  {
   "cell_type": "code",
   "execution_count": 17,
   "metadata": {},
   "outputs": [
    {
     "data": {
      "text/plain": [
       "0.5515207014243224"
      ]
     },
     "execution_count": 17,
     "metadata": {},
     "output_type": "execute_result"
    }
   ],
   "source": [
    "flow_den = get_flow_property(mf, rho)\n",
    "flow_den"
   ]
  },
  {
   "cell_type": "code",
   "execution_count": 18,
   "metadata": {},
   "outputs": [
    {
     "data": {
      "text/plain": [
       "42.47266071679689"
      ]
     },
     "execution_count": 18,
     "metadata": {},
     "output_type": "execute_result"
    }
   ],
   "source": [
    "flow_mol_mass = get_flow_property(mf, mr)\n",
    "flow_mol_mass"
   ]
  },
  {
   "cell_type": "code",
   "execution_count": null,
   "metadata": {},
   "outputs": [],
   "source": []
  }
 ],
 "metadata": {
  "kernelspec": {
   "display_name": "base",
   "language": "python",
   "name": "python3"
  },
  "language_info": {
   "codemirror_mode": {
    "name": "ipython",
    "version": 3
   },
   "file_extension": ".py",
   "mimetype": "text/x-python",
   "name": "python",
   "nbconvert_exporter": "python",
   "pygments_lexer": "ipython3",
   "version": "3.10.9"
  }
 },
 "nbformat": 4,
 "nbformat_minor": 2
}
