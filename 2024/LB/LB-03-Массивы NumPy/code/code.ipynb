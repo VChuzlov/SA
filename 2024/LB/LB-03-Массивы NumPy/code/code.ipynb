{
 "cells": [
  {
   "cell_type": "code",
   "execution_count": 1,
   "metadata": {},
   "outputs": [],
   "source": [
    "import numpy as np"
   ]
  },
  {
   "cell_type": "markdown",
   "metadata": {},
   "source": [
    "### Задание 1\n",
    "\n",
    "Заполните матрицу $a\\left(5,\\ 10\\right)$ случайными целыми числами $\\in \\left[-10;\\ 10\\right]$. Выведите значения ее элементов на экран. \n",
    "1. Найдите произведение минимального элемента матрицы на сумму ее четных элементов. Выведите результат.\n",
    "2. Найдите столбец матрицы с минимальной суммой положительных элементов и выведите индекс этого столбца."
   ]
  },
  {
   "cell_type": "code",
   "execution_count": 2,
   "metadata": {},
   "outputs": [
    {
     "data": {
      "text/plain": [
       "array([[  7,  -9,  -6,  -2,   7,  -2,   1,   4,  -2,   9],\n",
       "       [ 10,   6,   6,   7, -10,  -6,  -5,   0,   0,   2],\n",
       "       [  6,  10,   9,   0,   0,   2,   9, -10,   2, -10],\n",
       "       [  9,   3,   5,   8,   6,  -6,   9,  10,   1,   8],\n",
       "       [ -6,  -5,   7,   8,   5,  -9,   5,   4,   7,   7]])"
      ]
     },
     "execution_count": 2,
     "metadata": {},
     "output_type": "execute_result"
    }
   ],
   "source": [
    "a = np.random.randint(-10, 11, (5, 10))\n",
    "a"
   ]
  },
  {
   "cell_type": "code",
   "execution_count": 6,
   "metadata": {},
   "outputs": [
    {
     "name": "stdout",
     "output_type": "stream",
     "text": [
      "Минимальный элемент: -10\n",
      "Сумма четных элементов: 32\n",
      "Произведение: -320\n"
     ]
    }
   ],
   "source": [
    "# 1 Найдите произведение минимального элемента матрицы на сумму ее четных элементов:\n",
    "\n",
    "min_a = a.min()\n",
    "sum_of_even = a.sum(where = a % 2 == 0)\n",
    "prod = min_a * sum_of_even\n",
    "print(\n",
    "    (\n",
    "        f'Минимальный элемент: {min_a}\\n'\n",
    "        f'Сумма четных элементов: {sum_of_even}\\n'\n",
    "        f'Произведение: {prod}'\n",
    "    )\n",
    ")"
   ]
  },
  {
   "cell_type": "code",
   "execution_count": 9,
   "metadata": {},
   "outputs": [
    {
     "name": "stdout",
     "output_type": "stream",
     "text": [
      "Столбец номер 5 имеет минимальную сумму положительный элементов = 2\n"
     ]
    }
   ],
   "source": [
    "# 2 Найдите столбец матрицы с минимальной суммой положительных элементов и выведите индекс этого столбца:\n",
    "\n",
    "sum_of_cols = a.sum(axis=0, where = a > 0)\n",
    "icol = np.argmin(sum_of_cols)\n",
    "print(f'Столбец номер {icol} имеет минимальную сумму положительный элементов = {sum_of_cols[icol]}')"
   ]
  },
  {
   "cell_type": "markdown",
   "metadata": {},
   "source": [
    "### Задание 2\n",
    "\n",
    "По имеющимся исходным данным, используя массивы NumPy, определите:\n",
    "\n",
    "1. Состав потока в мольных долях:\n",
    "\n",
    "$$\n",
    "    \\chi _i = \\dfrac{\\dfrac{\\omega _i}{M_i}}{\\sum \\limits_{i=1}^{n}\\dfrac{\\omega _i}{M_i}}\n",
    "$$\n",
    "\n",
    "где $\\chi _i$ - мольная доля $i$-го компонента; $\\omega _i$ - массовая доля $i$-го компонента; $M_i$ - молярная масса $i$-го компонента; $n$ - число компонентов в системе; $i$ - индекс компонента в системе.\n",
    "\n",
    "2. Плотность потока:\n",
    "\n",
    "$$\n",
    "    \\rho = \\dfrac{1}{\\sum \\limits_{i=1}^{n}\\dfrac{\\omega_i}{\\rho_i}}\n",
    "$$\n",
    "\n",
    "где $\\rho$ - плотность потока; $\\omega _i$ - массовая доля $i$-го компонента; $\\rho _i$ - плотность $i$-го компонента; $n$ - число компонентов в системе; $i$ - индекс компонента в системе.\n",
    "\n",
    "3. Среднюю молекулярную массу потока:\n",
    "\n",
    "$$\n",
    "    m = \\dfrac{1}{\\sum \\limits_{i=1}^{n}\\dfrac{\\omega_i}{M_i}}\n",
    "$$\n",
    "\n",
    "где $m$ - средняя молекулярная масса потока; $\\omega _i$ - массовая доля $i$-го компонента; $M_i$ - молярная масса $i$-го компонента; $n$ - число компонентов в системе; $i$ - индекс компонента в системе.\n",
    "\n",
    "##### Исходные данные\n",
    "\n",
    "|Параметр|$C_1$|$C_2$|$C_3$|$iC_4$|$nC_4$|$iC_5$|$nC_5$|$nC_6$|\n",
    "|:-|:-:|:-:|:-:|:-:|:-:|:-:|:-:|:-:|\n",
    "|$\\omega _i$|0.1|0.1|0.1|0.4|0.2|0.05|0.03|0.02|\n",
    "|$\\rho _i$, г/см$^3$|0.416 |0.546|0.585|0.5510|0.6|0.616|0.6262|0.6594|\n",
    "|$M _i$, г/моль|16 |30|44|58|58|72|72|86|\n",
    "\n",
    "> Вычисления необходимо реализовать в **виде функций**."
   ]
  },
  {
   "cell_type": "code",
   "execution_count": 14,
   "metadata": {},
   "outputs": [],
   "source": [
    "def mass_to_mole_fractions(\n",
    "        mf: np.ndarray,\n",
    "        mr: np.ndarray\n",
    ") -> np.ndarray:\n",
    "    mf_by_mr = mf / mr\n",
    "    s = mf_by_mr.sum()\n",
    "    return mf_by_mr / s\n",
    "\n",
    "def get_flow_property(\n",
    "        mf: np.ndarray,\n",
    "        prop: np.ndarray\n",
    ") -> float:\n",
    "    return (mf / prop).sum() ** -1"
   ]
  },
  {
   "cell_type": "code",
   "execution_count": 12,
   "metadata": {},
   "outputs": [],
   "source": [
    "mf = np.array(\n",
    "    [.1, .1, .1, .4, .2, .05, .03, .02]\n",
    ")\n",
    "rho = np.array(\n",
    "    [.416, .546, .585, .551, .6, .616, .6262, .6594]\n",
    ")\n",
    "mr = np.array(\n",
    "    [16, 30, 44, 58, 58, 72, 72, 86]\n",
    ")"
   ]
  },
  {
   "cell_type": "code",
   "execution_count": 16,
   "metadata": {},
   "outputs": [
    {
     "data": {
      "text/plain": [
       "(array([0.26545413, 0.14157554, 0.09652877, 0.2929149 , 0.14645745,\n",
       "        0.0294949 , 0.01769694, 0.00987736]),\n",
       " 1.0)"
      ]
     },
     "execution_count": 16,
     "metadata": {},
     "output_type": "execute_result"
    }
   ],
   "source": [
    "mole_fractions = mass_to_mole_fractions(mf, mr)\n",
    "mole_fractions, mole_fractions.sum()"
   ]
  },
  {
   "cell_type": "code",
   "execution_count": 17,
   "metadata": {},
   "outputs": [
    {
     "data": {
      "text/plain": [
       "0.5515207014243224"
      ]
     },
     "execution_count": 17,
     "metadata": {},
     "output_type": "execute_result"
    }
   ],
   "source": [
    "flow_den = get_flow_property(mf, rho)\n",
    "flow_den"
   ]
  },
  {
   "cell_type": "code",
   "execution_count": 18,
   "metadata": {},
   "outputs": [
    {
     "data": {
      "text/plain": [
       "42.47266071679689"
      ]
     },
     "execution_count": 18,
     "metadata": {},
     "output_type": "execute_result"
    }
   ],
   "source": [
    "flow_mol_mass = get_flow_property(mf, mr)\n",
    "flow_mol_mass"
   ]
  },
  {
   "cell_type": "markdown",
   "metadata": {},
   "source": [
    "### Задание 3\n",
    "\n",
    "Уравнение Ван-дер-Ваальса, описывающее состояние газа, можно записать в виде следующей формулы как зависимость давления $p$ газа от его молярного объема $V$ и температуры $T$:\n",
    "\n",
    "$$\n",
    "    p = \\dfrac{RT}{V-b} - \\dfrac{a}{V^2}\n",
    "$$\n",
    "\n",
    "где $a$ и $b$ – специальные молекулярные константы, а $R = 8.314$ $\\mathrm{Дж / \\left(моль \\cdot K\\right)}$ – универсальная газовая постоянная. \n",
    "\n",
    "Формулу легко преобразовать для вычисления температуры по заданному давлению и объему, но ее форма, представляющая молярный объем в  отношении к  давлению и температуре, является кубическим уравнением:\n",
    "\n",
    "$$\n",
    "    pV^3 - \\left(pb + RT\\right)V^2 + aV - ab = 0\n",
    "$$\n",
    "\n",
    "Все три корня этого уравнения ниже критической точки ($T_c$, $p_c$) являются действительными: наибольший и наименьший соответствуют молярному объему\n",
    "газообразной фазы и жидкой фазы соответственно. Выше критической точки,\n",
    "где не существует жидкая фаза, только один корень является действительным\n",
    "и  соответствует молярному объему газа (в этой области его также называют\n",
    "сверхкритической жидкостью, или сверхкритической средой). \n",
    "\n",
    "Критическая точка определяется по условию $\\left(\\partial p/\\partial V\\right)_T = \\left(\\partial ^2 p/\\partial V^2\\right)_T = 0$ и для идеального газа Ван-дер-Ваальса выводятся формулы:\n",
    "\n",
    "$$\n",
    "    T_c = \\dfrac{8a}{27Rb} \\qquad p_c = \\dfrac{a}{27b^2}\n",
    "$$\n",
    "\n",
    "Для этана $\\left(C_2H_6\\right)$ константы Ван-дер-Ваальса $a  = 0.5580$ $л^2 \\cdot Па \\cdot м^6 \\cdot моль^{-2}$ и $b = 65.1 \\times 10^{-6} \\space м^3 \\cdot моль^{-1}$.\n",
    "\n",
    "- Реализовать функцию для нахождения критической точки газа по уравнению Ван-дер-Ваальса.\n",
    "- Реализовать функцию для нахождения молярного объема газа с учетом критической точки. Определить молярный объем при комнатной температуре и давлении ($298$ $\\mathrm{К}$, $101325$ $\\mathrm{Па}$) и при следующих условиях: температура $500$ $\\mathrm{К}$, давление $12\\times 10^6$ $\\mathrm{Па}$."
   ]
  },
  {
   "cell_type": "code",
   "execution_count": 24,
   "metadata": {},
   "outputs": [],
   "source": [
    "poly = np.polynomial.Polynomial"
   ]
  },
  {
   "cell_type": "code",
   "execution_count": 19,
   "metadata": {},
   "outputs": [],
   "source": [
    "def calculate_critical_point(\n",
    "        a: float,\n",
    "        b: float,\n",
    "        r: float = 8.314\n",
    ") -> tuple[float, float]:\n",
    "    tc: float = 8 * a / (27 * r * b)\n",
    "    pc: float = a / (27 * b ** 2)\n",
    "    return tc, pc"
   ]
  },
  {
   "cell_type": "code",
   "execution_count": 33,
   "metadata": {},
   "outputs": [],
   "source": [
    "def calculate_gas_molar_volume(\n",
    "        t: float,\n",
    "        p: float,\n",
    "        a: float,\n",
    "        b: float,\n",
    "        r: float = 8.314\n",
    ") -> float:\n",
    "    tc, pc = calculate_critical_point(a, b)\n",
    "    p = poly(\n",
    "        [\n",
    "            -a * b, \n",
    "            a, \n",
    "            -(p * b + r * t), \n",
    "            p\n",
    "        ]\n",
    "    )\n",
    "    \n",
    "    if t > tc and p > pc:\n",
    "        root, = p.roots()\n",
    "        return root\n",
    "    \n",
    "    roots = p.roots()\n",
    "    return roots[np.isreal(roots)].max().real"
   ]
  },
  {
   "cell_type": "code",
   "execution_count": 28,
   "metadata": {},
   "outputs": [],
   "source": [
    "a, b = .558, 65.1e-6"
   ]
  },
  {
   "cell_type": "code",
   "execution_count": 29,
   "metadata": {},
   "outputs": [
    {
     "name": "stdout",
     "output_type": "stream",
     "text": [
      "Критическая точка этана: tc = 305.4706 [K], pc = 4.877e+06 [Pa]\n"
     ]
    }
   ],
   "source": [
    "tc, pc = calculate_critical_point(a, b)\n",
    "print(f'Критическая точка этана: tc = {tc:8.4f} [K], pc = {pc:8.4g} [Pa]')"
   ]
  },
  {
   "cell_type": "code",
   "execution_count": 34,
   "metadata": {},
   "outputs": [
    {
     "name": "stdout",
     "output_type": "stream",
     "text": [
      "Молярный объем этана при 298 [K] и 101325 [Па] равен   0.0243\n"
     ]
    }
   ],
   "source": [
    "t, p = 298, 101325\n",
    "vm = calculate_gas_molar_volume(t, p, a, b)\n",
    "print(f'Молярный объем этана при {t} [K] и {p} [Па] равен {vm:8.4f}')"
   ]
  },
  {
   "cell_type": "code",
   "execution_count": null,
   "metadata": {},
   "outputs": [],
   "source": []
  }
 ],
 "metadata": {
  "kernelspec": {
   "display_name": "base",
   "language": "python",
   "name": "python3"
  },
  "language_info": {
   "codemirror_mode": {
    "name": "ipython",
    "version": 3
   },
   "file_extension": ".py",
   "mimetype": "text/x-python",
   "name": "python",
   "nbconvert_exporter": "python",
   "pygments_lexer": "ipython3",
   "version": "3.10.9"
  }
 },
 "nbformat": 4,
 "nbformat_minor": 2
}
