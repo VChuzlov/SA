{
 "cells": [
  {
   "cell_type": "code",
   "execution_count": 31,
   "metadata": {},
   "outputs": [],
   "source": [
    "import numpy as np"
   ]
  },
  {
   "cell_type": "markdown",
   "metadata": {},
   "source": [
    "### Задание 1\n",
    "\n",
    "Заполните матрицу $a\\left(5,\\ 10\\right)$ случайными целыми числами $\\in \\left[-10;\\ 10\\right]$. Выведите значения ее элементов на экран. \n",
    "1. Найдите произведение минимального элемента матрицы на сумму ее четных элементов. Выведите результат.\n",
    "2. Найдите столбец матрицы с минимальной суммой положительных элементов и выведите индекс этого столбца."
   ]
  },
  {
   "cell_type": "code",
   "execution_count": 32,
   "metadata": {},
   "outputs": [
    {
     "data": {
      "text/plain": [
       "array([[  7,   5,  -6,  -5,  -2,  -6,  -9,   6, -10,   8],\n",
       "       [  8,  -6,   9,  -6,  -8,   0,  -2,   6,   3,   8],\n",
       "       [  3, -10,   7,   3,   2,   4,   5,   6,  -9,   6],\n",
       "       [  6,   3,  -1,  10, -10,   2,   3,  10,   5,  -4],\n",
       "       [ -6,   0,  -8,   3,   6,  -9, -10,   3,  -6,   4]])"
      ]
     },
     "execution_count": 32,
     "metadata": {},
     "output_type": "execute_result"
    }
   ],
   "source": [
    "a = np.random.randint(-10, 11, (5, 10))\n",
    "a"
   ]
  },
  {
   "cell_type": "code",
   "execution_count": 33,
   "metadata": {},
   "outputs": [
    {
     "name": "stdout",
     "output_type": "stream",
     "text": [
      "Минимальный элемент: -10\n",
      "Сумма четных элементов: -8\n",
      "Произведение: 80\n"
     ]
    }
   ],
   "source": [
    "# 1 Найдите произведение минимального элемента матрицы на сумму ее четных элементов:\n",
    "\n",
    "min_a = a.min()\n",
    "sum_of_even = a.sum(where = a % 2 == 0)\n",
    "prod = min_a * sum_of_even\n",
    "print(\n",
    "    (\n",
    "        f'Минимальный элемент: {min_a}\\n'\n",
    "        f'Сумма четных элементов: {sum_of_even}\\n'\n",
    "        f'Произведение: {prod}'\n",
    "    )\n",
    ")"
   ]
  },
  {
   "cell_type": "code",
   "execution_count": 34,
   "metadata": {},
   "outputs": [
    {
     "name": "stdout",
     "output_type": "stream",
     "text": [
      "Столбец номер 5 имеет минимальную сумму положительный элементов = 6\n"
     ]
    }
   ],
   "source": [
    "# 2 Найдите столбец матрицы с минимальной суммой положительных элементов и выведите индекс этого столбца:\n",
    "\n",
    "sum_of_cols = a.sum(axis=0, where = a > 0)\n",
    "icol = np.argmin(sum_of_cols)\n",
    "print(f'Столбец номер {icol} имеет минимальную сумму положительный элементов = {sum_of_cols[icol]}')"
   ]
  },
  {
   "cell_type": "markdown",
   "metadata": {},
   "source": [
    "### Задание 2\n",
    "\n",
    "По имеющимся исходным данным, используя массивы NumPy, определите:\n",
    "\n",
    "1. Состав потока в мольных долях:\n",
    "\n",
    "$$\n",
    "    \\chi _i = \\dfrac{\\dfrac{\\omega _i}{M_i}}{\\sum \\limits_{i=1}^{n}\\dfrac{\\omega _i}{M_i}}\n",
    "$$\n",
    "\n",
    "где $\\chi _i$ - мольная доля $i$-го компонента; $\\omega _i$ - массовая доля $i$-го компонента; $M_i$ - молярная масса $i$-го компонента; $n$ - число компонентов в системе; $i$ - индекс компонента в системе.\n",
    "\n",
    "2. Плотность потока:\n",
    "\n",
    "$$\n",
    "    \\rho = \\dfrac{1}{\\sum \\limits_{i=1}^{n}\\dfrac{\\omega_i}{\\rho_i}}\n",
    "$$\n",
    "\n",
    "где $\\rho$ - плотность потока; $\\omega _i$ - массовая доля $i$-го компонента; $\\rho _i$ - плотность $i$-го компонента; $n$ - число компонентов в системе; $i$ - индекс компонента в системе.\n",
    "\n",
    "3. Среднюю молекулярную массу потока:\n",
    "\n",
    "$$\n",
    "    m = \\dfrac{1}{\\sum \\limits_{i=1}^{n}\\dfrac{\\omega_i}{M_i}}\n",
    "$$\n",
    "\n",
    "где $m$ - средняя молекулярная масса потока; $\\omega _i$ - массовая доля $i$-го компонента; $M_i$ - молярная масса $i$-го компонента; $n$ - число компонентов в системе; $i$ - индекс компонента в системе.\n",
    "\n",
    "##### Исходные данные\n",
    "\n",
    "|Параметр|$C_1$|$C_2$|$C_3$|$iC_4$|$nC_4$|$iC_5$|$nC_5$|$nC_6$|\n",
    "|:-|:-:|:-:|:-:|:-:|:-:|:-:|:-:|:-:|\n",
    "|$\\omega _i$|0.1|0.1|0.1|0.4|0.2|0.05|0.03|0.02|\n",
    "|$\\rho _i$, г/см$^3$|0.416 |0.546|0.585|0.5510|0.6|0.616|0.6262|0.6594|\n",
    "|$M _i$, г/моль|16 |30|44|58|58|72|72|86|\n",
    "\n",
    "> Вычисления необходимо реализовать в **виде функций**."
   ]
  },
  {
   "cell_type": "code",
   "execution_count": 35,
   "metadata": {},
   "outputs": [],
   "source": [
    "def mass_to_mole_fractions(\n",
    "        mf: np.ndarray,\n",
    "        mr: np.ndarray\n",
    ") -> np.ndarray:\n",
    "    mf_by_mr = mf / mr\n",
    "    s = mf_by_mr.sum()\n",
    "    return mf_by_mr / s\n",
    "\n",
    "def get_flow_property(\n",
    "        mf: np.ndarray,\n",
    "        prop: np.ndarray\n",
    ") -> float:\n",
    "    return (mf / prop).sum() ** -1"
   ]
  },
  {
   "cell_type": "code",
   "execution_count": 36,
   "metadata": {},
   "outputs": [],
   "source": [
    "mf = np.array(\n",
    "    [.1, .1, .1, .4, .2, .05, .03, .02]\n",
    ")\n",
    "rho = np.array(\n",
    "    [.416, .546, .585, .551, .6, .616, .6262, .6594]\n",
    ")\n",
    "mr = np.array(\n",
    "    [16, 30, 44, 58, 58, 72, 72, 86]\n",
    ")"
   ]
  },
  {
   "cell_type": "code",
   "execution_count": 37,
   "metadata": {},
   "outputs": [
    {
     "data": {
      "text/plain": [
       "(array([0.26545413, 0.14157554, 0.09652877, 0.2929149 , 0.14645745,\n",
       "        0.0294949 , 0.01769694, 0.00987736]),\n",
       " 1.0)"
      ]
     },
     "execution_count": 37,
     "metadata": {},
     "output_type": "execute_result"
    }
   ],
   "source": [
    "mole_fractions = mass_to_mole_fractions(mf, mr)\n",
    "mole_fractions, mole_fractions.sum()"
   ]
  },
  {
   "cell_type": "code",
   "execution_count": 38,
   "metadata": {},
   "outputs": [
    {
     "data": {
      "text/plain": [
       "0.5515207014243224"
      ]
     },
     "execution_count": 38,
     "metadata": {},
     "output_type": "execute_result"
    }
   ],
   "source": [
    "flow_den = get_flow_property(mf, rho)\n",
    "flow_den"
   ]
  },
  {
   "cell_type": "code",
   "execution_count": 39,
   "metadata": {},
   "outputs": [
    {
     "data": {
      "text/plain": [
       "42.47266071679689"
      ]
     },
     "execution_count": 39,
     "metadata": {},
     "output_type": "execute_result"
    }
   ],
   "source": [
    "flow_mol_mass = get_flow_property(mf, mr)\n",
    "flow_mol_mass"
   ]
  },
  {
   "cell_type": "markdown",
   "metadata": {},
   "source": [
    "### Задание 3\n",
    "\n",
    "Дана температурная зависимость кинематической вязкости воды:\n",
    "\n",
    "|$\\mathrm{T \\space\\left[°C\\right]}$|$0$|$21.1$|$37.8$|$54.4$|$71.1$|$87.8$|$100$|\n",
    "|-|-|-|-|-|-|-|-|\n",
    "|$\\mu_k$ $\\left[10^{-3}\\mathrm{м^2/с}\\right]$|$1.79$|$1.13$|$0.696$|$0.519$|$0.338$|$0.321$|$0.296$|\n",
    "\n",
    "1. Используя метод `fit()` класса `numpy.polynomial.Polynomial` подберите степень полинома (ограничим поиск в пределах $1\\text{-}4$). В качестве критерия используйте среднеквадратичную ошибку:\n",
    "\t$$\n",
    "\t\t\tMSE = \\dfrac{1}{n} \\times \\sum \\limits _{i=1} ^{n} \\left(y_i - \\tilde{y}_i\\right)^2\n",
    "\t$$\n",
    "\tгде $\\mathrm{MSE}$ - среднеквадратичная ошибка; $n$ - количество наблюдений; $y_i$ - фактическое значение; $\\tilde{y}_i$ - предсказанное значение.\n",
    "2. Используя полином с выбранной в пункте 1 степенью, определите значения $\\mu_k$ при $T = 10°, \\space 30°, \\space  60° \\text{ и } 90° \\mathrm{C}$.\n"
   ]
  },
  {
   "cell_type": "code",
   "execution_count": 40,
   "metadata": {},
   "outputs": [],
   "source": [
    "def mse(\n",
    "        y: np.ndarray,\n",
    "        y_calc: np.ndarray\n",
    ") -> float:\n",
    "    n = y.size\n",
    "    return ((y - y_calc) ** 2).sum() / n"
   ]
  },
  {
   "cell_type": "code",
   "execution_count": 41,
   "metadata": {},
   "outputs": [],
   "source": [
    "poly = np.polynomial.Polynomial"
   ]
  },
  {
   "cell_type": "code",
   "execution_count": 42,
   "metadata": {},
   "outputs": [],
   "source": [
    "t = np.array([0, 21.1, 37.8, 54.4, 71.1, 87.8, 100])\n",
    "mu = np.array([1.79, 1.13, .696, .519, .338, .321, .296])"
   ]
  },
  {
   "cell_type": "code",
   "execution_count": 43,
   "metadata": {},
   "outputs": [],
   "source": [
    "poly_list = [poly.fit(x=t, y=mu, deg=i) for i in range(1, 5)]"
   ]
  },
  {
   "cell_type": "code",
   "execution_count": 44,
   "metadata": {},
   "outputs": [
    {
     "name": "stdout",
     "output_type": "stream",
     "text": [
      "MSE for poly with deg 1 is 0.0395\n",
      "MSE for poly with deg 2 is 0.0010\n",
      "MSE for poly with deg 3 is 0.0005\n",
      "MSE for poly with deg 4 is 0.0004\n"
     ]
    }
   ],
   "source": [
    "for i in range(1, 5):\n",
    "    err = mse(\n",
    "        y=mu,\n",
    "        y_calc=poly_list[i-1](t)\n",
    "    )\n",
    "    print(f'MSE for poly with deg {i} is {err:6.4f}')"
   ]
  },
  {
   "cell_type": "code",
   "execution_count": 45,
   "metadata": {},
   "outputs": [
    {
     "data": {
      "text/plain": [
       "array([1.44845402, 0.89193745, 0.42910472, 0.31214588])"
      ]
     },
     "execution_count": 45,
     "metadata": {},
     "output_type": "execute_result"
    }
   ],
   "source": [
    "t_aarray = np.array([10, 30, 60, 90])\n",
    "mu_array = poly_list[-1](t_aarray)\n",
    "mu_array"
   ]
  },
  {
   "cell_type": "markdown",
   "metadata": {},
   "source": [
    "### Задание 4\n",
    "\n",
    "Уравнение Ван-дер-Ваальса, описывающее состояние газа, можно записать в виде следующей формулы как зависимость давления $p$ газа от его молярного объема $V$ и температуры $T$:\n",
    "\n",
    "$$\n",
    "    p = \\dfrac{RT}{V-b} - \\dfrac{a}{V^2}\n",
    "$$\n",
    "\n",
    "где $a$ и $b$ – специальные молекулярные константы, а $R = 8.314$ $\\mathrm{Дж / \\left(моль \\cdot K\\right)}$ – универсальная газовая постоянная. \n",
    "\n",
    "Формулу легко преобразовать для вычисления температуры по заданному давлению и объему, но ее форма, представляющая молярный объем в  отношении к  давлению и температуре, является кубическим уравнением:\n",
    "\n",
    "$$\n",
    "    pV^3 - \\left(pb + RT\\right)V^2 + aV - ab = 0\n",
    "$$\n",
    "\n",
    "Все три корня этого уравнения ниже критической точки ($T_c$, $p_c$) являются действительными: наибольший и наименьший соответствуют молярному объему\n",
    "газообразной фазы и жидкой фазы соответственно. Выше критической точки,\n",
    "где не существует жидкая фаза, только один корень является действительным\n",
    "и  соответствует молярному объему газа (в этой области его также называют\n",
    "сверхкритической жидкостью, или сверхкритической средой). \n",
    "\n",
    "Критическая точка определяется по условию $\\left(\\partial p/\\partial V\\right)_T = \\left(\\partial ^2 p/\\partial V^2\\right)_T = 0$ и для идеального газа Ван-дер-Ваальса выводятся формулы:\n",
    "\n",
    "$$\n",
    "    T_c = \\dfrac{8a}{27Rb} \\qquad p_c = \\dfrac{a}{27b^2}\n",
    "$$\n",
    "\n",
    "Для этана $\\left(C_2H_6\\right)$ константы Ван-дер-Ваальса $a  = 0.5580$ $л^2 \\cdot Па \\cdot м^6 \\cdot моль^{-2}$ и $b = 65.1 \\times 10^{-6} \\space м^3 \\cdot моль^{-1}$.\n",
    "\n",
    "- Реализовать функцию для нахождения критической точки газа по уравнению Ван-дер-Ваальса.\n",
    "- Реализовать функцию для нахождения молярного объема газа с учетом критической точки. Определить молярный объем при комнатной температуре и давлении ($298$ $\\mathrm{К}$, $101325$ $\\mathrm{Па}$) и при следующих условиях: температура $500$ $\\mathrm{К}$, давление $12\\times 10^6$ $\\mathrm{Па}$."
   ]
  },
  {
   "cell_type": "code",
   "execution_count": 46,
   "metadata": {},
   "outputs": [],
   "source": [
    "poly = np.polynomial.Polynomial"
   ]
  },
  {
   "cell_type": "code",
   "execution_count": 47,
   "metadata": {},
   "outputs": [],
   "source": [
    "def calculate_critical_point(\n",
    "        a: float,\n",
    "        b: float,\n",
    "        r: float = 8.314\n",
    ") -> tuple[float, float]:\n",
    "    tc: float = 8 * a / (27 * r * b)\n",
    "    pc: float = a / (27 * b ** 2)\n",
    "    return tc, pc"
   ]
  },
  {
   "cell_type": "code",
   "execution_count": 48,
   "metadata": {},
   "outputs": [],
   "source": [
    "def calculate_gas_molar_volume(\n",
    "        t: float,\n",
    "        p: float,\n",
    "        a: float,\n",
    "        b: float,\n",
    "        r: float = 8.314\n",
    ") -> float:\n",
    "    tc, pc = calculate_critical_point(a, b)\n",
    "    pol = poly(\n",
    "        [\n",
    "            -a * b, \n",
    "            a, \n",
    "            -(p * b + r * t), \n",
    "            p\n",
    "        ]\n",
    "    )\n",
    "    roots = pol.roots()\n",
    "    roots = roots[np.isreal(roots)].real\n",
    "\n",
    "    if t > tc and p > pc:\n",
    "        root, = roots\n",
    "        return root\n",
    "    \n",
    "    return roots.max()"
   ]
  },
  {
   "cell_type": "code",
   "execution_count": 49,
   "metadata": {},
   "outputs": [],
   "source": [
    "a, b = .558, 65.1e-6"
   ]
  },
  {
   "cell_type": "code",
   "execution_count": 50,
   "metadata": {},
   "outputs": [
    {
     "name": "stdout",
     "output_type": "stream",
     "text": [
      "Критическая точка этана: tc = 305.4706 [K], pc = 4.877e+06 [Pa]\n"
     ]
    }
   ],
   "source": [
    "tc, pc = calculate_critical_point(a, b)\n",
    "print(f'Критическая точка этана: tc = {tc:8.4f} [K], pc = {pc:8.4g} [Pa]')"
   ]
  },
  {
   "cell_type": "code",
   "execution_count": 51,
   "metadata": {},
   "outputs": [
    {
     "name": "stdout",
     "output_type": "stream",
     "text": [
      "Молярный объем этана при 298 [K] и 101325 [Па] равен 0.0243 м^3\n"
     ]
    }
   ],
   "source": [
    "t, p = 298, 101325\n",
    "vm = calculate_gas_molar_volume(t, p, a, b)\n",
    "print(f'Молярный объем этана при {t} [K] и {p} [Па] равен {vm:6.4f} м^3')"
   ]
  },
  {
   "cell_type": "code",
   "execution_count": 52,
   "metadata": {},
   "outputs": [
    {
     "name": "stdout",
     "output_type": "stream",
     "text": [
      "Молярный объем этана при 500 [K] и 12000000.0 [Па] равен 0.0003 м^3\n"
     ]
    }
   ],
   "source": [
    "t, p = 500, 12e6\n",
    "vm = calculate_gas_molar_volume(t, p, a, b)\n",
    "print(f'Молярный объем этана при {t} [K] и {p} [Па] равен {vm:6.4f} м^3')"
   ]
  },
  {
   "cell_type": "markdown",
   "metadata": {},
   "source": [
    "### Задание  5\n",
    "\n",
    "Двухпараметрическое уравнение состояния Редлиха-Квонга имеет следующий вид:\n",
    "\n",
    "$$\n",
    "\tP = \\dfrac{RT}{V-b} - \\dfrac{a}{T^{0.5}V\\left(V+b\\right)}\n",
    "$$\n",
    "\n",
    "где $P$ - давление, $\\mathrm{Па}$; $T$ - абсолютная температура, $\\mathrm{K}$; $V$ - мольный объем, $\\mathrm{м^3/моль}$; $R = 8.314$ - универсальная газовая постоянная, $\\mathrm{Дж/\\left(моль \\cdot К\\right)}$.\n",
    "\n",
    "Константы $a$ и $b$ зависят от конкретного вещества и вычисляются по следующим формулам:\n",
    "\n",
    "$$\n",
    "\ta = \\dfrac{1}{9 \\cdot \\left(\\sqrt[3]{2}-1\\right)} \\dfrac{R^2T_c^{2.5}}{P_c}\n",
    "$$\n",
    "\n",
    "$$\n",
    "\tb = \\dfrac{\\sqrt[3]{2}-1}{3}\\dfrac{RT_c}{P_c}\n",
    "$$\n",
    "\n",
    "где $T_c$ - критическая температура, $\\mathrm{К}$; $P_c$ - критическое давление, $\\mathrm{Па}$.\n",
    "\n",
    "Уравнение состояния Редлиха-Квонга можно записать относительно коэффициента сжимаемости $Z$:\n",
    "\n",
    "$$\n",
    "\tZ^3 - Z^2 + \\left(A - B^2 - B\\right)Z - AB = 0\n",
    "$$\n",
    "\n",
    "где $A = \\dfrac{aP}{R^2T^{2.5}}$; $B=\\dfrac{bP}{RT}$.\n",
    "\n",
    "С учетом того, что коэффициент сжимаемости $Z = \\dfrac{PV}{RT}$ плотность газа может быть выражена следующим образом:\n",
    "\n",
    "$$\n",
    "\t\\rho = \\dfrac{M \\cdot P}{R \\cdot T \\cdot Z}\n",
    "$$\n",
    "\n",
    "где $\\rho$ - плотность газа, $\\mathrm{кг/м^3}$; $M$ - молярная масса газа, $\\mathrm{кг/моль}$.\n",
    "\n",
    "1. Необходимо реализовать функции для вычисления коэффициента сжимаемости и плотности реального газа с использованием библиотеки NumPy.\n",
    "2. Рассчитать плотность пропана при атмосферном давлении, значения $T$ принять принадлежащими интервалу $\\left[273.15, 298.15\\right] \\space \\mathrm{K}$, $10$ элементов.\n",
    "\n",
    "Свойства пропана\n",
    "\n",
    "|Свойство|Значение|Единицы измерения|\n",
    "|-|-|-|\n",
    "|Молярная масса|$0.0441$|$\\mathrm{кг/моль}$|\n",
    "|Критическая температура, $T_c$|$370$|$\\mathrm{K}$|\n",
    "|Критическое давление, $P_c$|$4.27$|$\\mathrm{МПа}$|"
   ]
  },
  {
   "cell_type": "code",
   "execution_count": 53,
   "metadata": {},
   "outputs": [],
   "source": [
    "from scipy.constants import R"
   ]
  },
  {
   "cell_type": "code",
   "execution_count": 54,
   "metadata": {},
   "outputs": [],
   "source": [
    "def calculate_a(\n",
    "        tc: float,\n",
    "        pc: float\n",
    ") -> float:\n",
    "    return 1 / (9 * (2 ** (1 / 3) - 1)) * R ** 2 * tc ** 2.5 / pc\n",
    "\n",
    "\n",
    "def calculate_b(\n",
    "        tc: float,\n",
    "        pc: float\n",
    ") -> float:\n",
    "    return (2 ** (1 / 3) - 1) / 3 * R * tc / pc\n",
    "\n",
    "\n",
    "def calculate_z(\n",
    "        tc: float,\n",
    "        pc: float,\n",
    "        t: float,\n",
    "        p: float\n",
    ") -> float:\n",
    "    a = calculate_a(tc, pc)\n",
    "    b = calculate_b(tc, pc)\n",
    "    _a = a * p / (R ** 2 * t ** 2.5)\n",
    "    _b = b * p / (R * t)\n",
    "    p = poly(\n",
    "        [\n",
    "            -_a * _b,\n",
    "            _a - _b ** 2 - _b,\n",
    "            -1,\n",
    "            1\n",
    "        ]\n",
    "    )\n",
    "    roots = p.roots()\n",
    "    roots = roots[np.isreal(roots)].real\n",
    "    return roots.max()"
   ]
  },
  {
   "cell_type": "code",
   "execution_count": 55,
   "metadata": {},
   "outputs": [],
   "source": [
    "def calculate_rho(\n",
    "        m: float,\n",
    "        t: float,\n",
    "        p: float,\n",
    "        z: float\n",
    ") -> float:\n",
    "    return m * p / (R * t * z)"
   ]
  },
  {
   "cell_type": "code",
   "execution_count": 56,
   "metadata": {},
   "outputs": [],
   "source": [
    "m, tc, pc = .0441, 370, 4.27e6\n",
    "t_array = np.linspace(273.15, 298.15, 10)\n",
    "p = 101325"
   ]
  },
  {
   "cell_type": "code",
   "execution_count": 57,
   "metadata": {},
   "outputs": [
    {
     "name": "stdout",
     "output_type": "stream",
     "text": [
      "0.02166237518572749 0.0027848990335870363\n",
      "0.021121294265530832 0.002756863325434873\n",
      "0.02059894704338402 0.0027293864648947285\n",
      "0.020094507768392857 0.0027024519072448307\n",
      "0.019607194743765804 0.0026760437544584175\n",
      "0.019136267575900427 0.002650146723912242\n",
      "0.01868102461978708 0.0026247461188945854\n",
      "0.018240800605001363 0.0025998278007931686\n",
      "0.01781496442795265 0.0025753781628524053\n",
      "0.017402917097314997 0.0025513841053976154\n"
     ]
    }
   ],
   "source": [
    "z_array = np.zeros_like(t_array)\n",
    "for i, t in enumerate(t_array):\n",
    "    z_array[i] = calculate_z(tc, pc, t, p)"
   ]
  },
  {
   "cell_type": "code",
   "execution_count": 58,
   "metadata": {},
   "outputs": [
    {
     "data": {
      "text/plain": [
       "array([0.98082407, 0.98135486, 0.98186632, 0.98235933, 0.98283475,\n",
       "       0.98329337, 0.98373593, 0.98416317, 0.98457574, 0.98497428])"
      ]
     },
     "execution_count": 58,
     "metadata": {},
     "output_type": "execute_result"
    }
   ],
   "source": [
    "z_array"
   ]
  },
  {
   "cell_type": "code",
   "execution_count": 59,
   "metadata": {},
   "outputs": [],
   "source": [
    "rho_array = np.zeros_like(t_array)\n",
    "for i, t in enumerate(t_array):\n",
    "    rho_array[i] = calculate_rho(m, t, p, z_array[i])"
   ]
  },
  {
   "cell_type": "code",
   "execution_count": 60,
   "metadata": {},
   "outputs": [
    {
     "data": {
      "text/plain": [
       "array([2.00598969, 1.98472123, 1.96391654, 1.94356001, 1.92363674,\n",
       "       1.90413251, 1.88503372, 1.86632741, 1.84800115, 1.83004307])"
      ]
     },
     "execution_count": 60,
     "metadata": {},
     "output_type": "execute_result"
    }
   ],
   "source": [
    "rho_array"
   ]
  },
  {
   "cell_type": "code",
   "execution_count": null,
   "metadata": {},
   "outputs": [],
   "source": []
  }
 ],
 "metadata": {
  "kernelspec": {
   "display_name": "base",
   "language": "python",
   "name": "python3"
  },
  "language_info": {
   "codemirror_mode": {
    "name": "ipython",
    "version": 3
   },
   "file_extension": ".py",
   "mimetype": "text/x-python",
   "name": "python",
   "nbconvert_exporter": "python",
   "pygments_lexer": "ipython3",
   "version": "3.11.5"
  }
 },
 "nbformat": 4,
 "nbformat_minor": 2
}
