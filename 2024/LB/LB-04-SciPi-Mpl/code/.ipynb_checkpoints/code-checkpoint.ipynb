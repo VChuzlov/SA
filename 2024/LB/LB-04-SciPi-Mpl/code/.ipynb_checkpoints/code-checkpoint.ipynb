{
 "cells": [
  {
   "cell_type": "markdown",
   "metadata": {},
   "source": [
    "### Задание 1\n",
    "\n",
    "Закон Бугера–Ламберта–Бера связывает концентрацию $c$ вещества в образце раствора с интенсивностью света, проходящего через этот образец $I_t$ с заданной толщиной слоя вещества $l$ при известной длине волны $\\lambda$:\n",
    "\n",
    "$$\n",
    "    I_t = I_0 e^ {-\\alpha c l}\n",
    "$$\n",
    "\n",
    "где $I_0$ - интенсивность света на входе в вещество, $\\alpha$ - коэффициент поглощения при длине волны $\\lambda$.\n",
    "\n",
    "После проведения ряда измерений, позволяющих определить часть света, которая прошла сквозь раствор, $I_t /I_0$, коэффициент поглощения $\\alpha$ можно найти при помощи линейной аппроксимации:\n",
    "\n",
    "$$\n",
    "    y = \\ln \\left(I_t/I_0\\right) = -\\alpha c l\n",
    "$$\n",
    "\n",
    "Несмотря на то что эта прямая проходит через начало координат ($y = 0$ при $c = 0$), мы будем выполнять подгонку для более общего линейного отношения:\n",
    "\n",
    "$$\n",
    "    y = mc + k\n",
    "$$\n",
    "\n",
    "где $m = -\\alpha l$ с проверкой $k$ на приближение к нулю.\n",
    "\n",
    "При рассмотрении образца раствора с толщиной слоя $0.8$ см при измерениях были получены данные, приведенные в таблице: отношение $I_t /I_0$ при пяти различных концентрациях:\n",
    "\n",
    "|C, моль/л|$I_t /I_0$|\n",
    "|-|-|\n",
    "|0.4|0.891|\n",
    "|0.6|0.841|\n",
    "|0.8|0.783|\n",
    "|1.0|0.744|\n",
    "|1.2|0.692|\n",
    "\n",
    "Используя линейную аппроксимацию, определите коэффициент $\\alpha$. Постройте график по табличным данным и результатам аппроксимации."
   ]
  },
  {
   "cell_type": "code",
   "execution_count": 3,
   "metadata": {},
   "outputs": [],
   "source": [
    "import numpy as np\n",
    "from scipy.optimize import least_squares\n",
    "import matplotlib.pyplot as plt\n",
    "from typing import Callable"
   ]
  },
  {
   "cell_type": "code",
   "execution_count": 8,
   "metadata": {},
   "outputs": [],
   "source": [
    "def linear(\n",
    "        c: float, \n",
    "        params: tuple[float, float]\n",
    ") -> float:\n",
    "    m, k = params\n",
    "    return m * c + k"
   ]
  },
  {
   "cell_type": "code",
   "execution_count": 9,
   "metadata": {},
   "outputs": [],
   "source": [
    "def residuals(\n",
    "        params: tuple[float, float],\n",
    "        x: np.ndarray,\n",
    "        y: np.ndarray,\n",
    "        fun: Callable\n",
    ") -> np.ndarray:\n",
    "    return y - fun(x, params)"
   ]
  },
  {
   "cell_type": "code",
   "execution_count": 14,
   "metadata": {},
   "outputs": [],
   "source": [
    "c = np.arange(.4, 1.4, .2)\n",
    "i = np.array(\n",
    "    [\n",
    "        .891, .841, .783, .744, .692\n",
    "    ]\n",
    ")\n",
    "l = .8"
   ]
  },
  {
   "cell_type": "code",
   "execution_count": 11,
   "metadata": {},
   "outputs": [],
   "source": [
    "params0 = .1, .1\n",
    "res = least_squares(\n",
    "    fun=residuals,\n",
    "    x0=params0,\n",
    "    args=(\n",
    "        c,\n",
    "        i,\n",
    "        linear\n",
    "    )\n",
    ")"
   ]
  },
  {
   "cell_type": "code",
   "execution_count": 13,
   "metadata": {},
   "outputs": [],
   "source": [
    "m, k = res.x"
   ]
  },
  {
   "cell_type": "code",
   "execution_count": 15,
   "metadata": {},
   "outputs": [
    {
     "data": {
      "text/plain": [
       "0.30937500045393695"
      ]
     },
     "execution_count": 15,
     "metadata": {},
     "output_type": "execute_result"
    }
   ],
   "source": [
    "alpha = -m / l\n",
    "alpha"
   ]
  },
  {
   "cell_type": "code",
   "execution_count": null,
   "metadata": {},
   "outputs": [],
   "source": []
  }
 ],
 "metadata": {
  "kernelspec": {
   "display_name": "Python 3 (ipykernel)",
   "language": "python",
   "name": "python3"
  },
  "language_info": {
   "codemirror_mode": {
    "name": "ipython",
    "version": 3
   },
   "file_extension": ".py",
   "mimetype": "text/x-python",
   "name": "python",
   "nbconvert_exporter": "python",
   "pygments_lexer": "ipython3",
   "version": "3.12.1"
  }
 },
 "nbformat": 4,
 "nbformat_minor": 4
}
