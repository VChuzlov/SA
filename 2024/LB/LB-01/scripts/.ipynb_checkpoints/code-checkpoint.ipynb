{
 "cells": [
  {
   "cell_type": "markdown",
   "metadata": {},
   "source": [
    "### Задание 1\n",
    "\n",
    "Абсолютная плотность газов и паров $\\left[\\mathrm{кг}/\\mathrm{м}^3\\right]$ вычисляется по формуле:\n",
    "\n",
    "$$\n",
    "\t\\rho = \\dfrac{M}{22.4} \\cdot \\dfrac{T_0 \\cdot P}{T \\cdot P_0}\n",
    "$$\n",
    "\n",
    "где М - молярная масса газа или пара, $\\left[\\mathrm{кг}/\\mathrm{кмоль}\\right]$;\n",
    "$T_0 = 273.15$ -  нормальная температура, $\\left[\\mathrm{K}\\right]$;\n",
    "$T$ - температура, при которой определяется плотность, $\\left[K\\right]$;\n",
    "$P_0 = 101325$ - нормальное давление, $\\left[\\mathrm{Па}\\right]$;\n",
    "$P$ - давление, при котором определяется плотность, $\\left[\\mathrm{Па}\\right]$.\n",
    "\n",
    "Необходимо определить плотность метана ($CH_4$) при $P = 200$ кПа и температуре $T ∈ [200; 500]$ с шагом $h = 50 \\left[K\\right]$."
   ]
  },
  {
   "cell_type": "code",
   "execution_count": 1,
   "metadata": {},
   "outputs": [],
   "source": [
    "t0, p0, p = 273.15, 101325, 200000\n",
    "start_t, stop_t, h = 200, 500, 50\n",
    "m = 16"
   ]
  },
  {
   "cell_type": "code",
   "execution_count": 2,
   "metadata": {},
   "outputs": [
    {
     "name": "stdout",
     "output_type": "stream",
     "text": [
      "200 1.925557787881992\n",
      "250 1.5404462303055935\n",
      "300 1.283705191921328\n",
      "350 1.1003187359325668\n",
      "400 0.962778893940996\n",
      "450 0.8558034612808854\n",
      "500 0.7702231151527967\n"
     ]
    }
   ],
   "source": [
    "for t in range(start_t, stop_t + h, h):\n",
    "    d = m / 22.4 * t0 * p / (t * p0)\n",
    "    print(t, d)"
   ]
  },
  {
   "cell_type": "markdown",
   "metadata": {},
   "source": [
    "### Задание 2\n",
    "\n",
    "Выполните расчет молекулярной массы, температуры кипения и плотности нормальных алканов $C_1-C_5$. Общая формула для алканов $C_nH_{2n+2}$. Результаты расчетов сохраните в виде списков.\n",
    "\n",
    "1. Температуру кипения можно определить по следующей формуле:\n",
    "\n",
    "$$\n",
    "    T_b = 1090 - \\exp \\left(6.9955 - 0.11193 \\cdot N_C^{2/3}\\right)\n",
    "$$\n",
    "\n",
    "где $N_C$ - число атомов углерода в молекуле алкана.\n",
    "\n",
    "2. Формула для вычисления плотности:\n",
    "\n",
    "$$\n",
    "    \\rho = 1.07 - \\exp \\left(3.56073 - 2.93886 \\cdot MW^{0.1}\\right)\n",
    "$$\n",
    "\n",
    "где $MW$ - молекулярная масса алкана."
   ]
  },
  {
   "cell_type": "code",
   "execution_count": 3,
   "metadata": {},
   "outputs": [],
   "source": [
    "import math"
   ]
  },
  {
   "cell_type": "code",
   "execution_count": 4,
   "metadata": {},
   "outputs": [],
   "source": [
    "low, high = 1, 5\n",
    "indexes = list(range(low, high+1))"
   ]
  },
  {
   "cell_type": "code",
   "execution_count": 5,
   "metadata": {},
   "outputs": [
    {
     "data": {
      "text/plain": [
       "[16, 30, 44, 58, 72]"
      ]
     },
     "execution_count": 5,
     "metadata": {},
     "output_type": "execute_result"
    }
   ],
   "source": [
    "mw = [12 * n + 2 * n + 2 for n in indexes]\n",
    "mw"
   ]
  },
  {
   "cell_type": "code",
   "execution_count": 6,
   "metadata": {},
   "outputs": [
    {
     "data": {
      "text/plain": [
       "[113.89515870858975,\n",
       " 176.00765124564373,\n",
       " 225.04609396969124,\n",
       " 266.59014842551005,\n",
       " 303.01066681204486]"
      ]
     },
     "execution_count": 6,
     "metadata": {},
     "output_type": "execute_result"
    }
   ],
   "source": [
    "tb = [\n",
    "    1090 - math.exp(6.9955 - .11193 * n ** (2 / 3)) for n in indexes\n",
    "]\n",
    "tb"
   ]
  },
  {
   "cell_type": "code",
   "execution_count": 8,
   "metadata": {},
   "outputs": [
    {
     "data": {
      "text/plain": [
       "[0.3417559246621025,\n",
       " 0.50374382536956,\n",
       " 0.5880575794529687,\n",
       " 0.6426337863150681,\n",
       " 0.6819127875116566]"
      ]
     },
     "execution_count": 8,
     "metadata": {},
     "output_type": "execute_result"
    }
   ],
   "source": [
    "rho = [\n",
    "    1.07 - math.exp(3.56073 - 2.93886 * m ** .1) for m in mw\n",
    "]\n",
    "rho"
   ]
  },
  {
   "cell_type": "markdown",
   "metadata": {},
   "source": [
    "### Задание 3\n",
    "\n",
    "По имеющимся исходным данным определите состав потока в объемных долях, используя\n",
    "следующую формулу:\n",
    "\n",
    "$$\n",
    "    \\varphi_i = \\dfrac{\\dfrac{\\omega _i}{\\rho _i}}{\\sum \\limits _{i=1}^n\\dfrac{\\omega _i}{\\rho _i}}\n",
    "$$\n",
    "\n",
    "где $\\varphi _i$ -  объемная доля $i$-го компонента; $\\omega _i$ -  массовая доля $i$-го компонента; $\\rho _i$ - плотность $i$-го компонента; $n$ - число компонентов в системе; $i$ - индекс компонента в системе.\n",
    "\n",
    "###### Исходные данные\n",
    "\n",
    "|Параметр|$C_1$|$C_2$|$C_3$|$iC_4$|$nC_4$|$iC_5$|$nC_5$|$nC_6$|\n",
    "|:-|:-:|:-:|:-:|:-:|:-:|:-:|:-:|:-:|\n",
    "|$\\omega _i$|0.1|0.1|0.1|0.4|0.2|0.05|0.03|0.02|\n",
    "|$\\rho _i$, г/см$^3$|0.416 |0.546|0.585|0.5510|0.6|0.616|0.6262|0.6594|"
   ]
  },
  {
   "cell_type": "code",
   "execution_count": 9,
   "metadata": {},
   "outputs": [],
   "source": [
    "def mass_to_volume_fractions(\n",
    "    mass_fractions: list[float],\n",
    "    densities: list[float]\n",
    ") -> list[float]:\n",
    "\n",
    "    mf_by_rho = [mf / rho for mf, rho in zip(mass_fractions, densities)]\n",
    "    s = sum(mf_by_rho)\n",
    "\n",
    "    return [x / s for x in mf_by_rho]"
   ]
  },
  {
   "cell_type": "code",
   "execution_count": 10,
   "metadata": {},
   "outputs": [
    {
     "name": "stdout",
     "output_type": "stream",
     "text": [
      "  0.1326\n",
      "  0.1010\n",
      "  0.0943\n",
      "  0.4004\n",
      "  0.1838\n",
      "  0.0448\n",
      "  0.0264\n",
      "  0.0167\n",
      "1.0\n"
     ]
    }
   ],
   "source": [
    "mf = [.1, .1, .1, .4, .2, .05, .03, .02]\n",
    "rho = [.416, .546, .585, .5510, .6, .616, .6262, .6594]\n",
    "\n",
    "vf = mass_to_volume_fractions(\n",
    "    mass_fractions=mf, densities=rho)\n",
    "\n",
    "for v in vf:\n",
    "    print(f'{v:8.4f}')\n",
    "\n",
    "print(sum(vf))"
   ]
  },
  {
   "cell_type": "markdown",
   "metadata": {},
   "source": [
    "### Задание 4\n",
    "\n",
    "**Коэффициент сжимаемости** учитывает отклонение реального газа от уравнения состояния идеального газа. При точных расчетах коэффициент сжимаемости определяют по формуле:\n",
    "\n",
    "$$\n",
    "    z = 1 + \\dfrac{P_r}{T_r} \\cdot \\left(0.144 + 0.073 \\cdot \\omega - \\dfrac{0.33 - 0.46 \\cdot \\omega}{T_r} - \\dfrac{0.138 + 0.5 \\cdot \\omega}{T_r^2} - \\dfrac{0.012 + 0.097 \\cdot \\omega}{T_r^3} - \\dfrac{0.0073 \\cdot \\omega}{T_r^8}\\right)\n",
    "$$\n",
    "\n",
    "где $\\omega$ - ацентрический фактор, вычисляемый по уравнению:\n",
    "\n",
    "$$\n",
    "    \\omega = \\dfrac{3}{7} \\cdot \\left(\\dfrac{\\lg P_r - 5}{\\dfrac{T}{T_r \\cdot T_b}-1}\\right)-1\n",
    "$$\n",
    "\n",
    "$T_r$ - приведенная температура: $T_r = \\dfrac{T}{T_c}$\n",
    "\n",
    "$P_r = 0.2634$ - приведенное давление; $T_b = 272.65$ - температура кипения,  $\\mathrm{[K]}$;  $T_c = 425.15$, $\\mathrm{[K]}$.\n",
    "\n",
    "Необходимо реализовать расчет фактора сжимаемости $z$ при $T \\in [200; 400]$ с шагом $h = 25$ $\\mathrm{[K]}$."
   ]
  },
  {
   "cell_type": "code",
   "execution_count": 11,
   "metadata": {},
   "outputs": [],
   "source": [
    "import numpy as np\n",
    "\n",
    "def calculate_tr(\n",
    "        tc: float,\n",
    "        t: float\n",
    ") -> float:\n",
    "    return t / tc\n",
    "\n",
    "def calculate_acentricity(\n",
    "        pr: float,\n",
    "        tb: float,\n",
    "        t: float,\n",
    "        tc: float | None = None,\n",
    "        tr: float | None = None\n",
    ") -> float:\n",
    "    tr = tr or calculate_tr(tc, t)\n",
    "    afactor = 3 / 7 * (np.log10(pr) - 5) / (t / (tr * tb) - 1) - 1\n",
    "    return afactor\n",
    "\n",
    "\n",
    "def z_equation(\n",
    "        pr: float,\n",
    "        tr: float,\n",
    "        acentricity: float,\n",
    ") -> float:\n",
    "    z = 1 + 1 + pr / tr * (\n",
    "        .144 + .073 * acentricity - (.33 - .46 * acentricity) / tr \n",
    "        - (.138 + .5 * acentricity) / tr ** 2 \n",
    "        - (.012 + .097 * acentricity) / tr ** 3\n",
    "        - .0073 * acentricity / tr ** 8\n",
    "    )\n",
    "    return z\n",
    "\n",
    "def calculate_z(\n",
    "        t: float,\n",
    "        tc: float,\n",
    "        tb: float,\n",
    "        pr: float\n",
    ") -> float:\n",
    "    tr = calculate_tr(tc, t)\n",
    "    acentricity = calculate_acentricity(\n",
    "        pr=pr, tb=tb, t=t, tr=tr,\n",
    "    )\n",
    "    z = z_equation(\n",
    "        pr=pr, tr=tr, acentricity=acentricity\n",
    "    )\n",
    "    return z"
   ]
  },
  {
   "cell_type": "code",
   "execution_count": 12,
   "metadata": {},
   "outputs": [
    {
     "name": "stdout",
     "output_type": "stream",
     "text": [
      "При температуре 200 K Z равен 16.5863\n",
      "При температуре 225 K Z равен 8.5219\n",
      "При температуре 250 K Z равен 5.3377\n",
      "При температуре 275 K Z равен 3.8628\n",
      "При температуре 300 K Z равен 3.0904\n",
      "При температуре 325 K Z равен 2.6475\n",
      "При температуре 350 K Z равен 2.3765\n",
      "При температуре 375 K Z равен 2.2030\n",
      "При температуре 400 K Z равен 2.0883\n"
     ]
    }
   ],
   "source": [
    "t_start, t_stop, h = 200, 400, 25\n",
    "\n",
    "for t in range(t_start, t_stop+h, h):\n",
    "    z = calculate_z(\n",
    "        t=t,\n",
    "        tc=425.15,\n",
    "        tb=272.65,\n",
    "        pr=.2634\n",
    "    )\n",
    "    print(f'При температуре {t:3} K Z равен {z:6.4f}')"
   ]
  },
  {
   "cell_type": "markdown",
   "metadata": {},
   "source": [
    "### Задание 5\n",
    "\n",
    "Определение концентрации ионов $\\left[H^+\\right]$ в растворе с учетом константы диссоциации кислоты $K_a$ и концентрации кислоты $c$ происходит посредством последовательного применения формулы:\n",
    "\n",
    "$$\n",
    "\t\\left[H^+\\right]_{n+1} = \\sqrt{\\left(K_a \\cdot \\left(c - \\left[H^+\\right]_n\\right)\\right)}\n",
    "$$\n",
    "\n",
    "при начальном значении $\\left[H^+\\right]_n = 0.0$. Итерации продолжаются до тех пор, пока изменение значения $\\left[H^+\\right]$ не  станет меньше, чем некоторая предварительно заданная малая пороговая величина допустимого отклонения.\n",
    "\n",
    "Используя данный метод, определите концентрацию ионов водорода и, соответственно, $pH$ раствора ($pH = -\\log_{10} \\left[H^+\\right]$) для раствора уксусной кислоты с концентрацией $c = 0.01 \\mathrm{M}$, $K_a = 1.78 \\times 10^{-5}$. Величину допустимого отклонения принять как $\\varepsilon = 1.0E\\text{-}10$."
   ]
  },
  {
   "cell_type": "code",
   "execution_count": 13,
   "metadata": {},
   "outputs": [],
   "source": [
    "import math"
   ]
  },
  {
   "cell_type": "code",
   "execution_count": 14,
   "metadata": {},
   "outputs": [],
   "source": [
    "def calculate_ion_concentration(\n",
    "        initial_value: float,\n",
    "        concentration: float,\n",
    "        ka: float\n",
    ") -> float:\n",
    "    return (ka * (concentration - initial_value)) ** .5\n",
    "\n",
    "\n",
    "def calculate(\n",
    "        initial_value: float,\n",
    "        concentration: float, \n",
    "        ka: float,\n",
    "        eps: float = 1e-10\n",
    ") -> float:\n",
    "    value = calculate_ion_concentration(initial_value, concentration, ka)\n",
    "    \n",
    "    while abs(value - initial_value) >= eps:\n",
    "        initial_value = value\n",
    "        value = calculate_ion_concentration(initial_value, concentration, ka) \n",
    "    \n",
    "    return value   "
   ]
  },
  {
   "cell_type": "code",
   "execution_count": 15,
   "metadata": {},
   "outputs": [
    {
     "name": "stdout",
     "output_type": "stream",
     "text": [
      "Концентрация ионов H+: 0.00041309\n",
      "pH раствора: 3.38395077\n"
     ]
    }
   ],
   "source": [
    "h_conc_0 = 0.0\n",
    "c = 0.01\n",
    "ka = 1.78e-5\n",
    "h_conc = calculate(h_conc_0, c, ka)\n",
    "ph = -math.log10(h_conc)\n",
    "print(f'Концентрация ионов H+: {h_conc:.8f}')  # Концентрация ионов H+: 0.00041309\n",
    "print(f'pH раствора: {ph:.8f}')  # pH раствора: 3.38395077a"
   ]
  },
  {
   "cell_type": "code",
   "execution_count": null,
   "metadata": {},
   "outputs": [],
   "source": []
  }
 ],
 "metadata": {
  "kernelspec": {
   "display_name": "Python 3 (ipykernel)",
   "language": "python",
   "name": "python3"
  },
  "language_info": {
   "codemirror_mode": {
    "name": "ipython",
    "version": 3
   },
   "file_extension": ".py",
   "mimetype": "text/x-python",
   "name": "python",
   "nbconvert_exporter": "python",
   "pygments_lexer": "ipython3",
   "version": "3.11.5"
  }
 },
 "nbformat": 4,
 "nbformat_minor": 2
}
