{
 "cells": [
  {
   "cell_type": "markdown",
   "metadata": {},
   "source": [
    "# Задание 1"
   ]
  },
  {
   "cell_type": "code",
   "execution_count": 1,
   "metadata": {},
   "outputs": [],
   "source": [
    "mass_fractions = [\n",
    "    .1, .1, .1, .4, .2, .05, .03, .02\n",
    "]\n",
    "densities = [\n",
    "    .416, .546, .585, .5510, .6, .616, .6262, .6594\n",
    "]\n",
    "mol_mass = [\n",
    "    16, 30, 44, 58, 58, 72, 72, 86\n",
    "]"
   ]
  },
  {
   "cell_type": "code",
   "execution_count": 2,
   "metadata": {},
   "outputs": [
    {
     "data": {
      "text/plain": [
       "[0.26545412947998054,\n",
       " 0.1415755357226563,\n",
       " 0.09652877435635657,\n",
       " 0.292914901495151,\n",
       " 0.1464574507475755,\n",
       " 0.029494903275553392,\n",
       " 0.017696941965332034,\n",
       " 0.009877362957394624]"
      ]
     },
     "execution_count": 2,
     "metadata": {},
     "output_type": "execute_result"
    }
   ],
   "source": [
    "mf_by_mw = [mf / mw for mf, mw in zip(mass_fractions, mol_mass)]\n",
    "s = sum(mf_by_mw)\n",
    "mol_fractions = [value / s for value in mf_by_mw]\n",
    "mol_fractions"
   ]
  },
  {
   "cell_type": "code",
   "execution_count": 3,
   "metadata": {},
   "outputs": [
    {
     "data": {
      "text/plain": [
       "0.9999999999999998"
      ]
     },
     "execution_count": 3,
     "metadata": {},
     "output_type": "execute_result"
    }
   ],
   "source": [
    "sum(mol_fractions)"
   ]
  },
  {
   "cell_type": "code",
   "execution_count": 4,
   "metadata": {},
   "outputs": [
    {
     "data": {
      "text/plain": [
       "0.5515207014243224"
      ]
     },
     "execution_count": 4,
     "metadata": {},
     "output_type": "execute_result"
    }
   ],
   "source": [
    "density = sum(\n",
    "    [\n",
    "        mf / d for mf, d in zip(mass_fractions, densities)\n",
    "    ]\n",
    ") ** -1\n",
    "density"
   ]
  },
  {
   "cell_type": "code",
   "execution_count": 5,
   "metadata": {},
   "outputs": [
    {
     "data": {
      "text/plain": [
       "42.47266071679689"
      ]
     },
     "execution_count": 5,
     "metadata": {},
     "output_type": "execute_result"
    }
   ],
   "source": [
    "m = sum(\n",
    "    [\n",
    "        mf / mw for mf, mw in zip(mass_fractions, mol_mass)\n",
    "    ]\n",
    ") ** -1\n",
    "m"
   ]
  },
  {
   "cell_type": "markdown",
   "metadata": {},
   "source": [
    "# Задание 2"
   ]
  },
  {
   "cell_type": "code",
   "execution_count": 6,
   "metadata": {},
   "outputs": [],
   "source": [
    "mf1 = [\n",
    "    .1, .1, .1, .4, .2, .05, .03, .02\n",
    "]\n",
    "mf2 = [\n",
    "    .1, .2, .1, .3, .1, .15, .03, .02\n",
    "]\n",
    "mf3 = [\n",
    "    .1, .1, .15, .35, .1, .05, .08, .07\n",
    "]"
   ]
  },
  {
   "cell_type": "code",
   "execution_count": 7,
   "metadata": {},
   "outputs": [],
   "source": [
    "g1, g2, g3 = 100, 150, 120"
   ]
  },
  {
   "cell_type": "code",
   "execution_count": 8,
   "metadata": {},
   "outputs": [],
   "source": [
    "g1_times_mf1 = [\n",
    "    mf * g1 for mf in mf1\n",
    "]\n",
    "g2_times_mf2 = [\n",
    "    mf * g2 for mf in mf2\n",
    "]\n",
    "g3_times_mf3 = [\n",
    "    mf * g3 for mf in mf3\n",
    "]"
   ]
  },
  {
   "cell_type": "code",
   "execution_count": 9,
   "metadata": {},
   "outputs": [],
   "source": [
    "values = [\n",
    "    v1 + v2 + v3 \n",
    "    for v1, v2, v3 in zip(g1_times_mf1, g2_times_mf2, g3_times_mf3)\n",
    "]"
   ]
  },
  {
   "cell_type": "code",
   "execution_count": 10,
   "metadata": {},
   "outputs": [
    {
     "data": {
      "text/plain": [
       "[0.1,\n",
       " 0.14054054054054055,\n",
       " 0.11621621621621622,\n",
       " 0.34324324324324323,\n",
       " 0.12702702702702703,\n",
       " 0.09054054054054055,\n",
       " 0.04621621621621622,\n",
       " 0.036216216216216214]"
      ]
     },
     "execution_count": 10,
     "metadata": {},
     "output_type": "execute_result"
    }
   ],
   "source": [
    "g_sum = g1 + g2 + g3\n",
    "mf = [v / g_sum for v in values]\n",
    "mf"
   ]
  },
  {
   "cell_type": "code",
   "execution_count": 11,
   "metadata": {},
   "outputs": [
    {
     "data": {
      "text/plain": [
       "0.9999999999999999"
      ]
     },
     "execution_count": 11,
     "metadata": {},
     "output_type": "execute_result"
    }
   ],
   "source": [
    "sum(mf)"
   ]
  },
  {
   "cell_type": "code",
   "execution_count": null,
   "metadata": {},
   "outputs": [],
   "source": []
  }
 ],
 "metadata": {
  "kernelspec": {
   "display_name": "Python 3",
   "language": "python",
   "name": "python3"
  },
  "language_info": {
   "codemirror_mode": {
    "name": "ipython",
    "version": 3
   },
   "file_extension": ".py",
   "mimetype": "text/x-python",
   "name": "python",
   "nbconvert_exporter": "python",
   "pygments_lexer": "ipython3",
   "version": "3.11.8"
  }
 },
 "nbformat": 4,
 "nbformat_minor": 2
}
