{
 "cells": [
  {
   "cell_type": "code",
   "execution_count": 1,
   "metadata": {},
   "outputs": [],
   "source": [
    "import math"
   ]
  },
  {
   "cell_type": "code",
   "execution_count": 2,
   "metadata": {},
   "outputs": [],
   "source": [
    "functions = {\n",
    "    1: lambda x: (\n",
    "        ((x + 2) ** 4 + math.sin(x)) ** (1 / 5)\n",
    "        + (math.log10(x + x ** 2 / 2)) ** .5\n",
    "        + 5.8e-7 * x\n",
    "    ),\n",
    "    2: lambda x: (\n",
    "        (x ** 2 + math.sin(1 / (4 * x))) ** .5\n",
    "        / (math.log(3 * x) + x)\n",
    "        + 4e-5\n",
    "    ),\n",
    "    3: lambda x: (\n",
    "        7.2e-4 * (abs(1 - (math.sin(x)) ** 2)) ** .5\n",
    "        / math.exp(-4 / x)\n",
    "    ),\n",
    "    4: lambda x: (\n",
    "        (1 - 2 * x * math.sin(x))\n",
    "        / math.log(5 / x)\n",
    "        + math.exp(x ** 2)\n",
    "    ),\n",
    "    5: lambda x: (\n",
    "        math.sin(x ** 2)\n",
    "        / (math.exp(x / 2) * math.log(x + 1))\n",
    "        + 2.3e-7\n",
    "    ),\n",
    "    6: lambda x: (\n",
    "        (x / (math.sin(x) + 1))\n",
    "        / ((math.exp(x ** 2) + math.log(x)) / (x ** 2 + 3.7e-5 * x) ** .5)\n",
    "    ),\n",
    "    7: lambda x: (\n",
    "        (4.9e-2 + math.log(x ** 2 / 2))\n",
    "        / math.atan(x ** 2 + 2 * x)\n",
    "    )\n",
    "}"
   ]
  },
  {
   "cell_type": "code",
   "execution_count": 6,
   "metadata": {},
   "outputs": [
    {
     "name": "stdout",
     "output_type": "stream",
     "text": [
      "1    4.5595\n",
      "2    0.5799\n",
      "3    0.0027\n",
      "4 8103.3840\n",
      "5    0.0663\n",
      "6    0.0010\n",
      "7    1.0325\n"
     ]
    }
   ],
   "source": [
    "x = 3\n",
    "for k, f in functions.items():\n",
    "    print(k, f'{f(x):>9.4f}')"
   ]
  },
  {
   "cell_type": "code",
   "execution_count": null,
   "metadata": {},
   "outputs": [],
   "source": []
  }
 ],
 "metadata": {
  "kernelspec": {
   "display_name": "base",
   "language": "python",
   "name": "python3"
  },
  "language_info": {
   "codemirror_mode": {
    "name": "ipython",
    "version": 3
   },
   "file_extension": ".py",
   "mimetype": "text/x-python",
   "name": "python",
   "nbconvert_exporter": "python",
   "pygments_lexer": "ipython3",
   "version": "3.11.5"
  }
 },
 "nbformat": 4,
 "nbformat_minor": 2
}
