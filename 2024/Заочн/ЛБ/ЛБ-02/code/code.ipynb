{
 "cells": [
  {
   "cell_type": "markdown",
   "metadata": {},
   "source": [
    "# Задание 1\n",
    "\n",
    "$\n",
    "\\mathrm{\n",
    "f = \\left\\{\n",
    "\\begin{aligned}\n",
    "\t& x + \\dfrac{x}{x - \\dfrac{y}{25 - k}} \\cdot \\dfrac{\\tan \\left(k\\right)}{\\left(k + x\\right)^2} + \\dfrac{y^2}{\\sqrt{k}} &\\quad \\text{при } -5 \\leqslant x < 0; \\quad 0 < x \\leqslant 3 \\\\\n",
    "\t& \\dfrac{x^3}{y} + a \\cdot x ^ {2 - y \\cdot x} - \\cos^2\\left(x\\right) + \\dfrac{\\sqrt[3]{x \\cdot y}}{34 - a} &\\quad \\text{при } x = 0 \\\\\n",
    "\t& \\dfrac{1}{x} \\cdot \\ln \\left(1 + 2 \\cdot y\\right) + \\dfrac{c}{4 - \\sqrt[6]{3 \\cdot y + 5 \\cdot x}} &\\quad \\text{при } 3 < x \\leqslant 5 \\\\\n",
    "\t& 0 &\\quad \\text{при } x > 5\n",
    "\\end{aligned}\t\n",
    "\\right.}\n",
    "$\n",
    "\n",
    "где $\\quad$ $\\mathrm{a = 26; \\quad c = 28.96; \\quad y = 1.3; \\quad k = 9.86; \\quad x \\in \\left[-5; 6\\right]; \\quad h = 1}$."
   ]
  },
  {
   "cell_type": "code",
   "execution_count": 1,
   "metadata": {},
   "outputs": [],
   "source": [
    "import math"
   ]
  },
  {
   "cell_type": "code",
   "execution_count": 3,
   "metadata": {},
   "outputs": [],
   "source": [
    "x0, xf, h = -5, 6, 1\n",
    "a = 26\n",
    "c = 28.96\n",
    "y = 1.3\n",
    "k = 9.86"
   ]
  },
  {
   "cell_type": "code",
   "execution_count": 7,
   "metadata": {},
   "outputs": [
    {
     "name": "stdout",
     "output_type": "stream",
     "text": [
      "-5  -4.4424\n",
      "-4  -3.4485\n",
      "-3  -2.4522\n",
      "-2  -1.4546\n",
      "-1  -0.4563\n",
      " 0  -1.0000\n",
      " 1   1.5425\n",
      " 2   2.5417\n",
      " 3   3.5411\n",
      " 4  12.8962\n",
      " 5  13.1376\n",
      " 6   0.0000\n"
     ]
    }
   ],
   "source": [
    "for x in range(x0, xf+h, h):\n",
    "    if -5 <= x < 0 or 0 < x <= 3:\n",
    "        f = (\n",
    "            x + x / (x - y / (25 - k))\n",
    "            * math.tan(k) / (k + x) ** 2\n",
    "            + y ** 2 / k ** .5\n",
    "        )\n",
    "    elif x == 0:\n",
    "        f = (\n",
    "            x ** 3 / y\n",
    "            + a * x ** (2 - y * x)\n",
    "            - math.cos(x) ** 2 + (x * y) ** (1 / 3) / (34 - a)\n",
    "        )\n",
    "    elif 3 < x <= 5:\n",
    "        f = (\n",
    "            1 / x * math.log(1 + 2 * y) + c / (4 - (3 * y + 5 * x) ** (1 / 6))\n",
    "        )\n",
    "    else:\n",
    "        f = 0.0\n",
    "    print(f'{x:>2} {f:>8.4f}')"
   ]
  },
  {
   "cell_type": "markdown",
   "metadata": {},
   "source": [
    "# Задание 2\n",
    "\n",
    "$\\mathrm{k = k_0 \\cdot e^{-E_a / RT}}$\n",
    "\n",
    "$\\mathrm{\n",
    "\tE_a = \\left\\{\n",
    "\t\\begin{aligned}\n",
    "\t\t& \\mathrm{60, T \\leqslant 720} \\\\\n",
    "\t\t& \\mathrm{59, 720 < T \\leqslant 730} \\\\\n",
    "\t\t& \\mathrm{57, 730 < T \\leqslant 750}\n",
    "\t\\end{aligned}\n",
    "\t\\right.}$\n",
    "\n",
    "$\\mathrm{k_0 = 100; \\qquad R = 8.314}$."
   ]
  },
  {
   "cell_type": "code",
   "execution_count": 10,
   "metadata": {},
   "outputs": [],
   "source": [
    "k0 = 100\n",
    "R = 8.314\n",
    "t0, tf, h = 700, 750, 5"
   ]
  },
  {
   "cell_type": "code",
   "execution_count": 11,
   "metadata": {},
   "outputs": [
    {
     "name": "stdout",
     "output_type": "stream",
     "text": [
      "700  98.9743\n",
      "705  98.9816\n",
      "710  98.9887\n",
      "715  98.9957\n",
      "720  99.0027\n",
      "725  99.0260\n",
      "730  99.0326\n",
      "735  99.0716\n",
      "740  99.0778\n",
      "745  99.0840\n",
      "750  99.0900\n"
     ]
    }
   ],
   "source": [
    "for t in range(t0, tf+h, h):\n",
    "    if t <= 720:\n",
    "        ea = 60\n",
    "    elif 720 < t <= 730:\n",
    "        ea = 59\n",
    "    else:\n",
    "        ea = 57\n",
    "    k = k0 * math.exp(-ea / (R * t))\n",
    "    print(t, f'{k:>8.4f}')"
   ]
  },
  {
   "cell_type": "markdown",
   "metadata": {},
   "source": [
    "# Задание 3"
   ]
  },
  {
   "cell_type": "code",
   "execution_count": 20,
   "metadata": {},
   "outputs": [],
   "source": [
    "t0, tf, h = 10, 40, 2.5\n",
    "n = int((tf - t0) / h) + 1\n",
    "t = t0"
   ]
  },
  {
   "cell_type": "code",
   "execution_count": 21,
   "metadata": {},
   "outputs": [
    {
     "name": "stdout",
     "output_type": "stream",
     "text": [
      "12.5    1.026e+06\n",
      "15.0         3534\n",
      "17.5         6430\n",
      "20.0    1.425e+04\n",
      "22.5    4.321e+04\n",
      "25.0    2.258e+05\n",
      "27.5    3.459e+06\n",
      "30.0    7.347e+08\n",
      "32.5    3.309e+15\n",
      "35.0   6.169e+197\n",
      "37.5    4.288e-15\n",
      "40.0    9.702e-07\n",
      "42.5     0.001342\n"
     ]
    }
   ],
   "source": [
    "for _ in range(n):\n",
    "    if t <= 11.4:\n",
    "        f1 = ((68.74 + 273.15) ** 2 + 1.08e3) ** .5 - 308.6\n",
    "    elif 11.4 < t <= 37.8:\n",
    "        f1 = ((124.7 + 273.15) ** 2 + 1.08e3) ** .5 - 308.6\n",
    "    else:\n",
    "        f1 = ((134.7 + 273.15) ** 2 + 1.08e3) ** .5 - 308.6\n",
    "    \n",
    "    f2 = 1250 / (((t + 273.15) ** 2 + 1.08e3) ** .5 - 307.6) - 1\n",
    "    p = math.exp(2.3 * (2.68 * (1 - f2 / f1) - 1))\n",
    "    t += h\n",
    "    print(f'{t:>4.1f} {p:>12.4g}')"
   ]
  },
  {
   "cell_type": "code",
   "execution_count": null,
   "metadata": {},
   "outputs": [],
   "source": []
  }
 ],
 "metadata": {
  "kernelspec": {
   "display_name": "base",
   "language": "python",
   "name": "python3"
  },
  "language_info": {
   "codemirror_mode": {
    "name": "ipython",
    "version": 3
   },
   "file_extension": ".py",
   "mimetype": "text/x-python",
   "name": "python",
   "nbconvert_exporter": "python",
   "pygments_lexer": "ipython3",
   "version": "3.11.5"
  }
 },
 "nbformat": 4,
 "nbformat_minor": 2
}
