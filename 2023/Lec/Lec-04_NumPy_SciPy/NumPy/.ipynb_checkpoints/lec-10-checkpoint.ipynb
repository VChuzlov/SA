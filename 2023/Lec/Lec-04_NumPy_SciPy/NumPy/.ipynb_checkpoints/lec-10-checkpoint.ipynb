{
 "cells": [
  {
   "cell_type": "code",
   "execution_count": 1,
   "metadata": {},
   "outputs": [],
   "source": [
    "import pandas as pd\n",
    "import matplotlib.pyplot as plt\n",
    "import seaborn as sns"
   ]
  },
  {
   "cell_type": "code",
   "execution_count": 2,
   "metadata": {},
   "outputs": [],
   "source": [
    "df = pd.read_excel('посещаемость.xlsx')"
   ]
  },
  {
   "cell_type": "code",
   "execution_count": 3,
   "metadata": {},
   "outputs": [],
   "source": [
    "data = pd.read_excel('data.xlsx')"
   ]
  },
  {
   "cell_type": "code",
   "execution_count": 4,
   "metadata": {},
   "outputs": [
    {
     "data": {
      "text/html": [
       "<div>\n",
       "<style scoped>\n",
       "    .dataframe tbody tr th:only-of-type {\n",
       "        vertical-align: middle;\n",
       "    }\n",
       "\n",
       "    .dataframe tbody tr th {\n",
       "        vertical-align: top;\n",
       "    }\n",
       "\n",
       "    .dataframe thead th {\n",
       "        text-align: right;\n",
       "    }\n",
       "</style>\n",
       "<table border=\"1\" class=\"dataframe\">\n",
       "  <thead>\n",
       "    <tr style=\"text-align: right;\">\n",
       "      <th></th>\n",
       "      <th>Фамилия</th>\n",
       "      <th>Имя</th>\n",
       "      <th>Отчество</th>\n",
       "      <th>Группа</th>\n",
       "    </tr>\n",
       "  </thead>\n",
       "  <tbody>\n",
       "    <tr>\n",
       "      <th>0</th>\n",
       "      <td>Беляева</td>\n",
       "      <td>Мария</td>\n",
       "      <td>Кирилловна</td>\n",
       "      <td>2Д11</td>\n",
       "    </tr>\n",
       "    <tr>\n",
       "      <th>1</th>\n",
       "      <td>Бобровник</td>\n",
       "      <td>Полина</td>\n",
       "      <td>Романовна</td>\n",
       "      <td>2Д11</td>\n",
       "    </tr>\n",
       "    <tr>\n",
       "      <th>2</th>\n",
       "      <td>Гебер</td>\n",
       "      <td>Анастасия</td>\n",
       "      <td>Викторовна</td>\n",
       "      <td>2Д11</td>\n",
       "    </tr>\n",
       "    <tr>\n",
       "      <th>3</th>\n",
       "      <td>Гнеушев</td>\n",
       "      <td>Иван</td>\n",
       "      <td>Николаевич</td>\n",
       "      <td>2Д11</td>\n",
       "    </tr>\n",
       "    <tr>\n",
       "      <th>4</th>\n",
       "      <td>Декало</td>\n",
       "      <td>Алена</td>\n",
       "      <td>Александровна</td>\n",
       "      <td>2Д11</td>\n",
       "    </tr>\n",
       "    <tr>\n",
       "      <th>...</th>\n",
       "      <td>...</td>\n",
       "      <td>...</td>\n",
       "      <td>...</td>\n",
       "      <td>...</td>\n",
       "    </tr>\n",
       "    <tr>\n",
       "      <th>86</th>\n",
       "      <td>Чижова</td>\n",
       "      <td>Анастасия</td>\n",
       "      <td>Васильевна</td>\n",
       "      <td>2Д13</td>\n",
       "    </tr>\n",
       "    <tr>\n",
       "      <th>87</th>\n",
       "      <td>Чичкова</td>\n",
       "      <td>Екатерина</td>\n",
       "      <td>Андреевна</td>\n",
       "      <td>2Д13</td>\n",
       "    </tr>\n",
       "    <tr>\n",
       "      <th>88</th>\n",
       "      <td>Шаравьёва</td>\n",
       "      <td>Кристина</td>\n",
       "      <td>Витальевна</td>\n",
       "      <td>2Д13</td>\n",
       "    </tr>\n",
       "    <tr>\n",
       "      <th>89</th>\n",
       "      <td>Шепель</td>\n",
       "      <td>Екатерина</td>\n",
       "      <td>Станиславовна</td>\n",
       "      <td>2Д13</td>\n",
       "    </tr>\n",
       "    <tr>\n",
       "      <th>90</th>\n",
       "      <td>Шкунденкова</td>\n",
       "      <td>Анна</td>\n",
       "      <td>Сергеевна</td>\n",
       "      <td>2Д13</td>\n",
       "    </tr>\n",
       "  </tbody>\n",
       "</table>\n",
       "<p>91 rows × 4 columns</p>\n",
       "</div>"
      ],
      "text/plain": [
       "        Фамилия        Имя       Отчество Группа\n",
       "0       Беляева      Мария     Кирилловна   2Д11\n",
       "1     Бобровник     Полина      Романовна   2Д11\n",
       "2         Гебер  Анастасия     Викторовна   2Д11\n",
       "3       Гнеушев       Иван     Николаевич   2Д11\n",
       "4        Декало      Алена  Александровна   2Д11\n",
       "..          ...        ...            ...    ...\n",
       "86       Чижова  Анастасия     Васильевна   2Д13\n",
       "87      Чичкова  Екатерина      Андреевна   2Д13\n",
       "88    Шаравьёва   Кристина     Витальевна   2Д13\n",
       "89       Шепель  Екатерина  Станиславовна   2Д13\n",
       "90  Шкунденкова       Анна      Сергеевна   2Д13\n",
       "\n",
       "[91 rows x 4 columns]"
      ]
     },
     "execution_count": 4,
     "metadata": {},
     "output_type": "execute_result"
    }
   ],
   "source": [
    "data"
   ]
  },
  {
   "cell_type": "code",
   "execution_count": 5,
   "metadata": {},
   "outputs": [],
   "source": [
    "def remove_suffix(s, suffix):\n",
    "    return s.replace(suffix, '')"
   ]
  },
  {
   "cell_type": "code",
   "execution_count": 6,
   "metadata": {},
   "outputs": [],
   "source": [
    "df['Продолжительность'] = df['Продолжительность'].apply(lambda x: remove_suffix(x, ' мин'))"
   ]
  },
  {
   "cell_type": "code",
   "execution_count": 7,
   "metadata": {},
   "outputs": [],
   "source": [
    "df.drop_duplicates(subset=['Имя', 'Продолжительность'], inplace=True)"
   ]
  },
  {
   "cell_type": "code",
   "execution_count": 8,
   "metadata": {},
   "outputs": [
    {
     "data": {
      "text/html": [
       "<div>\n",
       "<style scoped>\n",
       "    .dataframe tbody tr th:only-of-type {\n",
       "        vertical-align: middle;\n",
       "    }\n",
       "\n",
       "    .dataframe tbody tr th {\n",
       "        vertical-align: top;\n",
       "    }\n",
       "\n",
       "    .dataframe thead th {\n",
       "        text-align: right;\n",
       "    }\n",
       "</style>\n",
       "<table border=\"1\" class=\"dataframe\">\n",
       "  <thead>\n",
       "    <tr style=\"text-align: right;\">\n",
       "      <th></th>\n",
       "      <th>Участник</th>\n",
       "      <th>Тип аудио</th>\n",
       "      <th>Имя</th>\n",
       "      <th>Электронная почта</th>\n",
       "      <th>Дата</th>\n",
       "      <th>Приглашение</th>\n",
       "      <th>Регистрация</th>\n",
       "      <th>Время начала</th>\n",
       "      <th>Время окончания</th>\n",
       "      <th>Продолжительность</th>\n",
       "      <th>Компания</th>\n",
       "      <th>Обращение</th>\n",
       "      <th>Номер телефона</th>\n",
       "      <th>Адрес 1</th>\n",
       "      <th>Адрес 2</th>\n",
       "      <th>Город</th>\n",
       "      <th>Штат или область</th>\n",
       "      <th>Почтовый индекс</th>\n",
       "      <th>Страна или регион</th>\n",
       "      <th>Пользователь подключился к сети, используя:</th>\n",
       "    </tr>\n",
       "  </thead>\n",
       "  <tbody>\n",
       "    <tr>\n",
       "      <th>78</th>\n",
       "      <td>79</td>\n",
       "      <td>NaN</td>\n",
       "      <td>Чижова Анастасия 2Д13</td>\n",
       "      <td>idame@tpu.ru</td>\n",
       "      <td>2022-04-13</td>\n",
       "      <td>Нет</td>\n",
       "      <td>Н/Д</td>\n",
       "      <td>12:45:00</td>\n",
       "      <td>13:57:00</td>\n",
       "      <td>72</td>\n",
       "      <td>NaN</td>\n",
       "      <td>NaN</td>\n",
       "      <td>NaN</td>\n",
       "      <td>NaN</td>\n",
       "      <td>NaN</td>\n",
       "      <td>NaN</td>\n",
       "      <td>NaN</td>\n",
       "      <td>NaN</td>\n",
       "      <td>NaN</td>\n",
       "      <td>Внешнее</td>\n",
       "    </tr>\n",
       "    <tr>\n",
       "      <th>79</th>\n",
       "      <td>80</td>\n",
       "      <td>NaN</td>\n",
       "      <td>Чижова Анастасия 2Д13</td>\n",
       "      <td>idame@tpu.ru</td>\n",
       "      <td>2022-04-13</td>\n",
       "      <td>Нет</td>\n",
       "      <td>Н/Д</td>\n",
       "      <td>14:13:00</td>\n",
       "      <td>14:14:00</td>\n",
       "      <td>1</td>\n",
       "      <td>NaN</td>\n",
       "      <td>NaN</td>\n",
       "      <td>NaN</td>\n",
       "      <td>NaN</td>\n",
       "      <td>NaN</td>\n",
       "      <td>NaN</td>\n",
       "      <td>NaN</td>\n",
       "      <td>NaN</td>\n",
       "      <td>NaN</td>\n",
       "      <td>Внешнее</td>\n",
       "    </tr>\n",
       "  </tbody>\n",
       "</table>\n",
       "</div>"
      ],
      "text/plain": [
       "    Участник Тип аудио                    Имя Электронная почта       Дата  \\\n",
       "78        79       NaN  Чижова Анастасия 2Д13      idame@tpu.ru 2022-04-13   \n",
       "79        80       NaN  Чижова Анастасия 2Д13      idame@tpu.ru 2022-04-13   \n",
       "\n",
       "   Приглашение Регистрация Время начала Время окончания Продолжительность  \\\n",
       "78         Нет         Н/Д     12:45:00        13:57:00                72   \n",
       "79         Нет         Н/Д     14:13:00        14:14:00                 1   \n",
       "\n",
       "    Компания  Обращение  Номер телефона  Адрес 1  Адрес 2  Город  \\\n",
       "78       NaN        NaN             NaN      NaN      NaN    NaN   \n",
       "79       NaN        NaN             NaN      NaN      NaN    NaN   \n",
       "\n",
       "    Штат или область  Почтовый индекс  Страна или регион  \\\n",
       "78               NaN              NaN                NaN   \n",
       "79               NaN              NaN                NaN   \n",
       "\n",
       "   Пользователь подключился к сети, используя:  \n",
       "78                                     Внешнее  \n",
       "79                                     Внешнее  "
      ]
     },
     "execution_count": 8,
     "metadata": {},
     "output_type": "execute_result"
    }
   ],
   "source": [
    "df[df['Имя'] == 'Чижова Анастасия 2Д13']"
   ]
  },
  {
   "cell_type": "code",
   "execution_count": 9,
   "metadata": {},
   "outputs": [],
   "source": [
    "names = [df['Имя'].iloc[i].split() for i in range(df.shape[0])]"
   ]
  },
  {
   "cell_type": "code",
   "execution_count": 10,
   "metadata": {},
   "outputs": [],
   "source": [
    "unknown = [name for name in names if len(name) < 2]"
   ]
  },
  {
   "cell_type": "code",
   "execution_count": 11,
   "metadata": {},
   "outputs": [],
   "source": [
    "names = [{item.lower() for item in name} for name in names]\n",
    "# names = [set(''.join(name)) for name in names]"
   ]
  },
  {
   "cell_type": "code",
   "execution_count": 12,
   "metadata": {},
   "outputs": [],
   "source": [
    "data['Продолжительность'] = [0 for _ in range(data.shape[0])]"
   ]
  },
  {
   "cell_type": "code",
   "execution_count": 13,
   "metadata": {},
   "outputs": [
    {
     "data": {
      "text/plain": [
       "array(['Беляева', 'Мария', 'Кирилловна'], dtype=object)"
      ]
     },
     "execution_count": 13,
     "metadata": {},
     "output_type": "execute_result"
    }
   ],
   "source": [
    "data[['Фамилия', 'Имя', 'Отчество']].iloc[0].values"
   ]
  },
  {
   "cell_type": "code",
   "execution_count": 14,
   "metadata": {},
   "outputs": [],
   "source": [
    "data_names = [data[['Фамилия', ]].iloc[i].values for i in range(data.shape[0])]"
   ]
  },
  {
   "cell_type": "code",
   "execution_count": 15,
   "metadata": {},
   "outputs": [],
   "source": [
    "data_names = [''.join({item.lower() for item in name}) for name in data_names]"
   ]
  },
  {
   "cell_type": "code",
   "execution_count": 16,
   "metadata": {},
   "outputs": [],
   "source": [
    "data['names'] = data_names"
   ]
  },
  {
   "cell_type": "code",
   "execution_count": 17,
   "metadata": {},
   "outputs": [],
   "source": [
    "curnames = [None for _ in range(len(names))]\n",
    "\n",
    "for i, name in enumerate(names):\n",
    "    for item in name:\n",
    "        if item in data_names:\n",
    "            curnames[i] = item"
   ]
  },
  {
   "cell_type": "code",
   "execution_count": 18,
   "metadata": {},
   "outputs": [],
   "source": [
    "for i in range(data.shape[0]):\n",
    "    for j, cname in enumerate(curnames):\n",
    "        if cname == data.iloc[i]['names']:\n",
    "            data.loc[i, 'Продолжительность'] += int(df.iloc[j]['Продолжительность'])"
   ]
  },
  {
   "cell_type": "code",
   "execution_count": 19,
   "metadata": {},
   "outputs": [
    {
     "data": {
      "text/html": [
       "<div>\n",
       "<style scoped>\n",
       "    .dataframe tbody tr th:only-of-type {\n",
       "        vertical-align: middle;\n",
       "    }\n",
       "\n",
       "    .dataframe tbody tr th {\n",
       "        vertical-align: top;\n",
       "    }\n",
       "\n",
       "    .dataframe thead th {\n",
       "        text-align: right;\n",
       "    }\n",
       "</style>\n",
       "<table border=\"1\" class=\"dataframe\">\n",
       "  <thead>\n",
       "    <tr style=\"text-align: right;\">\n",
       "      <th></th>\n",
       "      <th>Фамилия</th>\n",
       "      <th>Имя</th>\n",
       "      <th>Отчество</th>\n",
       "      <th>Группа</th>\n",
       "      <th>Продолжительность</th>\n",
       "      <th>names</th>\n",
       "    </tr>\n",
       "  </thead>\n",
       "  <tbody>\n",
       "    <tr>\n",
       "      <th>0</th>\n",
       "      <td>Беляева</td>\n",
       "      <td>Мария</td>\n",
       "      <td>Кирилловна</td>\n",
       "      <td>2Д11</td>\n",
       "      <td>197</td>\n",
       "      <td>беляева</td>\n",
       "    </tr>\n",
       "    <tr>\n",
       "      <th>1</th>\n",
       "      <td>Бобровник</td>\n",
       "      <td>Полина</td>\n",
       "      <td>Романовна</td>\n",
       "      <td>2Д11</td>\n",
       "      <td>93</td>\n",
       "      <td>бобровник</td>\n",
       "    </tr>\n",
       "    <tr>\n",
       "      <th>2</th>\n",
       "      <td>Гебер</td>\n",
       "      <td>Анастасия</td>\n",
       "      <td>Викторовна</td>\n",
       "      <td>2Д11</td>\n",
       "      <td>94</td>\n",
       "      <td>гебер</td>\n",
       "    </tr>\n",
       "    <tr>\n",
       "      <th>3</th>\n",
       "      <td>Гнеушев</td>\n",
       "      <td>Иван</td>\n",
       "      <td>Николаевич</td>\n",
       "      <td>2Д11</td>\n",
       "      <td>99</td>\n",
       "      <td>гнеушев</td>\n",
       "    </tr>\n",
       "    <tr>\n",
       "      <th>4</th>\n",
       "      <td>Декало</td>\n",
       "      <td>Алена</td>\n",
       "      <td>Александровна</td>\n",
       "      <td>2Д11</td>\n",
       "      <td>87</td>\n",
       "      <td>декало</td>\n",
       "    </tr>\n",
       "    <tr>\n",
       "      <th>...</th>\n",
       "      <td>...</td>\n",
       "      <td>...</td>\n",
       "      <td>...</td>\n",
       "      <td>...</td>\n",
       "      <td>...</td>\n",
       "      <td>...</td>\n",
       "    </tr>\n",
       "    <tr>\n",
       "      <th>86</th>\n",
       "      <td>Чижова</td>\n",
       "      <td>Анастасия</td>\n",
       "      <td>Васильевна</td>\n",
       "      <td>2Д13</td>\n",
       "      <td>73</td>\n",
       "      <td>чижова</td>\n",
       "    </tr>\n",
       "    <tr>\n",
       "      <th>87</th>\n",
       "      <td>Чичкова</td>\n",
       "      <td>Екатерина</td>\n",
       "      <td>Андреевна</td>\n",
       "      <td>2Д13</td>\n",
       "      <td>94</td>\n",
       "      <td>чичкова</td>\n",
       "    </tr>\n",
       "    <tr>\n",
       "      <th>88</th>\n",
       "      <td>Шаравьёва</td>\n",
       "      <td>Кристина</td>\n",
       "      <td>Витальевна</td>\n",
       "      <td>2Д13</td>\n",
       "      <td>3</td>\n",
       "      <td>шаравьёва</td>\n",
       "    </tr>\n",
       "    <tr>\n",
       "      <th>89</th>\n",
       "      <td>Шепель</td>\n",
       "      <td>Екатерина</td>\n",
       "      <td>Станиславовна</td>\n",
       "      <td>2Д13</td>\n",
       "      <td>71</td>\n",
       "      <td>шепель</td>\n",
       "    </tr>\n",
       "    <tr>\n",
       "      <th>90</th>\n",
       "      <td>Шкунденкова</td>\n",
       "      <td>Анна</td>\n",
       "      <td>Сергеевна</td>\n",
       "      <td>2Д13</td>\n",
       "      <td>56</td>\n",
       "      <td>шкунденкова</td>\n",
       "    </tr>\n",
       "  </tbody>\n",
       "</table>\n",
       "<p>91 rows × 6 columns</p>\n",
       "</div>"
      ],
      "text/plain": [
       "        Фамилия        Имя       Отчество Группа  Продолжительность  \\\n",
       "0       Беляева      Мария     Кирилловна   2Д11                197   \n",
       "1     Бобровник     Полина      Романовна   2Д11                 93   \n",
       "2         Гебер  Анастасия     Викторовна   2Д11                 94   \n",
       "3       Гнеушев       Иван     Николаевич   2Д11                 99   \n",
       "4        Декало      Алена  Александровна   2Д11                 87   \n",
       "..          ...        ...            ...    ...                ...   \n",
       "86       Чижова  Анастасия     Васильевна   2Д13                 73   \n",
       "87      Чичкова  Екатерина      Андреевна   2Д13                 94   \n",
       "88    Шаравьёва   Кристина     Витальевна   2Д13                  3   \n",
       "89       Шепель  Екатерина  Станиславовна   2Д13                 71   \n",
       "90  Шкунденкова       Анна      Сергеевна   2Д13                 56   \n",
       "\n",
       "          names  \n",
       "0       беляева  \n",
       "1     бобровник  \n",
       "2         гебер  \n",
       "3       гнеушев  \n",
       "4        декало  \n",
       "..          ...  \n",
       "86       чижова  \n",
       "87      чичкова  \n",
       "88    шаравьёва  \n",
       "89       шепель  \n",
       "90  шкунденкова  \n",
       "\n",
       "[91 rows x 6 columns]"
      ]
     },
     "execution_count": 19,
     "metadata": {},
     "output_type": "execute_result"
    }
   ],
   "source": [
    "data"
   ]
  },
  {
   "cell_type": "code",
   "execution_count": 20,
   "metadata": {},
   "outputs": [
    {
     "data": {
      "text/plain": [
       "count     91.000000\n",
       "mean      91.021978\n",
       "std       51.742305\n",
       "min        0.000000\n",
       "25%       76.000000\n",
       "50%       94.000000\n",
       "75%       99.500000\n",
       "max      197.000000\n",
       "Name: Продолжительность, dtype: float64"
      ]
     },
     "execution_count": 20,
     "metadata": {},
     "output_type": "execute_result"
    }
   ],
   "source": [
    "data['Продолжительность'].describe()"
   ]
  },
  {
   "cell_type": "code",
   "execution_count": 21,
   "metadata": {},
   "outputs": [],
   "source": [
    "data.to_excel('посещаемость_.xlsx', index=False)"
   ]
  },
  {
   "cell_type": "code",
   "execution_count": 22,
   "metadata": {},
   "outputs": [],
   "source": [
    "data.sort_values(by='Продолжительность', inplace=True, ascending=False)"
   ]
  },
  {
   "cell_type": "code",
   "execution_count": 23,
   "metadata": {},
   "outputs": [],
   "source": [
    "data.loc[data['Продолжительность'] > 95, 'Продолжительность'] = 95"
   ]
  },
  {
   "cell_type": "code",
   "execution_count": 24,
   "metadata": {},
   "outputs": [],
   "source": [
    "_2d11 = data[data['Группа'] == '2Д11'] \n",
    "_2d12 = data[data['Группа'] == '2Д12']\n",
    "_2d13 = data[data['Группа'] == '2Д13']"
   ]
  },
  {
   "cell_type": "code",
   "execution_count": 25,
   "metadata": {},
   "outputs": [],
   "source": [
    "flag = _2d11['Продолжительность'] >= 60\n",
    "scores = [1 if f else 0 for f in flag]\n",
    "_2d11 = _2d11.assign(Баллы=scores)"
   ]
  },
  {
   "cell_type": "code",
   "execution_count": 26,
   "metadata": {},
   "outputs": [],
   "source": [
    "flag = _2d12['Продолжительность'] >= 60\n",
    "scores = [1 if f else 0 for f in flag]\n",
    "_2d12 = _2d12.assign(Баллы=scores)"
   ]
  },
  {
   "cell_type": "code",
   "execution_count": 27,
   "metadata": {},
   "outputs": [],
   "source": [
    "flag = _2d13['Продолжительность'] >= 60\n",
    "scores = [1 if f else 0 for f in flag]\n",
    "_2d13 = _2d13.assign(Баллы=scores)"
   ]
  },
  {
   "cell_type": "code",
   "execution_count": 28,
   "metadata": {},
   "outputs": [],
   "source": [
    "_2d11.sort_values(by='Фамилия').to_excel('2d11_lec-10.xlsx', index=False)\n",
    "_2d12.sort_values(by='Фамилия').to_excel('2d12_lec-10.xlsx', index=False)\n",
    "_2d13.sort_values(by='Фамилия').to_excel('2d13_lec-10.xlsx', index=False)"
   ]
  },
  {
   "cell_type": "code",
   "execution_count": 29,
   "metadata": {},
   "outputs": [
    {
     "data": {
      "text/plain": [
       "<matplotlib.colors.ListedColormap at 0x1fc7ff659d0>"
      ]
     },
     "execution_count": 29,
     "metadata": {},
     "output_type": "execute_result"
    }
   ],
   "source": [
    "sns.set_theme(style='whitegrid')\n",
    "sns.color_palette(\"viridis\", as_cmap=True)"
   ]
  },
  {
   "cell_type": "code",
   "execution_count": 30,
   "metadata": {},
   "outputs": [
    {
     "data": {
      "image/png": "[encoded data removed]",
      "text/plain": [
       "<Figure size 864x1080 with 3 Axes>"
      ]
     },
     "metadata": {},
     "output_type": "display_data"
    }
   ],
   "source": [
    "f = plt.figure(figsize=(12, 15))\n",
    "gs = f.add_gridspec(1, 3)\n",
    "f.suptitle('Лекция 10', fontsize=16)\n",
    "\n",
    "with sns.axes_style(\"ticks\"):\n",
    "    ax = f.add_subplot(gs[0])\n",
    "    sns.barplot(x=\"Продолжительность\", y=\"Фамилия\", data=_2d11,)\n",
    "    ax.set(ylabel=\"\", title='Группа 2Д11',\n",
    "       xlabel=\"Продолжительность, мин.\")\n",
    "\n",
    "with sns.axes_style(\"ticks\"):\n",
    "    ax = f.add_subplot(gs[1])\n",
    "    sns.barplot(x=\"Продолжительность\", y=\"Фамилия\", data=_2d12,)\n",
    "    ax.set(ylabel=\"\", title='Группа 2Д12',\n",
    "       xlabel=\"Продолжительность, мин.\")\n",
    "\n",
    "with sns.axes_style(\"ticks\"):\n",
    "    ax = f.add_subplot(gs[2])\n",
    "    sns.barplot(x=\"Продолжительность\", y=\"Фамилия\", data=_2d13,)\n",
    "    ax.set(ylabel=\"\", title='Группа 2Д13',\n",
    "       xlabel=\"Продолжительность, мин.\")\n",
    "\n",
    "f.tight_layout()\n",
    "plt.savefig('посещаемость.png', dpi=800)"
   ]
  },
  {
   "cell_type": "code",
   "execution_count": null,
   "metadata": {},
   "outputs": [],
   "source": []
  }
 ],
 "metadata": {
  "kernelspec": {
   "display_name": "Python 3",
   "language": "python",
   "name": "python3"
  },
  "language_info": {
   "codemirror_mode": {
    "name": "ipython",
    "version": 3
   },
   "file_extension": ".py",
   "mimetype": "text/x-python",
   "name": "python",
   "nbconvert_exporter": "python",
   "pygments_lexer": "ipython3",
   "version": "3.8.5"
  }
 },
 "nbformat": 4,
 "nbformat_minor": 4
}
