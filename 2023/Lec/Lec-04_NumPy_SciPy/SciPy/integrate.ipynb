{
 "cells": [
  {
   "cell_type": "code",
   "execution_count": 1,
   "id": "6e67da19-484d-4601-b707-e3fdb6145c6e",
   "metadata": {},
   "outputs": [],
   "source": [
    "from scipy.integrate import quad"
   ]
  },
  {
   "cell_type": "code",
   "execution_count": 2,
   "id": "b3d42640-0181-4a8a-8afc-768a896cb45c",
   "metadata": {},
   "outputs": [],
   "source": [
    "def func(x):\n",
    "    return 1 / (1 + x ** 2)"
   ]
  },
  {
   "cell_type": "code",
   "execution_count": 3,
   "id": "32008667-aca5-4bd7-93aa-27462af28199",
   "metadata": {},
   "outputs": [
    {
     "data": {
      "text/plain": [
       "(0.7853981633974484, 8.719671245021581e-15)"
      ]
     },
     "execution_count": 3,
     "metadata": {},
     "output_type": "execute_result"
    }
   ],
   "source": [
    "a, b = 0, 1\n",
    "res = quad(func, a, b)\n",
    "res"
   ]
  },
  {
   "cell_type": "code",
   "execution_count": 4,
   "id": "711c7e12-e628-4912-9a40-d28a8fe0da20",
   "metadata": {},
   "outputs": [],
   "source": [
    "import numpy as np"
   ]
  },
  {
   "cell_type": "code",
   "execution_count": 5,
   "id": "8a89c126-5531-47cc-925f-6c232b78c15e",
   "metadata": {},
   "outputs": [],
   "source": [
    "def func(x, n, m):\n",
    "    return np.sin(x) ** n * np.cos(x) ** m"
   ]
  },
  {
   "cell_type": "code",
   "execution_count": 6,
   "id": "07fefce7-3085-45a2-bda2-28e563bf0cf5",
   "metadata": {},
   "outputs": [
    {
     "data": {
      "text/plain": [
       "(0.26666666666666666, 2.960594732333751e-15)"
      ]
     },
     "execution_count": 6,
     "metadata": {},
     "output_type": "execute_result"
    }
   ],
   "source": [
    "n, m = 2, 3\n",
    "quad(func, -np.pi/2, np.pi/2, args=(n, m))"
   ]
  },
  {
   "cell_type": "code",
   "execution_count": null,
   "id": "37e4ce6d-cdc9-456c-8134-eb8614ddfe30",
   "metadata": {},
   "outputs": [],
   "source": []
  }
 ],
 "metadata": {
  "kernelspec": {
   "display_name": "Python 3 (ipykernel)",
   "language": "python",
   "name": "python3"
  },
  "language_info": {
   "codemirror_mode": {
    "name": "ipython",
    "version": 3
   },
   "file_extension": ".py",
   "mimetype": "text/x-python",
   "name": "python",
   "nbconvert_exporter": "python",
   "pygments_lexer": "ipython3",
   "version": "3.8.13"
  }
 },
 "nbformat": 4,
 "nbformat_minor": 5
}
