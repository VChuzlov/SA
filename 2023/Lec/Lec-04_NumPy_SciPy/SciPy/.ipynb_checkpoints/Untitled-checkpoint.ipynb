{
 "cells": [
  {
   "cell_type": "code",
   "execution_count": 131,
   "metadata": {},
   "outputs": [],
   "source": [
    "import math\n",
    "import matplotlib.pyplot as plt\n",
    "import numpy as np"
   ]
  },
  {
   "cell_type": "code",
   "execution_count": 132,
   "metadata": {},
   "outputs": [],
   "source": [
    "def equations(x, y): # Функция, содержащая правые части дифф. уравнений\n",
    "    return [y[1], math.exp(-x * y[0])]"
   ]
  },
  {
   "cell_type": "code",
   "execution_count": 133,
   "metadata": {},
   "outputs": [],
   "source": [
    "def rk(func, x0, xf, y0, h):\n",
    "    count = int((xf - x0) / h) + 1\n",
    "    y = [y0[:]]\n",
    "    x = x0\n",
    "\n",
    "    for i in range(count-1):\n",
    "        k1 = func(x, y[i])\n",
    "        k2 = func(x + h / 2, list(map(\n",
    "             lambda arr1, arr2: arr1 + arr2 * h / 2, y[i], k1)))\n",
    "        k3 = func(x + h / 2, list(map(\n",
    "             lambda arr1, arr2: arr1 + arr2 * h / 2, y[i], k2)))\n",
    "        k4 = func(x + h, list(map(\n",
    "             lambda arr1, arr2: arr1 + arr2 * h, y[i], k3)))\n",
    "        \n",
    "        y.append([])\n",
    "\n",
    "        for j in range(len(y0)):\n",
    "            y[i+1].append(y[i][j] + h / 6 * (k1[j] + 2 * k2[j] + 2 * k3[j] + k4[j]))\n",
    "        x += h\n",
    "\n",
    "    return y"
   ]
  },
  {
   "cell_type": "code",
   "execution_count": 134,
   "metadata": {},
   "outputs": [],
   "source": [
    "def rk1(func, x0, xf, y0, h):\n",
    "    count = int((xf - x0) / h) + 1\n",
    "    y = [y0[:]]\n",
    "    x = x0\n",
    "\n",
    "    for i in range(count-1):\n",
    "        k1 = func(x, y[i])\n",
    "        k2 = func(x + h / 2, [y + k * h / 2 for y, k in zip(y[i], k1)])\n",
    "        k3 = func(x + h / 2, [y + k * h / 2 for y, k in zip(y[i], k2)])\n",
    "        k4 = func(x + h, [y + k * h for y, k in zip(y[i], k3)])\n",
    "        \n",
    "        y.append([])\n",
    "\n",
    "        for j in range(len(y0)):\n",
    "            y[i+1].append(\n",
    "                y[i][j] + h / 6 * (k1[j] + 2 * k2[j] + 2 * k3[j] + k4[j]))\n",
    "        \n",
    "        x += h\n",
    "\n",
    "    return y"
   ]
  },
  {
   "cell_type": "code",
   "execution_count": 135,
   "metadata": {},
   "outputs": [],
   "source": [
    "res1 = (rk(equations, 0, 1, [0, 0], 0.1))\n",
    "res2 = (rk1(equations, 0, 1, [0, 0], 0.1))"
   ]
  },
  {
   "cell_type": "code",
   "execution_count": 136,
   "metadata": {},
   "outputs": [
    {
     "data": {
      "text/plain": [
       "True"
      ]
     },
     "execution_count": 136,
     "metadata": {},
     "output_type": "execute_result"
    }
   ],
   "source": [
    "res1 == res2"
   ]
  },
  {
   "cell_type": "code",
   "execution_count": 137,
   "metadata": {},
   "outputs": [],
   "source": [
    "def equations(t, c, k):  # Функция, содержащая правые части дифф. уравнений\n",
    "    right_parts = [-k[0] * c[0] + k[1] * c[1],\n",
    "                    k[0] * c[0] - k[1] * c[1]]\n",
    "    return right_parts"
   ]
  },
  {
   "cell_type": "code",
   "execution_count": 138,
   "metadata": {},
   "outputs": [],
   "source": [
    "def rk(func, x0, xf, y0, h, args=()):\n",
    "    count = int((xf - x0) / h) + 1\n",
    "    y = [y0[:]]\n",
    "    x = x0\n",
    "\n",
    "    for i in range(count-1):\n",
    "        k1 = func(x, y[i], *args)\n",
    "        k2 = func(x + h / 2, list(map(\n",
    "             lambda arr1, arr2: arr1 + arr2 * h / 2, y[i], k1)), *args)\n",
    "        k3 = func(x + h / 2, list(map(\n",
    "             lambda arr1, arr2: arr1 + arr2 * h / 2, y[i], k2)), *args)\n",
    "        k4 = func(x + h, list(map(\n",
    "             lambda arr1, arr2: arr1 + arr2 * h, y[i], k3)), *args)\n",
    "        y.append([])\n",
    "\n",
    "        for j in range(len(y0)):\n",
    "            y[i+1].append(y[i][j] + h / 6 * (k1[j] + 2 * k2[j] + 2 * k3[j] + k4[j]))\n",
    "        \n",
    "        x += h\n",
    "\n",
    "    return y"
   ]
  },
  {
   "cell_type": "code",
   "execution_count": 139,
   "metadata": {},
   "outputs": [],
   "source": [
    "def rk(func, x0, xf, y0, h, args=()):\n",
    "    count = int((xf - x0) / h) + 1\n",
    "    y = [y0[:]]\n",
    "    x = x0\n",
    "\n",
    "    for i in range(count-1):\n",
    "        k1 = func(x, y[i], *args)\n",
    "        k2 = func(x + h / 2, [y + k * h / 2 for y, k in zip(y[i], k1)], *args)\n",
    "        k3 = func(x + h / 2, [y + k * h / 2 for y, k in zip(y[i], k2)], *args)\n",
    "        k4 = func(x + h, [y + k * h for y, k in zip(y[i], k3)], *args)\n",
    "        y.append([])\n",
    "\n",
    "        for j in range(len(y0)):\n",
    "            y[i+1].append(y[i][j] + h / 6 * (k1[j] + 2 * k2[j] + 2 * k3[j] + k4[j]))\n",
    "        \n",
    "        x += h\n",
    "\n",
    "    return y"
   ]
  },
  {
   "cell_type": "code",
   "execution_count": 140,
   "metadata": {},
   "outputs": [
    {
     "ename": "TypeError",
     "evalue": "rk1() got an unexpected keyword argument 'args'",
     "output_type": "error",
     "traceback": [
      "\u001b[1;31m---------------------------------------------------------------------------\u001b[0m",
      "\u001b[1;31mTypeError\u001b[0m                                 Traceback (most recent call last)",
      "\u001b[1;32m<ipython-input-140-8e09ffc26668>\u001b[0m in \u001b[0;36m<module>\u001b[1;34m\u001b[0m\n\u001b[0;32m      1\u001b[0m \u001b[0mk\u001b[0m \u001b[1;33m=\u001b[0m \u001b[1;33m[\u001b[0m\u001b[1;36m0.85\u001b[0m\u001b[1;33m,\u001b[0m \u001b[1;36m0.1\u001b[0m\u001b[1;33m]\u001b[0m\u001b[1;33m\u001b[0m\u001b[1;33m\u001b[0m\u001b[0m\n\u001b[0;32m      2\u001b[0m \u001b[0mres1\u001b[0m \u001b[1;33m=\u001b[0m \u001b[0mrk\u001b[0m\u001b[1;33m(\u001b[0m\u001b[0mequations\u001b[0m\u001b[1;33m,\u001b[0m \u001b[1;36m0\u001b[0m\u001b[1;33m,\u001b[0m \u001b[1;36m1\u001b[0m\u001b[1;33m,\u001b[0m \u001b[1;33m[\u001b[0m\u001b[1;36m1\u001b[0m\u001b[1;33m,\u001b[0m \u001b[1;36m0\u001b[0m\u001b[1;33m]\u001b[0m\u001b[1;33m,\u001b[0m \u001b[1;36m0.1\u001b[0m\u001b[1;33m,\u001b[0m \u001b[0margs\u001b[0m\u001b[1;33m=\u001b[0m\u001b[1;33m(\u001b[0m\u001b[0mk\u001b[0m\u001b[1;33m,\u001b[0m \u001b[1;33m)\u001b[0m\u001b[1;33m)\u001b[0m\u001b[1;33m\u001b[0m\u001b[1;33m\u001b[0m\u001b[0m\n\u001b[1;32m----> 3\u001b[1;33m \u001b[0mres2\u001b[0m \u001b[1;33m=\u001b[0m \u001b[0mrk1\u001b[0m\u001b[1;33m(\u001b[0m\u001b[0mequations\u001b[0m\u001b[1;33m,\u001b[0m \u001b[1;36m0\u001b[0m\u001b[1;33m,\u001b[0m \u001b[1;36m1\u001b[0m\u001b[1;33m,\u001b[0m \u001b[1;33m[\u001b[0m\u001b[1;36m1\u001b[0m\u001b[1;33m,\u001b[0m \u001b[1;36m0\u001b[0m\u001b[1;33m]\u001b[0m\u001b[1;33m,\u001b[0m \u001b[1;36m0.1\u001b[0m\u001b[1;33m,\u001b[0m \u001b[0margs\u001b[0m\u001b[1;33m=\u001b[0m\u001b[1;33m(\u001b[0m\u001b[0mk\u001b[0m\u001b[1;33m,\u001b[0m \u001b[1;33m)\u001b[0m\u001b[1;33m)\u001b[0m\u001b[1;33m\u001b[0m\u001b[1;33m\u001b[0m\u001b[0m\n\u001b[0m",
      "\u001b[1;31mTypeError\u001b[0m: rk1() got an unexpected keyword argument 'args'"
     ]
    }
   ],
   "source": [
    "k = [0.85, 0.1]\n",
    "res1 = rk(equations, 0, 1, [1, 0], 0.1, args=(k, ))\n",
    "res2 = rk1(equations, 0, 1, [1, 0], 0.1, args=(k, ))"
   ]
  },
  {
   "cell_type": "code",
   "execution_count": null,
   "metadata": {},
   "outputs": [],
   "source": [
    "res1 == res2"
   ]
  },
  {
   "cell_type": "code",
   "execution_count": null,
   "metadata": {},
   "outputs": [],
   "source": [
    "k = [0.85, 0.1]\n",
    "results = rk(equations, 0, 1, [1, 0], 0.1, args=(k, ))\n",
    "for i, line in enumerate(results):\n",
    "    ca, cb = line\n",
    "    print(f'CA,{i:2} = {ca:.4f};  CB,{i:2} = {cb:.4f}')"
   ]
  },
  {
   "cell_type": "code",
   "execution_count": null,
   "metadata": {},
   "outputs": [],
   "source": [
    "k = [0.85, 0.1]\n",
    "results = rk(equations, 0, 1, [1, 0], 0.1, args=(k, ))\n",
    "print('  CA   |   CB')\n",
    "print('-' * 15)\n",
    "for line in results:\n",
    "    ca, cb = line\n",
    "    print(f'{ca:.4f} | {cb:.4f}')"
   ]
  },
  {
   "cell_type": "code",
   "execution_count": 141,
   "metadata": {},
   "outputs": [],
   "source": [
    "def func(t, y, k):\n",
    "    return [\n",
    "        -k[0] * y[0],\n",
    "        k[0] * y[0] - k[1] * y[1],\n",
    "        k[1] * y[1]\n",
    "    ]"
   ]
  },
  {
   "cell_type": "code",
   "execution_count": 142,
   "metadata": {},
   "outputs": [],
   "source": [
    "def eiler(func, x0, xf, y0, h, args=()):\n",
    "    count = int((xf - x0) / h) + 1\n",
    "    y = [y0[:]]\n",
    "    x = x0\n",
    "\n",
    "    for i in range(count-1):\n",
    "        right_parts = func(x, y[i], *args)\n",
    "        y.append([])\n",
    "\n",
    "        for j in range(len(y0)):\n",
    "            y[i+1].append(y[i][j] + h * right_parts[j])\n",
    "\n",
    "        x += h\n",
    "\n",
    "    return y"
   ]
  },
  {
   "cell_type": "code",
   "execution_count": 217,
   "metadata": {},
   "outputs": [],
   "source": [
    "k = [0.2, 0.8]\n",
    "y0 = [100, 0, 0]\n",
    "t0, tf = 0, 20"
   ]
  },
  {
   "cell_type": "code",
   "execution_count": 218,
   "metadata": {},
   "outputs": [],
   "source": [
    "y_eiler = eiler(func, t0, tf, y0, 0.1, args=(k, ))\n",
    "y_eiler = np.array(y_eiler)"
   ]
  },
  {
   "cell_type": "code",
   "execution_count": 219,
   "metadata": {},
   "outputs": [],
   "source": [
    "y_rk = rk(func, t0, tf, y0, 0.1, args=(k, ))\n",
    "y_rk = np.array(y_rk)"
   ]
  },
  {
   "cell_type": "code",
   "execution_count": 220,
   "metadata": {},
   "outputs": [],
   "source": [
    "t = np.linspace(t0, tf, 10)"
   ]
  },
  {
   "cell_type": "code",
   "execution_count": 221,
   "metadata": {},
   "outputs": [],
   "source": [
    "a_exact = y0[0] * np.exp(-k[0] * t)\n",
    "b_exact = y0[0] * k[0] / (k[1] - k[0]) * (np.exp(-k[0] * t) - np.exp(-k[1] * t))\n",
    "c_exact = y0[0] - a_exact - b_exact"
   ]
  },
  {
   "cell_type": "code",
   "execution_count": 222,
   "metadata": {},
   "outputs": [],
   "source": [
    "h = 0.1\n",
    "count = int((tf - t0) / h) + 1\n",
    "x = [t0 + i * h for i in range(count)]"
   ]
  },
  {
   "cell_type": "code",
   "execution_count": 223,
   "metadata": {},
   "outputs": [],
   "source": [
    "plt.style.use('seaborn-whitegrid')"
   ]
  },
  {
   "cell_type": "code",
   "execution_count": 224,
   "metadata": {},
   "outputs": [
    {
     "data": {
      "text/plain": [
       "<matplotlib.legend.Legend at 0x19c2a1f0070>"
      ]
     },
     "execution_count": 224,
     "metadata": {},
     "output_type": "execute_result"
    },
    {
     "data": {
      "image/png": "[encoded data removed]",
      "text/plain": [
       "<Figure size 864x288 with 2 Axes>"
      ]
     },
     "metadata": {},
     "output_type": "display_data"
    }
   ],
   "source": [
    "fig, ax = plt.subplots(1, 2, figsize=(12, 4))\n",
    "\n",
    "ax[0].set_ylabel('Концентрация, %')\n",
    "ax[0].set_xlabel('Время, с')\n",
    "ax[0].set_title('Метод Эйлера')\n",
    "\n",
    "ax[0].plot(x, y_eiler[:, 0], label='[A]')\n",
    "ax[0].plot(x, y_eiler[:, 1], label='[B]')\n",
    "ax[0].plot(x, y_eiler[:, 2], label='[C]')\n",
    "ax[0].legend(title='Численное решение')\n",
    "\n",
    "ax[0].scatter(t, a_exact)\n",
    "ax[0].scatter(t, b_exact)\n",
    "ax[0].scatter(t, c_exact)\n",
    "\n",
    "\n",
    "ax[1].set_ylabel('Концентрация, %')\n",
    "ax[1].set_xlabel('Время, с')\n",
    "ax[1].set_title('Метод Рунге-Кутты')\n",
    "\n",
    "ax[1].plot(x, y_rk[:, 0], label='[A]')\n",
    "ax[1].plot(x, y_rk[:, 1], label='[B]')\n",
    "ax[1].plot(x, y_rk[:, 2], label='[C]')\n",
    "ax[1].legend(title='Численное решение')\n",
    "\n",
    "s1 = ax[1].scatter(t, a_exact)\n",
    "s2 = ax[1].scatter(t, b_exact)\n",
    "s3 = ax[1].scatter(t, c_exact)\n",
    "\n",
    "\n",
    "line_labels=['[A]', '[B]', '[C]']\n",
    "fig.subplots_adjust(bottom=0.2)\n",
    "\n",
    "fig.legend(\n",
    "    title='Аналитическое решение',\n",
    "    handles=[s1, s2, s3],\n",
    "    bbox_to_anchor=(0.5, 0.11),\n",
    "    labels=line_labels,\n",
    "    loc=\"upper center\",\n",
    "    borderaxespad=0,\n",
    "    fancybox=True,\n",
    "    ncol=3,\n",
    ")\n",
    "\n",
    "# plt.savefig('fig.png', dpi=800)"
   ]
  },
  {
   "cell_type": "code",
   "execution_count": null,
   "metadata": {},
   "outputs": [],
   "source": []
  }
 ],
 "metadata": {
  "kernelspec": {
   "display_name": "Python 3",
   "language": "python",
   "name": "python3"
  },
  "language_info": {
   "codemirror_mode": {
    "name": "ipython",
    "version": 3
   },
   "file_extension": ".py",
   "mimetype": "text/x-python",
   "name": "python",
   "nbconvert_exporter": "python",
   "pygments_lexer": "ipython3",
   "version": "3.8.5"
  }
 },
 "nbformat": 4,
 "nbformat_minor": 4
}
