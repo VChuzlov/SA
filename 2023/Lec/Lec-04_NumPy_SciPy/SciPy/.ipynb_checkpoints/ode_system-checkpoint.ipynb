{
 "cells": [
  {
   "cell_type": "code",
   "execution_count": 1,
   "id": "29903d63-3a60-4ec8-a61e-f8721a1a167f",
   "metadata": {},
   "outputs": [],
   "source": [
    "import numpy as np\n",
    "from scipy.integrate import solve_ivp"
   ]
  },
  {
   "cell_type": "code",
   "execution_count": 2,
   "id": "76c9c57f-6607-461c-a087-f5ee33c02d87",
   "metadata": {},
   "outputs": [],
   "source": [
    "k1, k2 = .2, .8\n",
    "y0 = 100, 0, 0\n",
    "t0, tf = 0, 20"
   ]
  },
  {
   "cell_type": "code",
   "execution_count": 3,
   "id": "c4b1129a-e1a1-4f1b-a8f5-074e4c263be8",
   "metadata": {},
   "outputs": [],
   "source": [
    "def func(t, y, k1, k2):\n",
    "    y1, y2, y3 = y\n",
    "    dy1dt = -k1 * y1\n",
    "    dy2dt = k1 * y1 - k2 * y2\n",
    "    dy3dt = k2 * y2\n",
    "    \n",
    "    return dy1dt, dy2dt, dy3dt"
   ]
  },
  {
   "cell_type": "code",
   "execution_count": 4,
   "id": "ff5d7afb-97a5-453a-b25d-7fc585ff6424",
   "metadata": {},
   "outputs": [],
   "source": [
    "solution = solve_ivp(\n",
    "    func, (t0, tf), y0, dense_output=True,\n",
    "    args=(k1, k2)\n",
    ")\n",
    "t = np.linspace(t0, tf, 10)\n",
    "a, b, c = solution.sol(t)"
   ]
  },
  {
   "cell_type": "code",
   "execution_count": 5,
   "id": "55303fd4-db6d-475f-9eea-3de61b7214e9",
   "metadata": {},
   "outputs": [
    {
     "name": "stdout",
     "output_type": "stream",
     "text": [
      "  100.00     0.00     0.00\n",
      "   64.12    15.74    20.14\n",
      "   41.11    12.75    46.14\n",
      "   26.36     8.63    65.02\n",
      "   16.90     5.61    77.49\n",
      "   10.84     3.61    85.56\n",
      "    6.95     2.31    90.74\n",
      "    4.45     1.49    94.06\n",
      "    2.86     0.95    96.19\n",
      "    1.83     0.61    97.56\n"
     ]
    }
   ],
   "source": [
    "for ai, bi, ci in zip(a, b, c):\n",
    "    print(f'{ai:>8.2f} {bi:>8.2f} {ci:>8.2f}')"
   ]
  },
  {
   "cell_type": "code",
   "execution_count": null,
   "id": "69c0862b-304a-4c76-8738-1a758f99d493",
   "metadata": {},
   "outputs": [],
   "source": []
  }
 ],
 "metadata": {
  "kernelspec": {
   "display_name": "Python 3 (ipykernel)",
   "language": "python",
   "name": "python3"
  },
  "language_info": {
   "codemirror_mode": {
    "name": "ipython",
    "version": 3
   },
   "file_extension": ".py",
   "mimetype": "text/x-python",
   "name": "python",
   "nbconvert_exporter": "python",
   "pygments_lexer": "ipython3",
   "version": "3.8.13"
  }
 },
 "nbformat": 4,
 "nbformat_minor": 5
}
