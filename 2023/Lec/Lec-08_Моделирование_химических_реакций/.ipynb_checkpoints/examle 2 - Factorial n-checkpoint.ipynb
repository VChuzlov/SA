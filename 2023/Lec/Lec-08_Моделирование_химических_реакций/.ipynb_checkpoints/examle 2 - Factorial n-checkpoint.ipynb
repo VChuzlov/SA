{
 "cells": [
  {
   "cell_type": "markdown",
   "metadata": {},
   "source": [
    "# С использованием цикла `while`"
   ]
  },
  {
   "cell_type": "code",
   "execution_count": 1,
   "metadata": {},
   "outputs": [
    {
     "name": "stdout",
     "output_type": "stream",
     "text": [
      "Введите целое полодительное число: 3\n",
      "n! = 6\n"
     ]
    }
   ],
   "source": [
    "n = int(input(\"Введите целое положительное число: \"))\n",
    "\n",
    "f = 1\n",
    "\n",
    "while n:\n",
    "    f *= n\n",
    "    n -= 1\n",
    "    \n",
    "print(\"n! =\", f)"
   ]
  },
  {
   "cell_type": "code",
   "execution_count": 2,
   "metadata": {},
   "outputs": [
    {
     "name": "stdout",
     "output_type": "stream",
     "text": [
      "Введите целое полодительное число: 5\n",
      "n! = 120\n"
     ]
    }
   ],
   "source": [
    "n = int(input(\"Введите целое положительное число: \"))\n",
    "\n",
    "f = 1\n",
    "\n",
    "while n:\n",
    "    f *= n\n",
    "    n -= 1\n",
    "    \n",
    "print(\"n! =\", f)"
   ]
  },
  {
   "cell_type": "code",
   "execution_count": 3,
   "metadata": {},
   "outputs": [
    {
     "name": "stdout",
     "output_type": "stream",
     "text": [
      "Введите целое полодительное число: 9\n",
      "n! = 362880\n"
     ]
    }
   ],
   "source": [
    "n = int(input(\"Введите целое положительное число: \"))\n",
    "\n",
    "f = 1\n",
    "\n",
    "while n:\n",
    "    f *= n\n",
    "    n -= 1\n",
    "    \n",
    "print(\"n! =\", f)"
   ]
  },
  {
   "cell_type": "markdown",
   "metadata": {},
   "source": [
    "# С использованием цикла `for`"
   ]
  },
  {
   "cell_type": "code",
   "execution_count": 4,
   "metadata": {},
   "outputs": [
    {
     "name": "stdout",
     "output_type": "stream",
     "text": [
      "Введите целое полодительное число: 6\n",
      "n! = 720\n"
     ]
    }
   ],
   "source": [
    "n = int(input(\"Введите целое положительное число: \"))\n",
    "\n",
    "f = 1\n",
    "\n",
    "for i in range(1, n + 1):\n",
    "    f *= i\n",
    "    \n",
    "print(\"n! =\", f)"
   ]
  },
  {
   "cell_type": "code",
   "execution_count": 5,
   "metadata": {},
   "outputs": [
    {
     "name": "stdout",
     "output_type": "stream",
     "text": [
      "Введите целое полодительное число: 3\n",
      "n! = 6\n"
     ]
    }
   ],
   "source": [
    "n = int(input(\"Введите целое положительное число: \"))\n",
    "\n",
    "f = 1\n",
    "\n",
    "for i in range(1, n + 1):\n",
    "    f *= i\n",
    "    \n",
    "print(\"n! =\", f)"
   ]
  },
  {
   "cell_type": "code",
   "execution_count": 6,
   "metadata": {},
   "outputs": [
    {
     "name": "stdout",
     "output_type": "stream",
     "text": [
      "Введите целое полодительное число: 5\n",
      "n! = 120\n"
     ]
    }
   ],
   "source": [
    "n = int(input(\"Введите целое положительное число: \"))\n",
    "\n",
    "f = 1\n",
    "\n",
    "for i in range(1, n + 1):\n",
    "    f *= i\n",
    "    \n",
    "print(\"n! =\", f)"
   ]
  },
  {
   "cell_type": "code",
   "execution_count": 7,
   "metadata": {},
   "outputs": [
    {
     "name": "stdout",
     "output_type": "stream",
     "text": [
      "Введите целое полодительное число: 9\n",
      "n! = 362880\n"
     ]
    }
   ],
   "source": [
    "n = int(input(\"Введите целое положительное число: \"))\n",
    "\n",
    "f = 1\n",
    "\n",
    "for i in range(1, n + 1):\n",
    "    f *= i\n",
    "    \n",
    "print(\"n! =\", f)"
   ]
  },
  {
   "cell_type": "code",
   "execution_count": null,
   "metadata": {},
   "outputs": [],
   "source": []
  }
 ],
 "metadata": {
  "kernelspec": {
   "display_name": "Python 3",
   "language": "python",
   "name": "python3"
  },
  "language_info": {
   "codemirror_mode": {
    "name": "ipython",
    "version": 3
   },
   "file_extension": ".py",
   "mimetype": "text/x-python",
   "name": "python",
   "nbconvert_exporter": "python",
   "pygments_lexer": "ipython3",
   "version": "3.8.5"
  }
 },
 "nbformat": 4,
 "nbformat_minor": 4
}
