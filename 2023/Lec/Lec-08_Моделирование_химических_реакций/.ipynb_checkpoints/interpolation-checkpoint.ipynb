{
 "cells": [
  {
   "cell_type": "code",
   "execution_count": 1,
   "id": "5b38965a-013d-411d-afe4-b20fa528faf8",
   "metadata": {},
   "outputs": [],
   "source": [
    "import numpy as np\n",
    "from scipy.interpolate import interp1d"
   ]
  },
  {
   "cell_type": "code",
   "execution_count": 2,
   "id": "a8907344-57c5-447d-ba66-3ecb6c0fb5bd",
   "metadata": {},
   "outputs": [],
   "source": [
    "t = np.array([300, 400, 500, 600])\n",
    "cp = np.array([52.89, 65.61, 78.07, 99.24])"
   ]
  },
  {
   "cell_type": "code",
   "execution_count": 4,
   "id": "f9d98255-2154-457e-85b7-bb95fa6c0305",
   "metadata": {},
   "outputs": [],
   "source": [
    "cubic = interp1d(t, cp, kind='cubic')"
   ]
  },
  {
   "cell_type": "code",
   "execution_count": 5,
   "id": "4ac6b1d8-008b-4696-9251-cd562539bb36",
   "metadata": {},
   "outputs": [
    {
     "data": {
      "text/plain": [
       "array(71.311875)"
      ]
     },
     "execution_count": 5,
     "metadata": {},
     "output_type": "execute_result"
    }
   ],
   "source": [
    "t_new = 450\n",
    "cp_new = cubic(t_new)\n",
    "cp_new"
   ]
  },
  {
   "cell_type": "code",
   "execution_count": null,
   "id": "1273d31e-47a0-446f-ac77-15d3031c87b1",
   "metadata": {},
   "outputs": [],
   "source": []
  }
 ],
 "metadata": {
  "kernelspec": {
   "display_name": "Python 3 (ipykernel)",
   "language": "python",
   "name": "python3"
  },
  "language_info": {
   "codemirror_mode": {
    "name": "ipython",
    "version": 3
   },
   "file_extension": ".py",
   "mimetype": "text/x-python",
   "name": "python",
   "nbconvert_exporter": "python",
   "pygments_lexer": "ipython3",
   "version": "3.8.13"
  }
 },
 "nbformat": 4,
 "nbformat_minor": 5
}
