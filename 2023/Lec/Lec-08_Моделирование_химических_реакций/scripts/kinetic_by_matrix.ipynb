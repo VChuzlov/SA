{
 "cells": [
  {
   "cell_type": "markdown",
   "metadata": {},
   "source": [
    "## $A \\longleftrightarrow 2B \\longleftrightarrow C$\n",
    "\n",
    "1. $A \\longrightarrow 2B$\n",
    "\n",
    "2. $2B \\longrightarrow A$\n",
    "\n",
    "3. $2B \\longrightarrow C$\n",
    "\n",
    "4. $C \\longrightarrow 2B$"
   ]
  },
  {
   "cell_type": "markdown",
   "metadata": {},
   "source": [
    "|  | A | B | C |\n",
    "|---------------|---|---|---|\n",
    "|$r_1$|-1|2|0|\n",
    "|$r_2$|1|-2|0|\n",
    "|$r_3$|0|-2|1|\n",
    "|$r_4$|0|2|-1|"
   ]
  },
  {
   "cell_type": "code",
   "execution_count": 25,
   "metadata": {},
   "outputs": [],
   "source": [
    "import numpy as np\n",
    "from scipy.integrate import solve_ivp\n",
    "import matplotlib.pyplot as plt\n",
    "from matplotlib.ticker import AutoMinorLocator"
   ]
  },
  {
   "cell_type": "markdown",
   "metadata": {},
   "source": [
    "Исходные данные"
   ]
  },
  {
   "cell_type": "code",
   "execution_count": 26,
   "metadata": {},
   "outputs": [],
   "source": [
    "k = np.array([.5, .8, .95, .1])\n",
    "c = np.array([1, 0, 0])"
   ]
  },
  {
   "cell_type": "markdown",
   "metadata": {},
   "source": [
    "Матрица стехиометрических коэффициентов"
   ]
  },
  {
   "cell_type": "code",
   "execution_count": 27,
   "metadata": {},
   "outputs": [
    {
     "name": "stdout",
     "output_type": "stream",
     "text": [
      "[[-1  2  0]\n",
      " [ 1 -2  0]\n",
      " [ 0 -2  1]\n",
      " [ 0  2 -1]]\n"
     ]
    }
   ],
   "source": [
    "stoich_matrix = np.array([[-1, 2, 0], [1, -2, 0], [0, -2, 1], [0, 2, -1]])\n",
    "print(stoich_matrix)"
   ]
  },
  {
   "cell_type": "markdown",
   "metadata": {},
   "source": [
    "Нужно выбрать только элементы с отрицательными коэффициентами, для этого создадим массив `mask`:"
   ]
  },
  {
   "cell_type": "code",
   "execution_count": 28,
   "metadata": {},
   "outputs": [
    {
     "name": "stdout",
     "output_type": "stream",
     "text": [
      "[[ True False False]\n",
      " [False  True False]\n",
      " [False  True False]\n",
      " [False False  True]]\n"
     ]
    }
   ],
   "source": [
    "mask = stoich_matrix < 0\n",
    "print(mask)"
   ]
  },
  {
   "attachments": {},
   "cell_type": "markdown",
   "metadata": {},
   "source": [
    "Вычислим произведение элементов `c` в степенях соответствующих стехиометрических коэффициентов для каждой реакции, но только в том случае, если коэффициент < 0 "
   ]
  },
  {
   "cell_type": "code",
   "execution_count": 29,
   "metadata": {},
   "outputs": [
    {
     "name": "stdout",
     "output_type": "stream",
     "text": [
      "[1 0 0 0]\n"
     ]
    }
   ],
   "source": [
    "p = (c ** -(stoich_matrix * mask)).prod(axis=1)\n",
    "print(p)"
   ]
  },
  {
   "cell_type": "markdown",
   "metadata": {},
   "source": [
    "Вычислим скорости реакций"
   ]
  },
  {
   "cell_type": "code",
   "execution_count": 30,
   "metadata": {},
   "outputs": [
    {
     "name": "stdout",
     "output_type": "stream",
     "text": [
      "[0.5 0.  0.  0. ]\n"
     ]
    }
   ],
   "source": [
    "reaction_rates = p * k\n",
    "print(reaction_rates)"
   ]
  },
  {
   "cell_type": "markdown",
   "metadata": {},
   "source": [
    "Правые части дифференциальных уравнений"
   ]
  },
  {
   "cell_type": "code",
   "execution_count": 31,
   "metadata": {},
   "outputs": [
    {
     "name": "stdout",
     "output_type": "stream",
     "text": [
      "[-0.5  1.   0. ]\n"
     ]
    }
   ],
   "source": [
    "right_parts = (\n",
    "    (stoich_matrix.T * reaction_rates).sum(axis=1)\n",
    ")\n",
    "print(right_parts)"
   ]
  },
  {
   "cell_type": "markdown",
   "metadata": {},
   "source": [
    "Все то же самое, но в виде функции"
   ]
  },
  {
   "cell_type": "code",
   "execution_count": 32,
   "metadata": {},
   "outputs": [],
   "source": [
    "def kinetic_by_matrix(\n",
    "    time: float,\n",
    "    c: np.ndarray,\n",
    "    stoich_matrix: np.ndarray,\n",
    "    k: np.ndarray\n",
    ") -> np.ndarray:\n",
    "\n",
    "    mask = stoich_matrix < 0\n",
    "    p = (c ** -(stoich_matrix * mask)).prod(axis=1)\n",
    "    reaction_rates = p * k\n",
    "    \n",
    "    right_parts = (\n",
    "        (stoich_matrix.T * reaction_rates).sum(axis=1)\n",
    "    )\n",
    "    \n",
    "    return right_parts"
   ]
  },
  {
   "cell_type": "markdown",
   "metadata": {},
   "source": [
    "Как это обычно делается"
   ]
  },
  {
   "cell_type": "code",
   "execution_count": 33,
   "metadata": {},
   "outputs": [],
   "source": [
    "def kin_scheme(\n",
    "    time: float,\n",
    "    c: np.ndarray,\n",
    "    k: np.ndarray\n",
    ") -> np.ndarray:\n",
    "\n",
    "    ca, cb, cc = c\n",
    "    k1, k2, k3, k4 = k\n",
    "\n",
    "    dca_dt = -k1 * ca + k2 * cb ** 2\n",
    "    dcb_dt = 2 * (k1 * ca - k2 * cb ** 2 - k3 * cb ** 2 + k4 * cc)\n",
    "    dcc_dt = k3 * cb ** 2 - k4 * cc\n",
    "\n",
    "    return dca_dt, dcb_dt, dcc_dt"
   ]
  },
  {
   "cell_type": "markdown",
   "metadata": {},
   "source": [
    "Проверка"
   ]
  },
  {
   "cell_type": "code",
   "execution_count": 34,
   "metadata": {},
   "outputs": [],
   "source": [
    "t = np.linspace(0, 10, 20)"
   ]
  },
  {
   "cell_type": "code",
   "execution_count": 35,
   "metadata": {},
   "outputs": [],
   "source": [
    "sol_matrix = solve_ivp(\n",
    "    fun=kinetic_by_matrix,\n",
    "    t_span=(0, t[-1]),\n",
    "    y0=c,\n",
    "    dense_output=True,\n",
    "    args=(stoich_matrix, k)\n",
    ")\n",
    "\n",
    "ca, cb, cc = sol_matrix.sol(t)\n",
    "# for a, b, c in zip(ca, cb, cc):\n",
    "#     print(f'{a:>8.4f} {b:>8.4f} {c:>8.4f}')"
   ]
  },
  {
   "cell_type": "code",
   "execution_count": 36,
   "metadata": {},
   "outputs": [],
   "source": [
    "sol_old = solve_ivp(\n",
    "    fun=kin_scheme,\n",
    "    t_span=(0, t[-1]),\n",
    "    y0=c,\n",
    "    dense_output=True,\n",
    "    args=(k,)\n",
    ")\n",
    "\n",
    "ca_old, cb_old, cc_old = sol_old.sol(t)"
   ]
  },
  {
   "cell_type": "code",
   "execution_count": 37,
   "metadata": {},
   "outputs": [],
   "source": [
    "t = np.linspace(0, 10, 50)\n",
    "ca, cb, cc = sol_matrix.sol(t)"
   ]
  },
  {
   "cell_type": "code",
   "execution_count": 38,
   "metadata": {},
   "outputs": [
    {
     "data": {
      "image/png": "[encoded data removed]",
      "text/plain": [
       "<Figure size 432x324 with 1 Axes>"
      ]
     },
     "metadata": {
      "needs_background": "light"
     },
     "output_type": "display_data"
    }
   ],
   "source": [
    "# plt.style.use('classic')\n",
    "\n",
    "fig, ax = plt.subplots(figsize=(6, 4.5))\n",
    "\n",
    "every = 2\n",
    "ax.plot(t[::every], ca[::every], label=r'$C_A$', marker='o', fillstyle='none')\n",
    "ax.plot(t[::every], cb[::every], label=r'$C_B$', marker='s', fillstyle='none')\n",
    "ax.plot(t[::every], cc[::every], label=r'$C_C$', marker='^', fillstyle='none')\n",
    "\n",
    "# ax.scatter(t, ca_old, label=r'$C_A$ old')\n",
    "# ax.scatter(t, cb_old, label=r'$C_B$ old')\n",
    "# ax.scatter(t, cc_old, label=r'$C_C$ old')\n",
    "\n",
    "ax.set_xlabel('Время, с')\n",
    "ax.set_ylabel('Концентрация компонента, моль/л')\n",
    "ax.xaxis.set_minor_locator(AutoMinorLocator())\n",
    "ax.yaxis.set_minor_locator(AutoMinorLocator())\n",
    "plt.legend()\n",
    "\n",
    "plt.tight_layout()\n",
    "plt.savefig(r'..\\pics\\fig.pdf')"
   ]
  },
  {
   "attachments": {},
   "cell_type": "markdown",
   "metadata": {},
   "source": [
    "## Optimization"
   ]
  },
  {
   "cell_type": "code",
   "execution_count": 41,
   "metadata": {},
   "outputs": [],
   "source": [
    "def obj_func(\n",
    "    k: np.ndarray, c: np.ndarray,\n",
    "    kinetic_scheme: callable,\n",
    "    time: float,\n",
    "    c0: np.ndarray,\n",
    "    stoich_matrix: np.ndarray,\n",
    ") -> float:\n",
    "    solution = solve_ivp(\n",
    "        fun=kinetic_by_matrix,\n",
    "        t_span=(0, time[-1]),\n",
    "        y0=c0   ,\n",
    "        dense_output=True,\n",
    "        args=(stoich_matrix, k)\n",
    "    )\n",
    "\n",
    "    c_calc = solution.sol(time[-1])\n",
    "    return ((c - c_calc) ** 2).sum()"
   ]
  },
  {
   "cell_type": "code",
   "execution_count": 42,
   "metadata": {},
   "outputs": [],
   "source": [
    "from scipy.optimize import minimize"
   ]
  },
  {
   "cell_type": "code",
   "execution_count": 50,
   "metadata": {},
   "outputs": [
    {
     "name": "stdout",
     "output_type": "stream",
     "text": [
      " final_simplex: (array([[0.40298608, 0.56866624, 0.80859594, 0.07419382],\n",
      "       [0.40291713, 0.56867713, 0.80862377, 0.07417934],\n",
      "       [0.40290911, 0.56866281, 0.80862946, 0.07418973],\n",
      "       [0.40300475, 0.56866888, 0.80856544, 0.07421872],\n",
      "       [0.40295754, 0.56867751, 0.80859871, 0.07417644]]), array([1.61244305e-09, 1.63992065e-09, 1.65274699e-09, 2.05524296e-09,\n",
      "       2.06513227e-09]))\n",
      "           fun: 1.612443051432878e-09\n",
      "       message: 'Optimization terminated successfully.'\n",
      "          nfev: 142\n",
      "           nit: 77\n",
      "        status: 0\n",
      "       success: True\n",
      "             x: array([0.40298608, 0.56866624, 0.80859594, 0.07419382])\n"
     ]
    }
   ],
   "source": [
    "c = np.array([.1606, .2945, .6922])\n",
    "c0 = np.array([1, 0, 0])\n",
    "time = np.linspace(0, 10, 50)\n",
    "stoich_matrix = np.array([[-1, 2, 0], [1, -2, 0], [0, -2, 1], [0, 2, -1]])\n",
    "\n",
    "initial_k = (.5, .5, .5, .5)\n",
    "k = minimize(\n",
    "    obj_func, \n",
    "    x0=initial_k, \n",
    "    args=(\n",
    "        c, \n",
    "        kinetic_by_matrix,\n",
    "        time,\n",
    "        c0,\n",
    "        stoich_matrix\n",
    "    ),\n",
    "    method='Nelder-Mead'\n",
    ")\n",
    "print(k)"
   ]
  },
  {
   "cell_type": "code",
   "execution_count": 51,
   "metadata": {},
   "outputs": [],
   "source": [
    "import genetic_algorithm as ga"
   ]
  },
  {
   "cell_type": "code",
   "execution_count": 55,
   "metadata": {},
   "outputs": [
    {
     "name": "stdout",
     "output_type": "stream",
     "text": [
      "[0.5221326229161222, 0.7950758008292743, 0.8293744138383334, 0.08219397763058496]\n"
     ]
    }
   ],
   "source": [
    "bounds = ((.05, 1), (.05, 1), (.05, 1), (.05, 1))\n",
    "k = ga.genetic_algorithm(\n",
    "    bounds,\n",
    "    obj_func,\n",
    "    args=(\n",
    "        c, \n",
    "        kinetic_by_matrix,\n",
    "        time,\n",
    "        c0,\n",
    "        stoich_matrix\n",
    "    ),\n",
    "    popsize=100,\n",
    "    selection_size=20,\n",
    "    generations_count=10\n",
    ")\n",
    "print(k[0])"
   ]
  },
  {
   "cell_type": "code",
   "execution_count": 57,
   "metadata": {},
   "outputs": [
    {
     "name": "stdout",
     "output_type": "stream",
     "text": [
      " final_simplex: (array([[0.51709669, 0.81808365, 0.83553017, 0.08311357],\n",
      "       [0.51713805, 0.81815404, 0.83548288, 0.08311136],\n",
      "       [0.51711343, 0.81803742, 0.83551075, 0.08311706],\n",
      "       [0.51706307, 0.81800744, 0.83555168, 0.08312275],\n",
      "       [0.51711475, 0.81804012, 0.835535  , 0.08311974]]), array([1.14057758e-09, 1.14544246e-09, 1.17218242e-09, 1.21210320e-09,\n",
      "       1.21655242e-09]))\n",
      "           fun: 1.1405775778538453e-09\n",
      "       message: 'Optimization terminated successfully.'\n",
      "          nfev: 85\n",
      "           nit: 43\n",
      "        status: 0\n",
      "       success: True\n",
      "             x: array([0.51709669, 0.81808365, 0.83553017, 0.08311357])\n"
     ]
    }
   ],
   "source": [
    "initial_k = [\n",
    "    0.5221326229161222, 0.7950758008292743, \n",
    "    0.8293744138383334, 0.08219397763058496\n",
    "]\n",
    "k = minimize(\n",
    "    obj_func, \n",
    "    x0=initial_k, \n",
    "    args=(\n",
    "        c, \n",
    "        kinetic_by_matrix,\n",
    "        time,\n",
    "        c0,\n",
    "        stoich_matrix\n",
    "    ),\n",
    "    method='Nelder-Mead'\n",
    ")\n",
    "print(k)"
   ]
  },
  {
   "cell_type": "code",
   "execution_count": null,
   "metadata": {},
   "outputs": [],
   "source": []
  }
 ],
 "metadata": {
  "kernelspec": {
   "display_name": "Python 3 (ipykernel)",
   "language": "python",
   "name": "python3"
  },
  "language_info": {
   "codemirror_mode": {
    "name": "ipython",
    "version": 3
   },
   "file_extension": ".py",
   "mimetype": "text/x-python",
   "name": "python",
   "nbconvert_exporter": "python",
   "pygments_lexer": "ipython3",
   "version": "3.9.9"
  },
  "vscode": {
   "interpreter": {
    "hash": "b7f148223e238d379c3c5459d172147939ca7cf4c59ad59acaa31d5b5144f233"
   }
  }
 },
 "nbformat": 4,
 "nbformat_minor": 4
}
