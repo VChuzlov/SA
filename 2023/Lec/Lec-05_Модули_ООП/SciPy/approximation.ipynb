{
 "cells": [
  {
   "cell_type": "code",
   "execution_count": 1,
   "id": "975c52df-8eb6-4183-b144-7594320579fb",
   "metadata": {},
   "outputs": [],
   "source": [
    "import numpy as np\n",
    "from scipy.optimize import leastsq"
   ]
  },
  {
   "cell_type": "code",
   "execution_count": 2,
   "id": "7e6b9ae3-482e-4404-b620-80947f633d1b",
   "metadata": {},
   "outputs": [],
   "source": [
    "def linear(x, params):\n",
    "    a0, a1 = params\n",
    "    return a0 + a1 * x\n",
    "\n",
    "def power(x, params):\n",
    "    a, b = params\n",
    "    return a * x ** b\n",
    "\n",
    "def exponential(x, params):\n",
    "    a, b = params\n",
    "    return a * np.exp(b * x)\n",
    "\n",
    "def residuals(params, x, y, func):\n",
    "    return y - func(x, params)"
   ]
  },
  {
   "cell_type": "code",
   "execution_count": 3,
   "id": "b9784c91-96bb-4154-a1eb-fd9d19193071",
   "metadata": {},
   "outputs": [],
   "source": [
    "t = np.array([300, 400, 500, 600, 700, 800])\n",
    "cp = np.array([6.97, 7.01, 7.12, 7.28, 7.45, 7.62])\n",
    "t_new = 750"
   ]
  },
  {
   "cell_type": "code",
   "execution_count": 4,
   "id": "2d7f1729-e0a9-4e52-b68c-c88a754efc60",
   "metadata": {},
   "outputs": [],
   "source": [
    "linear_params, *_ = leastsq(residuals, x0=(.5, .5), args=(t, cp, linear))\n",
    "cp_linear = linear(t_new, linear_params)"
   ]
  },
  {
   "cell_type": "code",
   "execution_count": 5,
   "id": "609b0cdb-8663-4616-a491-bc7039c19935",
   "metadata": {},
   "outputs": [],
   "source": [
    "pow_params, *_ = leastsq(residuals, x0=(.5, .5), args=(t, cp, power))\n",
    "cp_pow = power(t_new, pow_params)"
   ]
  },
  {
   "cell_type": "code",
   "execution_count": 6,
   "id": "4803d22c-8bba-4128-b980-3d0d49906117",
   "metadata": {},
   "outputs": [],
   "source": [
    "exp_params, *_ = leastsq(residuals, x0=(0, 0), args=(t, cp, exponential))\n",
    "cp_exp = exponential(t_new, exp_params)"
   ]
  },
  {
   "cell_type": "code",
   "execution_count": 7,
   "id": "b5fd6ca8-0754-419c-8c9a-bfb162053a55",
   "metadata": {},
   "outputs": [
    {
     "data": {
      "text/plain": [
       "(7.511952382705517, 7.488062393161231, 7.514461422236188)"
      ]
     },
     "execution_count": 7,
     "metadata": {},
     "output_type": "execute_result"
    }
   ],
   "source": [
    "cp_linear, cp_pow, cp_exp"
   ]
  },
  {
   "cell_type": "code",
   "execution_count": null,
   "id": "95cfdeb7-0d9e-48a1-9b09-20f95e95c62f",
   "metadata": {},
   "outputs": [],
   "source": []
  }
 ],
 "metadata": {
  "kernelspec": {
   "display_name": "Python 3 (ipykernel)",
   "language": "python",
   "name": "python3"
  },
  "language_info": {
   "codemirror_mode": {
    "name": "ipython",
    "version": 3
   },
   "file_extension": ".py",
   "mimetype": "text/x-python",
   "name": "python",
   "nbconvert_exporter": "python",
   "pygments_lexer": "ipython3",
   "version": "3.8.13"
  }
 },
 "nbformat": 4,
 "nbformat_minor": 5
}
