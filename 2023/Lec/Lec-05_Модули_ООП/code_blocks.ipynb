{
 "cells": [
  {
   "cell_type": "code",
   "execution_count": 1,
   "id": "91e9b15d-ee89-4bdd-be27-5b1f902d64df",
   "metadata": {},
   "outputs": [],
   "source": [
    "class Person:\n",
    "    def go(self, where='nowhere'):\n",
    "        print(where)"
   ]
  },
  {
   "cell_type": "code",
   "execution_count": 2,
   "id": "51ef7aac-10e4-4bef-8659-80b8202beaa4",
   "metadata": {},
   "outputs": [
    {
     "name": "stdout",
     "output_type": "stream",
     "text": [
      "<__main__.Person object at 0x0000021E7DA68490>\n"
     ]
    }
   ],
   "source": [
    "petr = Person()\n",
    "ivan = Person()\n",
    "\n",
    "print(petr)"
   ]
  },
  {
   "cell_type": "code",
   "execution_count": 3,
   "id": "b194da8b-26b4-4988-be94-ede1c5e473bc",
   "metadata": {},
   "outputs": [
    {
     "name": "stdout",
     "output_type": "stream",
     "text": [
      "Hi, Petr Petrov!\n",
      "Hi, Maxim Ivanov!\n",
      "Hi, Mariya Petrova!\n"
     ]
    }
   ],
   "source": [
    "class Person(object):\n",
    "    def __init__(self, name, surname):\n",
    "        self.name = name\n",
    "        self.surname = surname\n",
    "\n",
    "person = Person(name='Petr', surname='Petrov')\n",
    "\n",
    "print(f'Hi, {person.name} {person.surname}!')\n",
    "\n",
    "for person in [Person('Maxim', 'Ivanov'), Person('Mariya', 'Petrova')]:\n",
    "    print(f'Hi, {person.name} {person.surname}!')"
   ]
  },
  {
   "cell_type": "code",
   "execution_count": 4,
   "id": "b6860c22-b21e-4bbc-b7fc-0154573bfbbd",
   "metadata": {},
   "outputs": [],
   "source": [
    "class Droid:\n",
    "    population = 0\n",
    "\n",
    "    def __init__(self, name):\n",
    "        self.name = name\n",
    "        print(f'  **Инициализация {self.name}**')\n",
    "        Droid.population += 1\n",
    "        \n",
    "    def say_hi(self):\n",
    "        print(f'Приветствую! Мои хозяева называют меня {self.name}.')\n",
    "    \n",
    "    @staticmethod\n",
    "    def how_many():\n",
    "        print(f'У нас {Droid.population} дроидов.')"
   ]
  },
  {
   "cell_type": "code",
   "execution_count": 5,
   "id": "b540dcfd-5a72-4fd1-b205-1c588140ee6b",
   "metadata": {},
   "outputs": [
    {
     "name": "stdout",
     "output_type": "stream",
     "text": [
      "  **Инициализация R2-D2**\n",
      "Приветствую! Мои хозяева называют меня R2-D2.\n",
      "У нас 1 дроидов.\n",
      "  **Инициализация C-3PO**\n",
      "Приветствую! Мои хозяева называют меня C-3PO.\n",
      "У нас 2 дроидов.\n"
     ]
    }
   ],
   "source": [
    "droid1 = Droid('R2-D2')\n",
    "droid1.say_hi()\n",
    "\n",
    "Droid.how_many()\n",
    "\n",
    "droid2 = Droid('C-3PO')\n",
    "droid2.say_hi()\n",
    "Droid.how_many()"
   ]
  },
  {
   "cell_type": "code",
   "execution_count": 6,
   "id": "59f910d0-d098-4206-aa98-b2e0e99ae3f8",
   "metadata": {},
   "outputs": [
    {
     "name": "stdout",
     "output_type": "stream",
     "text": [
      "У вас 2 дроидов.\n"
     ]
    }
   ],
   "source": [
    "def how_many(obj: Droid) -> int:\n",
    "    return obj.population\n",
    "\n",
    "droids_count = how_many(Droid)\n",
    "print(f'У вас {droids_count} дроидов.')"
   ]
  },
  {
   "cell_type": "code",
   "execution_count": 7,
   "id": "fbbf1326-ab87-4696-8b58-6351e52a8e52",
   "metadata": {},
   "outputs": [],
   "source": [
    "class Droid(object):\n",
    "    population = 0\n",
    "\n",
    "    def __init__(self, name):\n",
    "        self.name = name\n",
    "        print(f'  **Инициализация {self.name}**')\n",
    "        Droid.population += 1\n",
    "        \n",
    "    def say_hi(self):\n",
    "        print(f'Приветствую! Мои хозяева называют меня {self.name}.' )\n",
    "    \n",
    "    def __len__(self):\n",
    "        return self.population"
   ]
  },
  {
   "cell_type": "code",
   "execution_count": 8,
   "id": "d0189db7-7b9e-4227-a55b-834a453d4851",
   "metadata": {},
   "outputs": [
    {
     "name": "stdout",
     "output_type": "stream",
     "text": [
      "  **Инициализация R2-D2**\n",
      "Приветствую! Мои хозяева называют меня R2-D2.\n",
      "У вас 1 дроидов.\n",
      "  **Инициализация C-3PO**\n",
      "Приветствую! Мои хозяева называют меня C-3PO.\n",
      "У вас 2 дроидов.\n"
     ]
    }
   ],
   "source": [
    "droid1 = Droid('R2-D2')\n",
    "droid1.say_hi()\n",
    "print(f'У вас {len(droid1)} дроидов.')\n",
    "\n",
    "droid2 = Droid('C-3PO')\n",
    "droid2.say_hi()\n",
    "print(f'У вас {len(droid2)} дроидов.')"
   ]
  },
  {
   "cell_type": "code",
   "execution_count": 9,
   "id": "5077070d-4b43-4669-aa97-fabfe9e12e81",
   "metadata": {},
   "outputs": [],
   "source": [
    "# private: __x\n",
    "# protected: _x\n",
    "# public: x\n",
    "\n",
    "class Car:\n",
    "    def __init__(self, engine, wheels=4):\n",
    "        self.engine = engine\n",
    "        self.wheels = wheels\n",
    "        self.__speed = 0\n",
    "    \n",
    "    def go(self, acceleration_speed=20):\n",
    "        if self.engine:\n",
    "            self.__speed += acceleration_speed\n",
    "            self.engine.go(self.__speed)\n",
    "            print(self.status)\n",
    "        else:\n",
    "            print('Looks like you forgot to insert engine, '\n",
    "                  'please do this before going anywhere.')\n",
    "    \n",
    "    def brake(self, braking_speed=20):\n",
    "        self.__speed -= braking_speed\n",
    "        self.engine.rotation -= braking_speed * 8\n",
    "        print(self.status)\n",
    "\n",
    "    def remove_wheel(self):\n",
    "        if self.wheels:\n",
    "            self.wheels -= 1\n",
    "    \n",
    "    def add_wheel(self):\n",
    "        self.wheels += 1\n",
    "    \n",
    "    def upgrade_engine(self, power):\n",
    "        self.engine.power += power\n",
    "\n",
    "    def get_status(self):\n",
    "        return \"We're driving so fast, \" \\\n",
    "               f'our speed is {self.__speed}, rotation is {self.engine.rotation}'\n",
    "\n",
    "    @property\n",
    "    def status(self):\n",
    "        return \"We're driging so fast, \" \\\n",
    "               f'our speed is {self.__speed}, rotation is {self.engine.rotation}'"
   ]
  },
  {
   "cell_type": "code",
   "execution_count": 10,
   "id": "4c917738-ca06-482f-9e36-15e195c42b73",
   "metadata": {},
   "outputs": [],
   "source": [
    "class Engine:\n",
    "    def __init__(self, power):\n",
    "        self.power = power\n",
    "        self.rotation = 0\n",
    "        \n",
    "    def start(self):\n",
    "        self.rotation = 800\n",
    "\n",
    "    def stop(self):\n",
    "        self.rotation = 0\n",
    "    \n",
    "    def __eq__(self, other):\n",
    "        if not isinstance(other, Engine):\n",
    "            return False\n",
    "        return self.power == other.power\n",
    "    \n",
    "    def go(self, speed):\n",
    "        if not self.rotation:\n",
    "            self.start()\n",
    "        self.rotation = (3000 * speed) / self.power\n",
    "    \n",
    "    @staticmethod\n",
    "    def m(x, y):\n",
    "        return x + y "
   ]
  },
  {
   "cell_type": "code",
   "execution_count": 11,
   "id": "58a6b6bd-adca-4b3d-a761-a750bfc2dc7d",
   "metadata": {},
   "outputs": [
    {
     "name": "stdout",
     "output_type": "stream",
     "text": [
      "Looks like you forgot to insert engine, please do this before going anywhere.\n",
      "We're driging so fast, our speed is 100, rotation is 3000.0\n",
      "We're driging so fast, our speed is 300, rotation is 9000.0\n",
      "We're driging so fast, our speed is 320, rotation is 6400.0\n",
      "We're driging so fast, our speed is 320, rotation is 3840.0\n"
     ]
    }
   ],
   "source": [
    "my_car = Car(engine=None, wheels=4)\n",
    "\n",
    "my_car.go(100)\n",
    "\n",
    "my_car.engine = Engine(100)\n",
    "my_car.go(100)\n",
    "my_car.go(200)\n",
    "\n",
    "my_car.upgrade_engine(50)\n",
    "my_car.go()\n",
    "\n",
    "my_car.upgrade_engine(100)\n",
    "my_car.go(0)"
   ]
  },
  {
   "cell_type": "code",
   "execution_count": 36,
   "id": "c0bc2298-c52a-49bd-92e1-80a233fd3029",
   "metadata": {},
   "outputs": [],
   "source": [
    "class Car:\n",
    "    def __init__(self, engine_power, material='iron', wheels=4):\n",
    "        self.engine_power = engine_power\n",
    "        self.wheels = wheels\n",
    "        self.material = material\n",
    "        \n",
    "        self._color = 'transparent'\n",
    "    \n",
    "    def paint(self, color):\n",
    "        print('I do not know how to paint myself')\n",
    "        \n",
    "    def get_price(self):\n",
    "        price = self.engine_power * 100 if self.engine_power else 0\n",
    "        return price\n",
    "\n",
    "    def __str__(self):\n",
    "        return (f'Car ({self.get_price()}$): power: {self.engine_power},'\n",
    "        f' material: {self.material}, color: {self._color}')"
   ]
  },
  {
   "cell_type": "code",
   "execution_count": 40,
   "id": "bde43ba5-f696-4db7-931b-e92f2c5f946d",
   "metadata": {},
   "outputs": [],
   "source": [
    "class Toyota(Car):\n",
    "    def __init__(self, engine_power, material='iron', **kwargs):\n",
    "        super().__init__(engine_power, material='super iron', **kwargs)\n",
    "    \n",
    "    def paint(self, color):\n",
    "        self._color = f'Toyota special \"{color}\"'"
   ]
  },
  {
   "cell_type": "code",
   "execution_count": 41,
   "id": "2633f087-eb65-4775-8e40-ef315a65cc3d",
   "metadata": {},
   "outputs": [],
   "source": [
    "class Lexus(Toyota):\n",
    "    def get_price(self):\n",
    "        return super(Lexus, self).get_price() * 1.24"
   ]
  },
  {
   "cell_type": "code",
   "execution_count": 42,
   "id": "6e4c0298-0bfc-493d-a474-bea58b1af4f0",
   "metadata": {},
   "outputs": [
    {
     "name": "stdout",
     "output_type": "stream",
     "text": [
      "Camry Car (21100$): power: 211, material: super iron, color: Toyota special \"black\"\n",
      "LX500 Car (37200.0$): power: 300, material: super iron, color: Toyota special \"gray\"\n"
     ]
    }
   ],
   "source": [
    "camry = Toyota(211)\n",
    "camry.paint('black')\n",
    "print('Camry', camry)\n",
    "\n",
    "lx500 = Lexus(300)\n",
    "lx500.paint('gray')\n",
    "print('LX500', lx500)"
   ]
  },
  {
   "cell_type": "code",
   "execution_count": 43,
   "id": "af602564-72e2-4f8a-8399-8fdde07479ff",
   "metadata": {},
   "outputs": [],
   "source": [
    "import numpy as np\n",
    "\n",
    "\n",
    "class Flow:\n",
    "    def __init__(\n",
    "        self, \n",
    "        mass_flow_rate: float,\n",
    "        mass_fractions: np.ndarray,\n",
    "        temperature: float,\n",
    "        pressure: float\n",
    "    ) -> None:\n",
    "        self.mass_flow_rate = mass_flow_rate\n",
    "        self.mass_fractions = mass_fractions\n",
    "        self.temperature = temperature\n",
    "        self.pressure = pressure\n",
    "        \n",
    "    def convert_mass_to_volume_fractions(self, densities: np.ndarray) -> np.ndarray:\n",
    "        x = self.mass_fractions / densities\n",
    "        s = x.sum()\n",
    "        return x / s\n",
    "    \n",
    "    def convert_mass_to_mole_fractions(self, mr: np.ndarray) -> np.ndarray:\n",
    "        x = self.mass_fractions / mr\n",
    "        s = x.sum()\n",
    "        return x / s\n",
    "    \n",
    "    def get_flow_density(self, densities: np.ndarray) -> float:\n",
    "        return (self.mass_fractions / densities).sum() ** -1\n",
    "    \n",
    "    def get_average_molar_mass(self, mr: np.ndarray) -> float:\n",
    "        return (self.mass_fractions / mr).sum() ** -1"
   ]
  },
  {
   "cell_type": "code",
   "execution_count": 47,
   "id": "33bc7a06-2929-4be9-97bf-8862df455131",
   "metadata": {},
   "outputs": [
    {
     "name": "stdout",
     "output_type": "stream",
     "text": [
      "[0.13257709 0.10101112 0.09427704 0.400378   0.18384023 0.04476629\n",
      " 0.02642226 0.01672796]\n",
      "[0.26545413 0.14157554 0.09652877 0.2929149  0.14645745 0.0294949\n",
      " 0.01769694 0.00987736]\n",
      "0.5515207014243224\n",
      "42.47266071679689\n"
     ]
    }
   ],
   "source": [
    "densities = np.array([.416, .546, .585, .5510, .6, .616, .6262, .6594])\n",
    "mr = np.array([16, 30, 44, 58, 58, 72, 72, 86])\n",
    "mass_fractions = np.array([.1, .1, .1, .4, .2, .05, .03, .02])\n",
    "\n",
    "f1 = Flow(mass_flow_rate=100, mass_fractions=mass_fractions, temperature=150, pressure=101.325)\n",
    "f1.volume_fractions = f1.convert_mass_to_volume_fractions(densities)\n",
    "f1.mole_fractions = f1.convert_mass_to_mole_fractions(mr)\n",
    "f1.density = f1.get_flow_density(densities)\n",
    "f1.mol_mass = f1.get_average_molar_mass(mr)\n",
    "\n",
    "print(f1.volume_fractions)\n",
    "print(f1.mole_fractions)\n",
    "print(f1.density)\n",
    "print(f1.mol_mass)"
   ]
  },
  {
   "cell_type": "code",
   "execution_count": null,
   "id": "4802ccf0-06e1-4c1f-b5eb-f7b1c959c18a",
   "metadata": {},
   "outputs": [],
   "source": []
  }
 ],
 "metadata": {
  "kernelspec": {
   "display_name": "Python 3 (ipykernel)",
   "language": "python",
   "name": "python3"
  },
  "language_info": {
   "codemirror_mode": {
    "name": "ipython",
    "version": 3
   },
   "file_extension": ".py",
   "mimetype": "text/x-python",
   "name": "python",
   "nbconvert_exporter": "python",
   "pygments_lexer": "ipython3",
   "version": "3.8.13"
  }
 },
 "nbformat": 4,
 "nbformat_minor": 5
}
