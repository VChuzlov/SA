{
 "cells": [
  {
   "cell_type": "code",
   "execution_count": 6,
   "metadata": {},
   "outputs": [],
   "source": [
    "def mass_to_volume_fractions(\n",
    "    mass_fractions: list[float],\n",
    "    densities: list[float]) -> list[float]:\n",
    "    volume_fractions = [mf / d for mf, d in zip(mass_fractions, densities)]\n",
    "    s = sum(volume_fractions)\n",
    "    volume_fractions = [v / s for v in volume_fractions]\n",
    "    return volume_fractions"
   ]
  },
  {
   "cell_type": "code",
   "execution_count": 7,
   "metadata": {},
   "outputs": [],
   "source": [
    "mass_fractions = [.1, .1, .1, .4, .2, .05, .03, .02]\n",
    "densities = [0.416, 0.546, 0.585, 0.5510, 0.6, 0.616, 0.6262, 0.6594]\n",
    "mol_mass_list = [16, 30, 44, 58, 58, 72, 72, 86]"
   ]
  },
  {
   "cell_type": "code",
   "execution_count": 8,
   "metadata": {},
   "outputs": [],
   "source": [
    "volume_fractions = mass_to_volume_fractions(mass_fractions, densities)"
   ]
  },
  {
   "cell_type": "code",
   "execution_count": 9,
   "metadata": {},
   "outputs": [
    {
     "name": "stdout",
     "output_type": "stream",
     "text": [
      "0.1326 0.1010 0.0943 0.4004 0.1838 0.0448 0.0264 0.0167 "
     ]
    }
   ],
   "source": [
    "for vof in volume_fractions:\n",
    "    print(f'{vof:.4f}', end=' ')"
   ]
  },
  {
   "attachments": {},
   "cell_type": "markdown",
   "metadata": {},
   "source": [
    "# Задание 1"
   ]
  },
  {
   "cell_type": "code",
   "execution_count": 11,
   "metadata": {},
   "outputs": [],
   "source": [
    "def mass_to_mole_fractions(\n",
    "    mass_fractions: list[float],\n",
    "    mol_mass: list[float]\n",
    ") -> list[float]:\n",
    "\n",
    "    mole_fractions = [mf / mi for mf, mi in zip(mass_fractions, mol_mass_list)]\n",
    "    s = sum(mole_fractions)\n",
    "    mole_fractions = [mof / s for mof in mole_fractions]\n",
    "    return mole_fractions"
   ]
  },
  {
   "cell_type": "code",
   "execution_count": 12,
   "metadata": {},
   "outputs": [
    {
     "name": "stdout",
     "output_type": "stream",
     "text": [
      "0.2655 0.1416 0.0965 0.2929 0.1465 0.0295 0.0177 0.0099 "
     ]
    }
   ],
   "source": [
    "mole_fractions = mass_to_mole_fractions(\n",
    "    mass_fractions, mol_mass_list\n",
    ")\n",
    "\n",
    "for mof in mole_fractions:\n",
    "    print(f'{mof:.4f}', end=' ')"
   ]
  },
  {
   "cell_type": "code",
   "execution_count": 14,
   "metadata": {},
   "outputs": [],
   "source": [
    "def get_average_density(\n",
    "    mass_fractions: list[float],\n",
    "    densities: list[float]\n",
    ") -> float:\n",
    "\n",
    "    return sum(mf / d for mf, d in zip(mass_fractions, densities)) ** -1"
   ]
  },
  {
   "cell_type": "code",
   "execution_count": 15,
   "metadata": {},
   "outputs": [
    {
     "data": {
      "text/plain": [
       "0.5515207014243224"
      ]
     },
     "execution_count": 15,
     "metadata": {},
     "output_type": "execute_result"
    }
   ],
   "source": [
    "d = get_average_density(\n",
    "    mass_fractions, densities\n",
    ")\n",
    "\n",
    "d"
   ]
  },
  {
   "cell_type": "code",
   "execution_count": 16,
   "metadata": {},
   "outputs": [],
   "source": [
    "def get_average_mole_mass(\n",
    "    mass_fractions: list[float],\n",
    "    mol_mass: list[float]\n",
    ") -> float:\n",
    "\n",
    "    return sum(mf / mi for mf, mi in  zip(mass_fractions, mol_mass_list)) ** -1"
   ]
  },
  {
   "cell_type": "code",
   "execution_count": 17,
   "metadata": {},
   "outputs": [
    {
     "data": {
      "text/plain": [
       "42.47266071679689"
      ]
     },
     "execution_count": 17,
     "metadata": {},
     "output_type": "execute_result"
    }
   ],
   "source": [
    "m = get_average_mole_mass(\n",
    "    mass_fractions, mol_mass_list\n",
    ")\n",
    "\n",
    "m"
   ]
  },
  {
   "attachments": {},
   "cell_type": "markdown",
   "metadata": {},
   "source": [
    "# Задание 2"
   ]
  },
  {
   "cell_type": "code",
   "execution_count": 19,
   "metadata": {},
   "outputs": [],
   "source": [
    "def mix(\n",
    "    mass_flows: list[float],\n",
    "    mass_fractions: list[list[float]]\n",
    ") -> list[float]:\n",
    "\n",
    "    mass_fractions_ = [0 for _ in mass_fractions[0]]\n",
    "    mass_flow_rate = sum(mass_flows)\n",
    "    \n",
    "    for i in range(len(mass_flows)):\n",
    "        for j in range(len(mass_fractions[i])):\n",
    "            mass_fractions_[j] += mass_flows[i] * mass_fractions[i][j] / mass_flow_rate\n",
    "\n",
    "    return mass_fractions_    "
   ]
  },
  {
   "cell_type": "code",
   "execution_count": 18,
   "metadata": {},
   "outputs": [],
   "source": [
    "mf1 = [.1, .1, .1, .4, .2, .05, .03, .02]\n",
    "mf2 = [0.1, 0.2, 0.1, 0.3, 0.1, 0.15, 0.03, 0.02]\n",
    "mf3 = [0.1,  0.1,  0.15,  0.35,  0.1,  0.05,  0.08,  0.07]"
   ]
  },
  {
   "cell_type": "code",
   "execution_count": 23,
   "metadata": {},
   "outputs": [],
   "source": [
    "mass_flows = 200, 250, 120\n",
    "mixture_mf = mix(mass_flows, [mf1, mf2, mf3])"
   ]
  },
  {
   "cell_type": "code",
   "execution_count": 24,
   "metadata": {},
   "outputs": [
    {
     "name": "stdout",
     "output_type": "stream",
     "text": [
      "0.09999999999999999\n",
      "0.14385964912280702\n",
      "0.11052631578947368\n",
      "0.34561403508771926\n",
      "0.13508771929824562\n",
      "0.09385964912280702\n",
      "0.04052631578947368\n",
      "0.030526315789473686\n"
     ]
    }
   ],
   "source": [
    "for mf in mixture_mf:\n",
    "    print(mf)"
   ]
  },
  {
   "cell_type": "code",
   "execution_count": null,
   "metadata": {},
   "outputs": [],
   "source": []
  }
 ],
 "metadata": {
  "kernelspec": {
   "display_name": "Python 3",
   "language": "python",
   "name": "python3"
  },
  "language_info": {
   "codemirror_mode": {
    "name": "ipython",
    "version": 3
   },
   "file_extension": ".py",
   "mimetype": "text/x-python",
   "name": "python",
   "nbconvert_exporter": "python",
   "pygments_lexer": "ipython3",
   "version": "3.9.9"
  },
  "orig_nbformat": 4,
  "vscode": {
   "interpreter": {
    "hash": "99d3d31e3e7840070042d2f4b6588508d9dfaca57e4ed17c6ee8f6ca3ecb52cb"
   }
  }
 },
 "nbformat": 4,
 "nbformat_minor": 2
}
