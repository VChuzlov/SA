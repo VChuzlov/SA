{
 "cells": [
  {
   "attachments": {},
   "cell_type": "markdown",
   "metadata": {},
   "source": [
    "# Задание 1\n",
    "\n",
    "Заполнить матрицу $\\mathrm{a}\\left(3, 3\\right)$ случайными целыми числами от $-5$ до $5$. Вывести значения ее элементов на экран. Найти произведение минимального элемента матрицы на сумму ее положительных элементов. Вывести результат."
   ]
  },
  {
   "cell_type": "code",
   "execution_count": 1,
   "metadata": {},
   "outputs": [],
   "source": [
    "import numpy as np"
   ]
  },
  {
   "cell_type": "code",
   "execution_count": 2,
   "metadata": {},
   "outputs": [
    {
     "data": {
      "text/plain": [
       "array([[ 2, -1,  4],\n",
       "       [ 3, -3, -3],\n",
       "       [-2,  4,  1]])"
      ]
     },
     "execution_count": 2,
     "metadata": {},
     "output_type": "execute_result"
    }
   ],
   "source": [
    "a = np.random.randint(-5, 5, (3, 3))\n",
    "a"
   ]
  },
  {
   "cell_type": "code",
   "execution_count": 4,
   "metadata": {},
   "outputs": [
    {
     "data": {
      "text/plain": [
       "(-3, 14, -42)"
      ]
     },
     "execution_count": 4,
     "metadata": {},
     "output_type": "execute_result"
    }
   ],
   "source": [
    "min_a = a.min()\n",
    "sum_a = a.sum(where=a>0)\n",
    "min_a, sum_a, min_a * sum_a"
   ]
  },
  {
   "attachments": {},
   "cell_type": "markdown",
   "metadata": {},
   "source": [
    "# Задание 2\n",
    "\n",
    "Заполнить матрицу $\\mathrm{a}\\left(5, 10\\right)$ случайными целыми числами от $0$ до $9$. Вывести значения элементов матрицы. Найти столбец матрицы с максимальной суммой элементов и вывести эту сумму на экран."
   ]
  },
  {
   "cell_type": "code",
   "execution_count": 5,
   "metadata": {},
   "outputs": [
    {
     "data": {
      "text/plain": [
       "array([[2, 8, 8, 7, 7, 4, 8, 3, 1, 4],\n",
       "       [5, 1, 7, 3, 8, 5, 5, 3, 5, 8],\n",
       "       [8, 1, 0, 2, 5, 6, 6, 7, 5, 6],\n",
       "       [2, 4, 3, 3, 4, 3, 3, 2, 4, 2],\n",
       "       [2, 8, 7, 3, 8, 3, 6, 4, 7, 1]])"
      ]
     },
     "execution_count": 5,
     "metadata": {},
     "output_type": "execute_result"
    }
   ],
   "source": [
    "a = np.random.randint(0, 9, (5, 10))\n",
    "a"
   ]
  },
  {
   "cell_type": "code",
   "execution_count": 7,
   "metadata": {},
   "outputs": [
    {
     "data": {
      "text/plain": [
       "(array([19, 22, 25, 18, 32, 21, 28, 19, 22, 21]), 32)"
      ]
     },
     "execution_count": 7,
     "metadata": {},
     "output_type": "execute_result"
    }
   ],
   "source": [
    "sum_of_cols = a.sum(axis=0)\n",
    "sum_of_cols, sum_of_cols.max()"
   ]
  },
  {
   "attachments": {},
   "cell_type": "markdown",
   "metadata": {},
   "source": [
    "# Задание 3\n",
    "\n",
    "Найти сумму положительных ($p$) и количество отрицательных ($o$) элементов массива $\\mathrm{z}\\left(10\\right)$, заполненного случайными целыми числами в диапазоне $\\left[-7; 5\\right]$ и минимальный элемент $\\left(b_{min}\\right)$ второго столбца матрицы $\\mathrm{b\\left(5, 5\\right)}$, заполненной случайными числами в диапазоне $\\left[-10; 20\\right]$, и вычислить значения элементов массива $x_i$:\n",
    "\n",
    "$\n",
    "\tx_i = \\dfrac{\\sqrt{p}}{o + a \\cdot c} + b_{min} \\cdot k^2 + z_i\n",
    "$\n",
    "\n",
    "где $a = 2.5\\mathrm{e-}3; \\quad c = 175; \\quad k = 8$."
   ]
  },
  {
   "cell_type": "code",
   "execution_count": 8,
   "metadata": {},
   "outputs": [
    {
     "data": {
      "text/plain": [
       "array([ 1, -4, -5, -2,  4,  3, -2, -4,  4,  0])"
      ]
     },
     "execution_count": 8,
     "metadata": {},
     "output_type": "execute_result"
    }
   ],
   "source": [
    "z = np.random.randint(-7, 5, 10)\n",
    "z"
   ]
  },
  {
   "cell_type": "code",
   "execution_count": 9,
   "metadata": {},
   "outputs": [
    {
     "data": {
      "text/plain": [
       "(12, 5)"
      ]
     },
     "execution_count": 9,
     "metadata": {},
     "output_type": "execute_result"
    }
   ],
   "source": [
    "p = z.sum(where=z>0)\n",
    "o = z[z<0].shape[0]\n",
    "p, o"
   ]
  },
  {
   "cell_type": "code",
   "execution_count": 10,
   "metadata": {},
   "outputs": [
    {
     "data": {
      "text/plain": [
       "array([[ 10, -10,   3,  11,  -2],\n",
       "       [ -2,   3,  18,  -3,  18],\n",
       "       [ -2,   4,  11,  -3,   6],\n",
       "       [ 19,  -3,  16,   8,  16],\n",
       "       [ 16,   6,  -1,   3,   2]])"
      ]
     },
     "execution_count": 10,
     "metadata": {},
     "output_type": "execute_result"
    }
   ],
   "source": [
    "b = np.random.randint(-10, 20, (5, 5))\n",
    "b"
   ]
  },
  {
   "cell_type": "code",
   "execution_count": 11,
   "metadata": {},
   "outputs": [
    {
     "data": {
      "text/plain": [
       "-10"
      ]
     },
     "execution_count": 11,
     "metadata": {},
     "output_type": "execute_result"
    }
   ],
   "source": [
    "bmin = b[:, 1].min()\n",
    "bmin"
   ]
  },
  {
   "cell_type": "code",
   "execution_count": 12,
   "metadata": {},
   "outputs": [],
   "source": [
    "a, c, k = 2.5e-3, 175, 8"
   ]
  },
  {
   "cell_type": "code",
   "execution_count": 13,
   "metadata": {},
   "outputs": [
    {
     "data": {
      "text/plain": [
       "array([-638.36292384, -643.36292384, -644.36292384, -641.36292384,\n",
       "       -635.36292384, -636.36292384, -641.36292384, -643.36292384,\n",
       "       -635.36292384, -639.36292384])"
      ]
     },
     "execution_count": 13,
     "metadata": {},
     "output_type": "execute_result"
    }
   ],
   "source": [
    "x = p ** .5 / (o + a * c) + bmin * k ** 2 + z\n",
    "x"
   ]
  },
  {
   "cell_type": "code",
   "execution_count": null,
   "metadata": {},
   "outputs": [],
   "source": []
  }
 ],
 "metadata": {
  "kernelspec": {
   "display_name": "Python 3",
   "language": "python",
   "name": "python3"
  },
  "language_info": {
   "codemirror_mode": {
    "name": "ipython",
    "version": 3
   },
   "file_extension": ".py",
   "mimetype": "text/x-python",
   "name": "python",
   "nbconvert_exporter": "python",
   "pygments_lexer": "ipython3",
   "version": "3.9.9"
  },
  "orig_nbformat": 4,
  "vscode": {
   "interpreter": {
    "hash": "99d3d31e3e7840070042d2f4b6588508d9dfaca57e4ed17c6ee8f6ca3ecb52cb"
   }
  }
 },
 "nbformat": 4,
 "nbformat_minor": 2
}
