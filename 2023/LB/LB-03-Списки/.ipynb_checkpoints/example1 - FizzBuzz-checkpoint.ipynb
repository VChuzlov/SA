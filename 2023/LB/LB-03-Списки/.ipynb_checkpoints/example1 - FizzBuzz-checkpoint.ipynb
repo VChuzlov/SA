{
 "cells": [
  {
   "cell_type": "code",
   "execution_count": 1,
   "metadata": {},
   "outputs": [
    {
     "name": "stdout",
     "output_type": "stream",
     "text": [
      "Введите положительное целое число: 15\n",
      "Fiiz Buzz\n"
     ]
    }
   ],
   "source": [
    "x = int(input('Введите положительное целое число: '))\n",
    "\n",
    "if not x % 3 and not x % 5:\n",
    "    print(\"Fizz Buzz\")\n",
    "\n",
    "elif not x % 3:\n",
    "    print(\"Fizz\")\n",
    "\n",
    "elif not x % 5:\n",
    "    print(\"Buzz\")\n",
    "    \n",
    "else:\n",
    "    print(x)"
   ]
  },
  {
   "cell_type": "code",
   "execution_count": 2,
   "metadata": {},
   "outputs": [
    {
     "name": "stdout",
     "output_type": "stream",
     "text": [
      "Введите положительное целое число: 7\n",
      "7\n"
     ]
    }
   ],
   "source": [
    "x = int(input('Введите положительное целое число: '))\n",
    "\n",
    "if not x % 3 and not x % 5:\n",
    "    print(\"Fizz Buzz\")\n",
    "\n",
    "elif not x % 3:\n",
    "    print(\"Fizz\")\n",
    "\n",
    "elif not x % 5:\n",
    "    print(\"Buzz\")\n",
    "    \n",
    "else:\n",
    "    print(x)"
   ]
  },
  {
   "cell_type": "code",
   "execution_count": 3,
   "metadata": {},
   "outputs": [
    {
     "name": "stdout",
     "output_type": "stream",
     "text": [
      "Введите положительное целое число: 25\n",
      "Buzz\n"
     ]
    }
   ],
   "source": [
    "x = int(input('Введите положительное целое число: '))\n",
    "\n",
    "if not x % 3 and not x % 5:\n",
    "    print(\"Fizz Buzz\")\n",
    "\n",
    "elif not x % 3:\n",
    "    print(\"Fizz\")\n",
    "\n",
    "elif not x % 5:\n",
    "    print(\"Buzz\")\n",
    "    \n",
    "else:\n",
    "    print(x)"
   ]
  },
  {
   "cell_type": "code",
   "execution_count": 4,
   "metadata": {},
   "outputs": [
    {
     "name": "stdout",
     "output_type": "stream",
     "text": [
      "Введите положительное целое число: 12\n",
      "Fizz\n"
     ]
    }
   ],
   "source": [
    "x = int(input('Введите положительное целое число: '))\n",
    "\n",
    "if not x % 3 and not x % 5:\n",
    "    print(\"Fizz Buzz\")\n",
    "\n",
    "elif not x % 3:\n",
    "    print(\"Fizz\")\n",
    "\n",
    "elif not x % 5:\n",
    "    print(\"Buzz\")\n",
    "    \n",
    "else:\n",
    "    print(x)"
   ]
  },
  {
   "cell_type": "code",
   "execution_count": null,
   "metadata": {},
   "outputs": [],
   "source": []
  }
 ],
 "metadata": {
  "kernelspec": {
   "display_name": "Python 3",
   "language": "python",
   "name": "python3"
  },
  "language_info": {
   "codemirror_mode": {
    "name": "ipython",
    "version": 3
   },
   "file_extension": ".py",
   "mimetype": "text/x-python",
   "name": "python",
   "nbconvert_exporter": "python",
   "pygments_lexer": "ipython3",
   "version": "3.8.5"
  }
 },
 "nbformat": 4,
 "nbformat_minor": 4
}
