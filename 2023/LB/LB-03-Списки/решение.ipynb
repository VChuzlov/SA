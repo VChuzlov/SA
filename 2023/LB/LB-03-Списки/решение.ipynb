{
 "cells": [
  {
   "cell_type": "code",
   "execution_count": 1,
   "metadata": {},
   "outputs": [],
   "source": [
    "nc = [1, 2, 3, 4, 4, 5, 5, 6]\n",
    "mol_mass_list = [12 * n + 1 * (2 * n + 2) for n in nc]"
   ]
  },
  {
   "cell_type": "code",
   "execution_count": 2,
   "metadata": {},
   "outputs": [
    {
     "data": {
      "text/plain": [
       "[16, 30, 44, 58, 58, 72, 72, 86]"
      ]
     },
     "execution_count": 2,
     "metadata": {},
     "output_type": "execute_result"
    }
   ],
   "source": [
    "mol_mass_list"
   ]
  },
  {
   "cell_type": "code",
   "execution_count": 6,
   "metadata": {},
   "outputs": [],
   "source": [
    "mass_fractions = [.1, .1, .1, .4, .2, .05, .03, .02]\n",
    "densities = [0.416, 0.546, 0.585, 0.5510, 0.6, 0.616, 0.6262, 0.6594]\n",
    "mol_mass_list = [16, 30, 44, 58, 58, 72, 72, 86]"
   ]
  },
  {
   "cell_type": "code",
   "execution_count": 7,
   "metadata": {},
   "outputs": [],
   "source": [
    "volume_fractions = [mf / d for mf, d in zip(mass_fractions, densities)]\n",
    "s = sum(volume_fractions)\n",
    "volume_fractions = [vof / s for vof in volume_fractions]"
   ]
  },
  {
   "cell_type": "code",
   "execution_count": 11,
   "metadata": {},
   "outputs": [],
   "source": [
    "# Alternative\n",
    "volume_fractions = []\n",
    "\n",
    "for mf, d in zip(mass_fractions, densities):\n",
    "    volume_fractions.append(mf / d)\n",
    "\n",
    "s = sum(volume_fractions)\n",
    "\n",
    "for i in range(len(volume_fractions)):\n",
    "    volume_fractions[i] /= s"
   ]
  },
  {
   "cell_type": "code",
   "execution_count": 14,
   "metadata": {},
   "outputs": [
    {
     "name": "stdout",
     "output_type": "stream",
     "text": [
      "0.1326 0.1010 0.0943 0.4004 0.1838 0.0448 0.0264 0.0167 "
     ]
    }
   ],
   "source": [
    "for vof in volume_fractions:\n",
    "    print(f'{vof:.4f}', end=' ')"
   ]
  },
  {
   "cell_type": "code",
   "execution_count": 12,
   "metadata": {},
   "outputs": [],
   "source": [
    "mole_fractions = [mf / mi for mf, mi in zip(mass_fractions, mol_mass_list)]\n",
    "s = sum(mole_fractions)\n",
    "mole_fractions = [mof / s for mof in mole_fractions]"
   ]
  },
  {
   "cell_type": "code",
   "execution_count": null,
   "metadata": {},
   "outputs": [],
   "source": []
  }
 ],
 "metadata": {
  "kernelspec": {
   "display_name": "Python 3",
   "language": "python",
   "name": "python3"
  },
  "language_info": {
   "codemirror_mode": {
    "name": "ipython",
    "version": 3
   },
   "file_extension": ".py",
   "mimetype": "text/x-python",
   "name": "python",
   "nbconvert_exporter": "python",
   "pygments_lexer": "ipython3",
   "version": "3.10.6"
  },
  "orig_nbformat": 4,
  "vscode": {
   "interpreter": {
    "hash": "b7f148223e238d379c3c5459d172147939ca7cf4c59ad59acaa31d5b5144f233"
   }
  }
 },
 "nbformat": 4,
 "nbformat_minor": 2
}
