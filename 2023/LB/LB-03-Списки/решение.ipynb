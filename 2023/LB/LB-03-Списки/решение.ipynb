{
 "cells": [
  {
   "cell_type": "code",
   "execution_count": 1,
   "metadata": {},
   "outputs": [],
   "source": [
    "nc = [1, 2, 3, 4, 4, 5, 5, 6]\n",
    "mol_mass_list = [12 * n + 1 * (2 * n + 2) for n in nc]"
   ]
  },
  {
   "cell_type": "code",
   "execution_count": 2,
   "metadata": {},
   "outputs": [
    {
     "data": {
      "text/plain": [
       "[16, 30, 44, 58, 58, 72, 72, 86]"
      ]
     },
     "execution_count": 2,
     "metadata": {},
     "output_type": "execute_result"
    }
   ],
   "source": [
    "mol_mass_list"
   ]
  },
  {
   "cell_type": "code",
   "execution_count": 3,
   "metadata": {},
   "outputs": [],
   "source": [
    "mass_fractions = [.1, .1, .1, .4, .2, .05, .03, .02]\n",
    "densities = [0.416, 0.546, 0.585, 0.5510, 0.6, 0.616, 0.6262, 0.6594]\n",
    "mol_mass_list = [16, 30, 44, 58, 58, 72, 72, 86]"
   ]
  },
  {
   "cell_type": "code",
   "execution_count": 4,
   "metadata": {},
   "outputs": [],
   "source": [
    "volume_fractions = [mf / d for mf, d in zip(mass_fractions, densities)]\n",
    "s = sum(volume_fractions)\n",
    "volume_fractions = [vof / s for vof in volume_fractions]"
   ]
  },
  {
   "cell_type": "code",
   "execution_count": 5,
   "metadata": {},
   "outputs": [],
   "source": [
    "# Alternative\n",
    "volume_fractions = []\n",
    "\n",
    "for mf, d in zip(mass_fractions, densities):\n",
    "    volume_fractions.append(mf / d)\n",
    "\n",
    "s = sum(volume_fractions)\n",
    "\n",
    "for i in range(len(volume_fractions)):\n",
    "    volume_fractions[i] /= s"
   ]
  },
  {
   "cell_type": "code",
   "execution_count": 6,
   "metadata": {},
   "outputs": [
    {
     "name": "stdout",
     "output_type": "stream",
     "text": [
      "0.1326 0.1010 0.0943 0.4004 0.1838 0.0448 0.0264 0.0167 "
     ]
    }
   ],
   "source": [
    "for vof in volume_fractions:\n",
    "    print(f'{vof:.4f}', end=' ')"
   ]
  },
  {
   "attachments": {},
   "cell_type": "markdown",
   "metadata": {},
   "source": [
    "# Задание 1"
   ]
  },
  {
   "cell_type": "code",
   "execution_count": 7,
   "metadata": {},
   "outputs": [
    {
     "name": "stdout",
     "output_type": "stream",
     "text": [
      "0.2655 0.1416 0.0965 0.2929 0.1465 0.0295 0.0177 0.0099 "
     ]
    }
   ],
   "source": [
    "mole_fractions = [mf / mi for mf, mi in zip(mass_fractions, mol_mass_list)]\n",
    "s = sum(mole_fractions)\n",
    "mole_fractions = [mof / s for mof in mole_fractions]\n",
    "for mof in mole_fractions:\n",
    "    print(f'{mof:.4f}', end=' ')"
   ]
  },
  {
   "cell_type": "code",
   "execution_count": 8,
   "metadata": {},
   "outputs": [
    {
     "data": {
      "text/plain": [
       "0.5515207014243224"
      ]
     },
     "execution_count": 8,
     "metadata": {},
     "output_type": "execute_result"
    }
   ],
   "source": [
    "d = sum(mf / d for mf, d in zip(mass_fractions, densities)) ** -1\n",
    "d"
   ]
  },
  {
   "cell_type": "code",
   "execution_count": 10,
   "metadata": {},
   "outputs": [
    {
     "data": {
      "text/plain": [
       "42.47266071679689"
      ]
     },
     "execution_count": 10,
     "metadata": {},
     "output_type": "execute_result"
    }
   ],
   "source": [
    "m = sum(mf / mi for mf, mi in  zip(mass_fractions, mol_mass_list)) ** -1\n",
    "m"
   ]
  },
  {
   "attachments": {},
   "cell_type": "markdown",
   "metadata": {},
   "source": [
    "# Задание 2"
   ]
  },
  {
   "cell_type": "code",
   "execution_count": 11,
   "metadata": {},
   "outputs": [],
   "source": [
    "mf1 = [.1, .1, .1, .4, .2, .05, .03, .02]\n",
    "mf2 = [0.1, 0.2, 0.1, 0.3, 0.1, 0.15, 0.03, 0.02]\n",
    "mf3 = [0.1,  0.1,  0.15,  0.35,  0.1,  0.05,  0.08,  0.07]"
   ]
  },
  {
   "cell_type": "code",
   "execution_count": 18,
   "metadata": {},
   "outputs": [],
   "source": [
    "mole_flows = 100, 150, 120\n",
    "mole_flow_rate = sum(mole_flows)"
   ]
  },
  {
   "cell_type": "code",
   "execution_count": 13,
   "metadata": {},
   "outputs": [],
   "source": [
    "def mass_to_mole_fractions(mf: list, m: list) -> list:\n",
    "    mof = [mfi / mi for mfi, mi in zip(mf, m)]\n",
    "    s = sum(mof)\n",
    "    mof = [mfi / s for mfi in mof]\n",
    "    return mof"
   ]
  },
  {
   "cell_type": "code",
   "execution_count": 17,
   "metadata": {},
   "outputs": [],
   "source": [
    "mof1 = mass_to_mole_fractions(mf1, mol_mass_list)\n",
    "mof2 = mass_to_mole_fractions(mf2, mol_mass_list)\n",
    "mof3 = mass_to_mole_fractions(mf3, mol_mass_list)\n",
    "mof_list = [mof1, mof2, mof3]"
   ]
  },
  {
   "cell_type": "code",
   "execution_count": 20,
   "metadata": {},
   "outputs": [],
   "source": [
    "mole_fractions = [0 for _ in range(len(mf1))]\n",
    "for j, mole_flow in enumerate(mole_flows):\n",
    "    for i, mof in enumerate(mof_list[j]):\n",
    "        mole_fractions[i] += mof * mole_flow / mole_flow_rate"
   ]
  },
  {
   "cell_type": "code",
   "execution_count": 21,
   "metadata": {},
   "outputs": [
    {
     "data": {
      "text/plain": [
       "[0.2605711178844533,\n",
       " 0.19342061090953694,\n",
       " 0.11052299395700325,\n",
       " 0.24739995268126325,\n",
       " 0.091673235090584,\n",
       " 0.051639574780701115,\n",
       " 0.02700854463614258,\n",
       " 0.01776397006031559]"
      ]
     },
     "execution_count": 21,
     "metadata": {},
     "output_type": "execute_result"
    }
   ],
   "source": [
    "mole_fractions"
   ]
  },
  {
   "cell_type": "code",
   "execution_count": 24,
   "metadata": {},
   "outputs": [
    {
     "data": {
      "text/plain": [
       "[0.09999999999999999,\n",
       " 0.13918029304237778,\n",
       " 0.1166431014493848,\n",
       " 0.3441766055082374,\n",
       " 0.12753350405885266,\n",
       " 0.08918029304237773,\n",
       " 0.04664310144938479,\n",
       " 0.036643101449384805]"
      ]
     },
     "execution_count": 24,
     "metadata": {},
     "output_type": "execute_result"
    }
   ],
   "source": [
    "mass_fractions = [mof * mi for mof, mi in zip(mole_fractions, mol_mass_list)]\n",
    "s = sum(mass_fractions)\n",
    "mass_fractions = [mf / s for mf in mass_fractions]\n",
    "mass_fractions"
   ]
  },
  {
   "attachments": {},
   "cell_type": "markdown",
   "metadata": {},
   "source": [
    "### Alternative"
   ]
  },
  {
   "cell_type": "code",
   "execution_count": 30,
   "metadata": {},
   "outputs": [],
   "source": [
    "m1 = sum(mofi * mi for mofi, mi in zip(mof1, mol_mass_list))\n",
    "m2 = sum(mofi * mi for mofi, mi in zip(mof2, mol_mass_list))\n",
    "m3 = sum(mofi * mi for mofi, mi in zip(mof3, mol_mass_list))"
   ]
  },
  {
   "cell_type": "code",
   "execution_count": 31,
   "metadata": {},
   "outputs": [
    {
     "data": {
      "text/plain": [
       "(42.472660716796895, 40.29251754799308, 42.788887290674886)"
      ]
     },
     "execution_count": 31,
     "metadata": {},
     "output_type": "execute_result"
    }
   ],
   "source": [
    "m1, m2, m3"
   ]
  },
  {
   "cell_type": "code",
   "execution_count": 32,
   "metadata": {},
   "outputs": [
    {
     "data": {
      "text/plain": [
       "15425.810178759635"
      ]
     },
     "execution_count": 32,
     "metadata": {},
     "output_type": "execute_result"
    }
   ],
   "source": [
    "mass_flows = [mole_flow * mi for mole_flow, mi in zip(mole_flows, [m1, m2, m3])]\n",
    "mass_flow_rate = sum(mass_flows)\n",
    "mass_flow_rate"
   ]
  },
  {
   "cell_type": "code",
   "execution_count": 36,
   "metadata": {},
   "outputs": [],
   "source": [
    "mass_fractions = [0 for *_, in enumerate(mf1)]\n",
    "for mf, mass_flow in zip([mf1, mf2, mf3], mass_flows):\n",
    "    for i, f in enumerate(mf):\n",
    "        mass_fractions[i] += f * mass_flow / mass_flow_rate"
   ]
  },
  {
   "cell_type": "code",
   "execution_count": 37,
   "metadata": {},
   "outputs": [
    {
     "data": {
      "text/plain": [
       "[0.10000000000000002,\n",
       " 0.13918029304237778,\n",
       " 0.11664310144938483,\n",
       " 0.3441766055082375,\n",
       " 0.12753350405885266,\n",
       " 0.08918029304237776,\n",
       " 0.0466431014493848,\n",
       " 0.036643101449384805]"
      ]
     },
     "execution_count": 37,
     "metadata": {},
     "output_type": "execute_result"
    }
   ],
   "source": [
    "mass_fractions"
   ]
  },
  {
   "cell_type": "code",
   "execution_count": 38,
   "metadata": {},
   "outputs": [
    {
     "data": {
      "text/plain": [
       "[0.2605711178844533,\n",
       " 0.19342061090953688,\n",
       " 0.11052299395700325,\n",
       " 0.2473999526812632,\n",
       " 0.09167323509058399,\n",
       " 0.05163957478070111,\n",
       " 0.027008544636142575,\n",
       " 0.017763970060315586]"
      ]
     },
     "execution_count": 38,
     "metadata": {},
     "output_type": "execute_result"
    }
   ],
   "source": [
    "mole_fractions = [mf / mi for mf, mi in zip(mass_fractions, mol_mass_list)]\n",
    "s = sum(mole_fractions)\n",
    "mole_fractions = [mof / s for mof in mole_fractions]\n",
    "mole_fractions"
   ]
  },
  {
   "cell_type": "code",
   "execution_count": null,
   "metadata": {},
   "outputs": [],
   "source": []
  }
 ],
 "metadata": {
  "kernelspec": {
   "display_name": "Python 3",
   "language": "python",
   "name": "python3"
  },
  "language_info": {
   "codemirror_mode": {
    "name": "ipython",
    "version": 3
   },
   "file_extension": ".py",
   "mimetype": "text/x-python",
   "name": "python",
   "nbconvert_exporter": "python",
   "pygments_lexer": "ipython3",
   "version": "3.10.6"
  },
  "orig_nbformat": 4,
  "vscode": {
   "interpreter": {
    "hash": "b7f148223e238d379c3c5459d172147939ca7cf4c59ad59acaa31d5b5144f233"
   }
  }
 },
 "nbformat": 4,
 "nbformat_minor": 2
}
