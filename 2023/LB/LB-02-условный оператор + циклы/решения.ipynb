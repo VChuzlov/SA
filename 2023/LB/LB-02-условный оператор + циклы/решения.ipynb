{
 "cells": [
  {
   "cell_type": "code",
   "execution_count": 1,
   "metadata": {},
   "outputs": [],
   "source": [
    "import math"
   ]
  },
  {
   "attachments": {},
   "cell_type": "markdown",
   "metadata": {},
   "source": [
    "# Задание 1"
   ]
  },
  {
   "cell_type": "code",
   "execution_count": 2,
   "metadata": {},
   "outputs": [],
   "source": [
    "start, stop = -5, 6\n",
    "a, c, y, k = 26, 28.96, 1.3, 9.86"
   ]
  },
  {
   "cell_type": "code",
   "execution_count": 9,
   "metadata": {},
   "outputs": [
    {
     "name": "stdout",
     "output_type": "stream",
     "text": [
      "-5  -4.4424\n",
      "-4  -3.4485\n",
      "-3  -2.4522\n",
      "-2  -1.4546\n",
      "-1  -0.4563\n",
      " 0  -1.0000\n",
      " 1   1.5425\n",
      " 2   2.5417\n",
      " 3   3.5411\n",
      " 4  12.8962\n",
      " 5  13.1376\n",
      " 6   0.0000\n"
     ]
    }
   ],
   "source": [
    "for x in range(start, stop+1):\n",
    "    if -5 <= x < 0 or 0 < x <= 3:\n",
    "        f = x + x / (x - y / (25 - k)) * math.tan(k) / (k + x) ** 2 + y ** 2 / k ** .5\n",
    "    elif x == 0:\n",
    "        f = x ** 3 + a * x ** (2 - y * x) - math.cos(x) ** 2 + (x * y) ** (1 / 3) / (34 - a)\n",
    "    elif 3 < x <= 5:\n",
    "        f = 1 / x * math.log(1 + 2 * y) + c / (4 - (3 * y + 5 * x) ** (1 / 6))\n",
    "    else:\n",
    "        f = 0\n",
    "    print(f'{x:2} {f:>8.4f}')"
   ]
  },
  {
   "attachments": {},
   "cell_type": "markdown",
   "metadata": {},
   "source": [
    "# Задание 2"
   ]
  },
  {
   "cell_type": "code",
   "execution_count": 11,
   "metadata": {},
   "outputs": [],
   "source": [
    "k0, R = 100, 8.314\n",
    "t0, tf, h = 700, 750, 5"
   ]
  },
  {
   "cell_type": "code",
   "execution_count": 12,
   "metadata": {},
   "outputs": [
    {
     "name": "stdout",
     "output_type": "stream",
     "text": [
      "700  98.9743\n",
      "705  98.9816\n",
      "710  98.9887\n",
      "715  98.9957\n",
      "720  99.0027\n",
      "725  99.0260\n",
      "730  99.0326\n",
      "735  99.0716\n",
      "740  99.0778\n",
      "745  99.0840\n",
      "750  99.0900\n"
     ]
    }
   ],
   "source": [
    "for t in range(t0, tf+h, h):\n",
    "    if t <= 720:\n",
    "        ea = 60\n",
    "    \n",
    "    elif 720 < t <= 730:\n",
    "        ea = 59\n",
    "    \n",
    "    else:\n",
    "        ea = 57\n",
    "    \n",
    "    k = k0 * math.exp(-ea / (R * t))\n",
    "    print(f'{t} {k:>8.4f}')"
   ]
  },
  {
   "cell_type": "code",
   "execution_count": null,
   "metadata": {},
   "outputs": [],
   "source": []
  }
 ],
 "metadata": {
  "kernelspec": {
   "display_name": "Python 3",
   "language": "python",
   "name": "python3"
  },
  "language_info": {
   "codemirror_mode": {
    "name": "ipython",
    "version": 3
   },
   "file_extension": ".py",
   "mimetype": "text/x-python",
   "name": "python",
   "nbconvert_exporter": "python",
   "pygments_lexer": "ipython3",
   "version": "3.10.6"
  },
  "orig_nbformat": 4,
  "vscode": {
   "interpreter": {
    "hash": "b7f148223e238d379c3c5459d172147939ca7cf4c59ad59acaa31d5b5144f233"
   }
  }
 },
 "nbformat": 4,
 "nbformat_minor": 2
}
