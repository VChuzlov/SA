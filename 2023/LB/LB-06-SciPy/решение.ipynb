{
 "cells": [
  {
   "attachments": {},
   "cell_type": "markdown",
   "metadata": {},
   "source": [
    "# Задание 1\n",
    "\n",
    "Дана зависимость энтальпии от температуры:\n",
    "\n",
    "Определить значения энтальпии при изменении $Т$ от $300$ до $1000$ с шагом $50$ К, используя:\n",
    "\n",
    "1. Кубический сплайн;\n",
    "2. Линейную аппроксимацию"
   ]
  },
  {
   "cell_type": "code",
   "execution_count": 1,
   "metadata": {},
   "outputs": [],
   "source": [
    "import numpy as np\n",
    "from scipy.interpolate import interp1d\n",
    "from scipy.optimize import leastsq"
   ]
  },
  {
   "cell_type": "code",
   "execution_count": 2,
   "metadata": {},
   "outputs": [],
   "source": [
    "def linear(x, params):\n",
    "    a, b = params\n",
    "    return a + b * x"
   ]
  },
  {
   "cell_type": "code",
   "execution_count": 3,
   "metadata": {},
   "outputs": [],
   "source": [
    "def residuals(params, x, y, func):\n",
    "    return y - func(x, params)"
   ]
  },
  {
   "cell_type": "code",
   "execution_count": 6,
   "metadata": {},
   "outputs": [],
   "source": [
    "t = np.array([300, 400, 500, 600, 700, 800, 900, 1000])\n",
    "dh = np.array([29.62, 21.88, 15.52, 10.38, 6.40, 3.35, 1.13, 0.21])"
   ]
  },
  {
   "cell_type": "code",
   "execution_count": 7,
   "metadata": {},
   "outputs": [],
   "source": [
    "t_new = np.arange(300, 1050, 50)"
   ]
  },
  {
   "cell_type": "code",
   "execution_count": 9,
   "metadata": {},
   "outputs": [
    {
     "data": {
      "text/plain": [
       "array([29.62      , 25.56507775, 21.88      , 18.53992225, 15.52      ,\n",
       "       12.80023325, 10.38      ,  8.25664474,  6.4       ,  4.7744378 ,\n",
       "        3.35      ,  2.11560407,  1.13      ,  0.46939593,  0.21      ])"
      ]
     },
     "execution_count": 9,
     "metadata": {},
     "output_type": "execute_result"
    }
   ],
   "source": [
    "cubic = interp1d(t, dh, kind='cubic')\n",
    "dh_cubic = cubic(t_new)\n",
    "dh_cubic"
   ]
  },
  {
   "cell_type": "code",
   "execution_count": 10,
   "metadata": {},
   "outputs": [
    {
     "data": {
      "text/plain": [
       "array([25.64916667, 23.56517857, 21.48119048, 19.39720238, 17.31321429,\n",
       "       15.22922619, 13.14523809, 11.06125   ,  8.9772619 ,  6.89327381,\n",
       "        4.80928571,  2.72529762,  0.64130952, -1.44267857, -3.52666667])"
      ]
     },
     "execution_count": 10,
     "metadata": {},
     "output_type": "execute_result"
    }
   ],
   "source": [
    "lparams, *_ = leastsq(residuals, x0=(.5, .5), args=(t, dh, linear))\n",
    "dh_linear = linear(t_new, lparams)\n",
    "dh_linear"
   ]
  },
  {
   "attachments": {},
   "cell_type": "markdown",
   "metadata": {},
   "source": [
    "# Задание 2\n",
    "\n",
    "Используя функцию `scipy.integrate.quad`, вычислите значение энтропии воды при ее нагревании от $400$ до $500$ К по формуле:\n",
    "\t\n",
    "$ \\Delta S = \\eta \\cdot \\int\\limits_{400}^{500} \\dfrac{C_v \\cdot dT}{T} $\n",
    "\t\n",
    "Количество молей $\\eta = 3$; значение теплоемкости $C_v = 35.0$ Дж / (моль $\\cdot$ К)."
   ]
  },
  {
   "cell_type": "code",
   "execution_count": 11,
   "metadata": {},
   "outputs": [],
   "source": [
    "from scipy.integrate import quad"
   ]
  },
  {
   "cell_type": "code",
   "execution_count": 12,
   "metadata": {},
   "outputs": [],
   "source": [
    "def func(t, cv, eta):\n",
    "    return cv * eta / t"
   ]
  },
  {
   "cell_type": "code",
   "execution_count": 14,
   "metadata": {},
   "outputs": [],
   "source": [
    "a, b = 400, 500\n",
    "cv, eta = 35, 3"
   ]
  },
  {
   "cell_type": "code",
   "execution_count": 15,
   "metadata": {},
   "outputs": [
    {
     "data": {
      "text/plain": [
       "(23.430072887992026, 2.6012606388894386e-13)"
      ]
     },
     "execution_count": 15,
     "metadata": {},
     "output_type": "execute_result"
    }
   ],
   "source": [
    "res = quad(func, a, b, args=(cv, eta))\n",
    "res"
   ]
  },
  {
   "attachments": {},
   "cell_type": "markdown",
   "metadata": {},
   "source": [
    "# Задание 3\n",
    "\n",
    "Дана схема химических превращений:\n",
    "\n",
    "$\n",
    "\\left\\{\n",
    "\t\\begin{aligned}\n",
    "\t\t\\dfrac{dC_A}{dt} &= -k_1 \\cdot C_A -k_2 \\cdot C_A + k_3 \\cdot C_C \\\\\n",
    "\t\t\\dfrac{dC_B}{dt} &=  k_1 \\cdot C_A  \\\\\n",
    "\t\t\\dfrac{dC_C}{dt} &=  k_2 \\cdot C_A - k_3 \\cdot C_C \\\\\n",
    "\t\\end{aligned}\n",
    "\\right.\n",
    "$\n",
    "\n",
    "$C_{A_0} = 0.7$ $\\left(\\text{моль/л}\\right)$; $k_1 = 0.21 \\left(c^{-1}\\right)$;\n",
    "\n",
    "$C_{B_0} = 0.0 \\left(\\text{моль/л}\\right)$; $k_2 = 0.12 \\left(c^{-1}\\right)$;\n",
    "\n",
    "$C_{C_0} = 0.0 \\left(\\text{моль/л}\\right); k_3 = 0.18 \\left(c^{-1}\\right)$.\n",
    "\n",
    "Решите систему дифференциальных уравнений изменения концентраций веществ по времени на отрезке $\\left[0;10\\right]$ с шагом $h=1$."
   ]
  },
  {
   "cell_type": "code",
   "execution_count": 16,
   "metadata": {},
   "outputs": [],
   "source": [
    "from scipy.integrate import solve_ivp"
   ]
  },
  {
   "cell_type": "code",
   "execution_count": 17,
   "metadata": {},
   "outputs": [],
   "source": [
    "c0 = .7, .0, .0\n",
    "k = .21, .12, .18\n",
    "t0, tf, h = 0, 10, 1\n",
    "t = np.arange(t0, tf+h, h)"
   ]
  },
  {
   "cell_type": "code",
   "execution_count": 18,
   "metadata": {},
   "outputs": [],
   "source": [
    "def foo(t, c, k):\n",
    "    return [\n",
    "        -k[0] * c[0] - k[1] * c[0] + k[2] * c[2],\n",
    "        k[0] * c[0],\n",
    "        k[1] * c[0] - k[2] * c[2]\n",
    "    ]"
   ]
  },
  {
   "cell_type": "code",
   "execution_count": 20,
   "metadata": {},
   "outputs": [],
   "source": [
    "solution = solve_ivp(\n",
    "    foo, (t0, tf), c0, dense_output=True, args=(k,)\n",
    ")\n",
    "ca, cb, cc = solution.sol(t)"
   ]
  },
  {
   "cell_type": "code",
   "execution_count": 22,
   "metadata": {},
   "outputs": [
    {
     "name": "stdout",
     "output_type": "stream",
     "text": [
      "  0.7000   0.0000   0.0000\n",
      "  0.5090   0.1256   0.0654\n",
      "  0.3792   0.2180   0.1027\n",
      "  0.2901   0.2878   0.1221\n",
      "  0.2281   0.3418   0.1301\n",
      "  0.1841   0.3848   0.1311\n",
      "  0.1522   0.4199   0.1279\n",
      "  0.1286   0.4493   0.1221\n",
      "  0.1106   0.4743   0.1151\n",
      "  0.0966   0.4960   0.1074\n",
      "  0.0853   0.5151   0.0997\n"
     ]
    }
   ],
   "source": [
    "for a, b, c in zip(ca, cb, cc):\n",
    "    print(f'{a:>8.4f} {b:>8.4f} {c:>8.4f}')"
   ]
  },
  {
   "cell_type": "code",
   "execution_count": null,
   "metadata": {},
   "outputs": [],
   "source": []
  }
 ],
 "metadata": {
  "kernelspec": {
   "display_name": "Python 3",
   "language": "python",
   "name": "python3"
  },
  "language_info": {
   "codemirror_mode": {
    "name": "ipython",
    "version": 3
   },
   "file_extension": ".py",
   "mimetype": "text/x-python",
   "name": "python",
   "nbconvert_exporter": "python",
   "pygments_lexer": "ipython3",
   "version": "3.9.9"
  },
  "orig_nbformat": 4,
  "vscode": {
   "interpreter": {
    "hash": "99d3d31e3e7840070042d2f4b6588508d9dfaca57e4ed17c6ee8f6ca3ecb52cb"
   }
  }
 },
 "nbformat": 4,
 "nbformat_minor": 2
}
